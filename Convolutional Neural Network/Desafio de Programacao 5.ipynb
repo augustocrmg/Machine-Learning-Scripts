{
 "cells": [
  {
   "cell_type": "markdown",
   "metadata": {
    "id": "HVc1JHm4e_p_"
   },
   "source": [
    "# Tarefa de Programação 5: Reconhecimento de Imagem com Redes Neurais Convolucionais"
   ]
  },
  {
   "cell_type": "markdown",
   "metadata": {
    "id": "4soLmcaYyTUI"
   },
   "source": [
    "## Identificação:\n",
    "\n",
    "**Nome do avatar: **\n",
    "\n",
    "**Matrícula: 190084731**"
   ]
  },
  {
   "cell_type": "markdown",
   "metadata": {
    "id": "8HfvQgKlYJhK"
   },
   "source": [
    "## Introdução\n",
    "\n",
    "Neste exercício, nós utilizaremos Redes Neurais Convolucionais para implementar um algoritmo que consiga fazer distinção entre raças de cães a partir de imagens. \n",
    "\n",
    "Primeiramente, utilizaremos a biblioteca `fastai2`, na Parte 1), para classificar imagens de cães e gatos. \n",
    "\n",
    "Em seguida, executaremos a tarefa de distinguir cães de raças diferentes implementando uma rede neural em Pytorch na Parte 2).\n",
    "\n",
    "Por fim, na Parte 3), nós aplicaremos a técnica de Transfer Learning para implementar um algoritmo que consiga classificar imagens de cães de diferentes raças. \n",
    "\n",
    "Todas as informações necessárias para resolver esta tarefa estão neste ambiente e todas as partes do código devem ser implementadas ao longo deste notebook.\n",
    "\n",
    "Antes de iniciarmos o exercício, nós precisamos que algumas bibliotecas já estejam disponíveis. São elas:\n",
    "\n",
    "- Numpy: (http://www.numpy.org/) para todas as operações matriciais;\n",
    "- Matplotlib: (https://matplotlib.org/) para a plotagem dos gráficos;\n",
    "\n",
    "Mas antes, nós configuraremos o ambiente, permitindo o acesso ao seu Google Drive, de onde serão importados os datasets e as imagens do notebook, além de outros módulos adicionais.\n"
   ]
  },
  {
   "cell_type": "markdown",
   "metadata": {
    "id": "TQABFbLjaB4z"
   },
   "source": [
    "A célula abaixo irá \"montar\" o drive dentro do Google Colaboratory, ou seja, conseguiremos acessar diretamente todos os conteúdos presentes no Google drive, possibilitando a execução do *Jupyter Notebook* a partir, unicamente, da nuvem.\n"
   ]
  },
  {
   "cell_type": "code",
   "execution_count": 1,
   "metadata": {
    "colab": {
     "base_uri": "https://localhost:8080/"
    },
    "executionInfo": {
     "elapsed": 24749,
     "status": "ok",
     "timestamp": 1620658479118,
     "user": {
      "displayName": "Augusto Durães Camargo",
      "photoUrl": "https://lh3.googleusercontent.com/a-/AOh14GimWyGxaC_HpttlN1eoKVuCprhmp45jILw4TgUq1ss=s64",
      "userId": "04979901453514569292"
     },
     "user_tz": 180
    },
    "id": "e3FNnh_CaCna",
    "outputId": "5382fbca-4471-4c74-d7fe-a0f3382730d9"
   },
   "outputs": [
    {
     "name": "stdout",
     "output_type": "stream",
     "text": [
      "Mounted at /content/drive/\n"
     ]
    }
   ],
   "source": [
    "#allows the drive to be accessed \n",
    "from google.colab import drive\n",
    "\n",
    "drive.mount('/content/drive/')"
   ]
  },
  {
   "cell_type": "code",
   "execution_count": 2,
   "metadata": {
    "colab": {
     "base_uri": "https://localhost:8080/"
    },
    "executionInfo": {
     "elapsed": 2291,
     "status": "ok",
     "timestamp": 1620658654394,
     "user": {
      "displayName": "Augusto Durães Camargo",
      "photoUrl": "https://lh3.googleusercontent.com/a-/AOh14GimWyGxaC_HpttlN1eoKVuCprhmp45jILw4TgUq1ss=s64",
      "userId": "04979901453514569292"
     },
     "user_tz": 180
    },
    "id": "GVuYYDB2TItz",
    "outputId": "f43c2886-c61d-4642-d66b-07223015ab7a"
   },
   "outputs": [
    {
     "name": "stdout",
     "output_type": "stream",
     "text": [
      "import sys\n",
      "import numpy as np\n",
      "from matplotlib import pyplot\n",
      "\n",
      "def displayData(X, example_width=None, figsize=(10, 10)):\n",
      "    \"\"\"\n",
      "    Displays 2D data stored in X in a nice grid.\n",
      "    \"\"\"\n",
      "    # Compute rows, cols\n",
      "    if X.ndim == 2:\n",
      "        m, n = X.shape\n",
      "    elif X.ndim == 1:\n",
      "        n = X.size\n",
      "        m = 1\n",
      "        X = X[None]  # Promote to a 2 dimensional array\n",
      "    else:\n",
      "        raise IndexError('Input X should be 1 or 2 dimensional.')\n",
      "\n",
      "    example_width = example_width or int(np.round(np.sqrt(n)))\n",
      "    example_height = n / example_width\n",
      "\n",
      "    # Compute number of items to display\n",
      "    display_rows = int(np.floor(np.sqrt(m)))\n",
      "    display_cols = int(np.ceil(m / display_rows))\n",
      "\n",
      "    fig, ax_array = pyplot.subplots(display_rows, display_cols, figsize=figsize)\n",
      "    fig.subplots_adjust(wspace=0.025, hspace=0.025)\n",
      "\n",
      "    ax_array = [ax_array] if m == 1 else ax_array.ravel()\n",
      "\n",
      "    for i, ax in enumerate(ax_array):\n",
      "        # Display Image\n",
      "        h = ax.imshow(X[i].reshape(example_width, example_width, order='F'),\n",
      "                      cmap='Greys', extent=[0, 1, 0, 1])\n",
      "        ax.axis('off')\n",
      "\n",
      "\n",
      "def predict(Theta1, Theta2, X):\n",
      "    \"\"\"\n",
      "    Predict the label of an input given a trained neural network\n",
      "    Outputs the predicted label of X given the trained weights of a neural\n",
      "    network(Theta1, Theta2)\n",
      "    \"\"\"\n",
      "    # Useful values\n",
      "    m = X.shape[0]\n",
      "    num_labels = Theta2.shape[0]\n",
      "\n",
      "    # You need to return the following variables correctly\n",
      "    p = np.zeros(m)\n",
      "    h1 = sigmoid(np.dot(np.concatenate([np.ones((m, 1)), X], axis=1), Theta1.T))\n",
      "    h2 = sigmoid(np.dot(np.concatenate([np.ones((m, 1)), h1], axis=1), Theta2.T))\n",
      "    p = np.argmax(h2, axis=1)\n",
      "    return p\n",
      "\n",
      "\n",
      "def debugInitializeWeights(fan_out, fan_in):\n",
      "    \"\"\"\n",
      "    Initialize the weights of a layer with fan_in incoming connections and fan_out outgoings\n",
      "    connections using a fixed strategy. This will help you later in debugging.\n",
      "\n",
      "    Note that W should be set a matrix of size (1+fan_in, fan_out) as the first row of W handles\n",
      "    the \"bias\" terms.\n",
      "\n",
      "    Parameters\n",
      "    ----------\n",
      "    fan_out : int\n",
      "        The number of outgoing connections.\n",
      "\n",
      "    fan_in : int\n",
      "        The number of incoming connections.\n",
      "\n",
      "    Returns\n",
      "    -------\n",
      "    W : array_like (1+fan_in, fan_out)\n",
      "        The initialized weights array given the dimensions.\n",
      "    \"\"\"\n",
      "    # Initialize W using \"sin\". This ensures that W is always of the same values and will be\n",
      "    # useful for debugging\n",
      "    W = np.sin(np.arange(1, 1 + (1+fan_in)*fan_out))/10.0\n",
      "    W = W.reshape(fan_out, 1+fan_in, order='F')\n",
      "    return W\n",
      "\n",
      "\n",
      "def computeNumericalGradient(J, theta, e=1e-4):\n",
      "    \"\"\"\n",
      "    Computes the gradient using \"finite differences\" and gives us a numerical estimate of the\n",
      "    gradient.\n",
      "\n",
      "    Parameters\n",
      "    ----------\n",
      "    J : func\n",
      "        The cost function which will be used to estimate its numerical gradient.\n",
      "\n",
      "    theta : array_like\n",
      "        The one dimensional unrolled network parameters. The numerical gradient is computed at\n",
      "         those given parameters.\n",
      "\n",
      "    e : float (optional)\n",
      "        The value to use for epsilon for computing the finite difference.\n",
      "\n",
      "    Notes\n",
      "    -----\n",
      "    The following code implements numerical gradient checking, and\n",
      "    returns the numerical gradient. It sets `numgrad[i]` to (a numerical\n",
      "    approximation of) the partial derivative of J with respect to the\n",
      "    i-th input argument, evaluated at theta. (i.e., `numgrad[i]` should\n",
      "    be the (approximately) the partial derivative of J with respect\n",
      "    to theta[i].)\n",
      "    \"\"\"\n",
      "    numgrad = np.zeros(theta.shape)\n",
      "    perturb = np.diag(e * np.ones(theta.shape))\n",
      "    for i in range(theta.size):\n",
      "        loss1, _ = J(theta - perturb[:, i])\n",
      "        loss2, _ = J(theta + perturb[:, i])\n",
      "        numgrad[i] = (loss2 - loss1)/(2*e)\n",
      "    return numgrad\n",
      "\n",
      "\n",
      "def checkNNGradients(nnCostFunction, lambda_=0):\n",
      "    \"\"\"\n",
      "    Creates a small neural network to check the backpropagation gradients. It will output the\n",
      "    analytical gradients produced by your backprop code and the numerical gradients\n",
      "    (computed using computeNumericalGradient). These two gradient computations should result in\n",
      "    very similar values.\n",
      "\n",
      "    Parameters\n",
      "    ----------\n",
      "    nnCostFunction : func\n",
      "        A reference to the cost function implemented by the student.\n",
      "\n",
      "    lambda_ : float (optional)\n",
      "        The regularization parameter value.\n",
      "    \"\"\"\n",
      "    input_layer_size = 3\n",
      "    hidden_layer_size = 5\n",
      "    num_labels = 3\n",
      "    m = 5\n",
      "\n",
      "    # We generate some 'random' test data\n",
      "    Theta1 = debugInitializeWeights(hidden_layer_size, input_layer_size)\n",
      "    Theta2 = debugInitializeWeights(num_labels, hidden_layer_size)\n",
      "\n",
      "    # Reusing debugInitializeWeights to generate X\n",
      "    X = debugInitializeWeights(m, input_layer_size - 1)\n",
      "    y = np.arange(1, 1+m) % num_labels\n",
      "    # print(y)\n",
      "    # Unroll parameters\n",
      "    nn_params = np.concatenate([Theta1.ravel(), Theta2.ravel()])\n",
      "\n",
      "    # short hand for cost function\n",
      "    costFunc = lambda p: nnCostFunction(p, input_layer_size, hidden_layer_size,\n",
      "                                        num_labels, X, y, lambda_)\n",
      "    cost, grad = costFunc(nn_params)\n",
      "    numgrad = computeNumericalGradient(costFunc, nn_params)\n",
      "\n",
      "    # Visually examine the two gradient computations.The two columns you get should be very similar.\n",
      "    print(np.stack([numgrad, grad], axis=1))\n",
      "    print('The above two columns you get should be very similar.')\n",
      "    print('(Left-Your Numerical Gradient, Right-Analytical Gradient)\\n')\n",
      "\n",
      "    # Evaluate the norm of the difference between two the solutions. If you have a correct\n",
      "    # implementation, and assuming you used e = 0.0001 in computeNumericalGradient, then diff\n",
      "    # should be less than 1e-9.\n",
      "    diff = np.linalg.norm(numgrad - grad)/np.linalg.norm(numgrad + grad)\n",
      "\n",
      "    print('If your backpropagation implementation is correct, then \\n'\n",
      "          'the relative difference will be small (less than 1e-9). \\n'\n",
      "          'Relative Difference: %g' % diff)\n",
      "\n",
      "\n",
      "def sigmoid(z):\n",
      "    \"\"\"\n",
      "    Computes the sigmoid of z.\n",
      "    \"\"\"\n",
      "    return 1.0 / (1.0 + np.exp(-z))\n",
      "\n",
      "\n"
     ]
    }
   ],
   "source": [
    "import sys\n",
    "\n",
    "!cat '/content/drive/MyDrive/3° Semestre/IMLDL/Semana 5/Desafio de programacao 5/utils.py'\n",
    "sys.path.append('/content/drive/MyDrive/3° Semestre/IMLDL/Semana 5/Desafio de programacao 5')"
   ]
  },
  {
   "cell_type": "markdown",
   "metadata": {
    "id": "9X51NNTUaLas"
   },
   "source": [
    "Com o acesso permitido ao drive e com o ambiente preparado, podemos iniciar a importação das bibliotecas de Python que serão utilizadas no nosso código. "
   ]
  },
  {
   "cell_type": "code",
   "execution_count": 3,
   "metadata": {
    "executionInfo": {
     "elapsed": 5389,
     "status": "ok",
     "timestamp": 1620658664789,
     "user": {
      "displayName": "Augusto Durães Camargo",
      "photoUrl": "https://lh3.googleusercontent.com/a-/AOh14GimWyGxaC_HpttlN1eoKVuCprhmp45jILw4TgUq1ss=s64",
      "userId": "04979901453514569292"
     },
     "user_tz": 180
    },
    "id": "YSy2CcCJaX11"
   },
   "outputs": [],
   "source": [
    "# used for manipulating directory paths\n",
    "import os\n",
    "\n",
    "# Scientific and vector computation for python\n",
    "import numpy as np\n",
    "\n",
    "# Plotting library\n",
    "from matplotlib import pyplot\n",
    "\n",
    "# tells matplotlib to embed plots within the notebook\n",
    "%matplotlib inline\n",
    "\n",
    "# library written for this exercise providing additional functions for assignment submission, and others\n",
    "import utils\n",
    "\n",
    "# Pytorch\n",
    "import torch\n",
    "\n",
    "# modules to dataset\n",
    "from torchvision import transforms, models\n",
    "from torchvision.datasets import ImageFolder\n",
    "from torch.utils.data import DataLoader, random_split\n",
    "\n",
    "# modules to adequate the NN\n",
    "from torch import nn\n",
    "from torch import optim\n",
    "\n",
    "# Measuring execution time\n",
    "import time\n"
   ]
  },
  {
   "cell_type": "markdown",
   "metadata": {
    "id": "erM5gTc8wvtp"
   },
   "source": [
    "Recomendamos que, antes de iniciar o treinamento da rede, você habilite uma GPU para executar o programa. Isso porque a arquitetura da rede neural usada aqui é bastante complexa e, por isso, apresenta um custo computacional bem maior quando comparada aos exemplos anteriores.\n",
    "\n",
    "Sabemos que nem todos possuem GPU na máquina, mas, para nossa sorte, o Google Colaboratory permite a utilização de unidades de processamento (GPU ou TPU) de forma gratuita.\n",
    "\n",
    "Para habilitar essa função, basta acessar na parte superior da página do Colab: **Ambiente de execução > Alterar o tipo de ambiente de execução > Acelerador de hardware**, selecionar a opção “**GPU**” e salvar.\n",
    "\n",
    "Pronto, agora a célula responsável por procurar uma unidade de processamento verificará que a GPU está habilitada e fará uso desse _hardware accelerator_ para processar o código, obtendo uma solução bem mais rápida."
   ]
  },
  {
   "cell_type": "code",
   "execution_count": 4,
   "metadata": {
    "colab": {
     "base_uri": "https://localhost:8080/"
    },
    "executionInfo": {
     "elapsed": 798,
     "status": "ok",
     "timestamp": 1620658675609,
     "user": {
      "displayName": "Augusto Durães Camargo",
      "photoUrl": "https://lh3.googleusercontent.com/a-/AOh14GimWyGxaC_HpttlN1eoKVuCprhmp45jILw4TgUq1ss=s64",
      "userId": "04979901453514569292"
     },
     "user_tz": 180
    },
    "id": "4FP_HTRkA8BK",
    "outputId": "5cac5272-d6c9-437b-9a53-907e4961f9a7"
   },
   "outputs": [
    {
     "name": "stdout",
     "output_type": "stream",
     "text": [
      "Treinando na GPU\n"
     ]
    }
   ],
   "source": [
    "def testar_gpu():\n",
    "\ttrain_on_gpu = torch.cuda.is_available() #Observa se a GPU está disponivel\n",
    "\tif train_on_gpu: #Se sim\n",
    "\t\tdevice = torch.device('cuda') #Seleciona o device como GPU\n",
    "\t\tprint(\"Treinando na GPU\") #E manda a mensagem\n",
    "\telse: #Se não\n",
    "\t\tdevice = torch.device('cpu') #Seleciona o device como cpu\n",
    "\t\tprint(\"GPU indisponível, treinando na CPU\") #E avisa que a GPU não esta disponível\n",
    "\treturn device\n",
    "\n",
    "device = testar_gpu()"
   ]
  },
  {
   "cell_type": "markdown",
   "metadata": {
    "id": "FsUcz8mWaZbh"
   },
   "source": [
    "## 1 FastAI\n",
    "\n",
    "O FastAI é uma biblioteca de Machine Learning que visa simpificar ao máximo a   criação de redes neurais, possibilitando a implementação de algoritmos eficientes de inteligência artifical de forma rápida e simples.\n",
    "\n",
    "Iniciaremos esta tarefa fazendo a instalação da biblioteca *fastai2*. Execute a célula abaixo que fará isso automaticamente."
   ]
  },
  {
   "cell_type": "code",
   "execution_count": 5,
   "metadata": {
    "colab": {
     "base_uri": "https://localhost:8080/"
    },
    "executionInfo": {
     "elapsed": 45516,
     "status": "ok",
     "timestamp": 1620658748979,
     "user": {
      "displayName": "Augusto Durães Camargo",
      "photoUrl": "https://lh3.googleusercontent.com/a-/AOh14GimWyGxaC_HpttlN1eoKVuCprhmp45jILw4TgUq1ss=s64",
      "userId": "04979901453514569292"
     },
     "user_tz": 180
    },
    "id": "1BqRkwsoVHv1",
    "outputId": "49ce718e-8969-4ce0-ec1d-c149f1699d9d"
   },
   "outputs": [
    {
     "name": "stdout",
     "output_type": "stream",
     "text": [
      "Collecting git+https://github.com/fastai/fastai.git\n",
      "  Cloning https://github.com/fastai/fastai.git to /tmp/pip-req-build-cpn_rm87\n",
      "  Running command git clone -q https://github.com/fastai/fastai.git /tmp/pip-req-build-cpn_rm87\n",
      "Requirement already satisfied: pip in /usr/local/lib/python3.7/dist-packages (from fastai==2.3.1) (19.3.1)\n",
      "Requirement already satisfied: packaging in /usr/local/lib/python3.7/dist-packages (from fastai==2.3.1) (20.9)\n",
      "Collecting fastcore<1.4,>=1.3.8\n",
      "\u001b[?25l  Downloading https://files.pythonhosted.org/packages/d8/b0/f1fbf554e0bf3c76e1bdc3b82eedfe41fcf656479586be38c64421082b1b/fastcore-1.3.20-py3-none-any.whl (53kB)\n",
      "\u001b[K     |████████████████████████████████| 61kB 270kB/s \n",
      "\u001b[?25hRequirement already satisfied: torchvision>=0.8.2 in /usr/local/lib/python3.7/dist-packages (from fastai==2.3.1) (0.9.1+cu101)\n",
      "Requirement already satisfied: matplotlib in /usr/local/lib/python3.7/dist-packages (from fastai==2.3.1) (3.2.2)\n",
      "Requirement already satisfied: pandas in /usr/local/lib/python3.7/dist-packages (from fastai==2.3.1) (1.1.5)\n",
      "Requirement already satisfied: requests in /usr/local/lib/python3.7/dist-packages (from fastai==2.3.1) (2.23.0)\n",
      "Requirement already satisfied: pyyaml in /usr/local/lib/python3.7/dist-packages (from fastai==2.3.1) (3.13)\n",
      "Requirement already satisfied: fastprogress>=0.2.4 in /usr/local/lib/python3.7/dist-packages (from fastai==2.3.1) (1.0.0)\n",
      "Requirement already satisfied: pillow>6.0.0 in /usr/local/lib/python3.7/dist-packages (from fastai==2.3.1) (7.1.2)\n",
      "Requirement already satisfied: scikit-learn in /usr/local/lib/python3.7/dist-packages (from fastai==2.3.1) (0.22.2.post1)\n",
      "Requirement already satisfied: scipy in /usr/local/lib/python3.7/dist-packages (from fastai==2.3.1) (1.4.1)\n",
      "Requirement already satisfied: spacy<4 in /usr/local/lib/python3.7/dist-packages (from fastai==2.3.1) (2.2.4)\n",
      "Requirement already satisfied: torch<1.9,>=1.7.0 in /usr/local/lib/python3.7/dist-packages (from fastai==2.3.1) (1.8.1+cu101)\n",
      "Requirement already satisfied: pyparsing>=2.0.2 in /usr/local/lib/python3.7/dist-packages (from packaging->fastai==2.3.1) (2.4.7)\n",
      "Requirement already satisfied: numpy in /usr/local/lib/python3.7/dist-packages (from torchvision>=0.8.2->fastai==2.3.1) (1.19.5)\n",
      "Requirement already satisfied: python-dateutil>=2.1 in /usr/local/lib/python3.7/dist-packages (from matplotlib->fastai==2.3.1) (2.8.1)\n",
      "Requirement already satisfied: cycler>=0.10 in /usr/local/lib/python3.7/dist-packages (from matplotlib->fastai==2.3.1) (0.10.0)\n",
      "Requirement already satisfied: kiwisolver>=1.0.1 in /usr/local/lib/python3.7/dist-packages (from matplotlib->fastai==2.3.1) (1.3.1)\n",
      "Requirement already satisfied: pytz>=2017.2 in /usr/local/lib/python3.7/dist-packages (from pandas->fastai==2.3.1) (2018.9)\n",
      "Requirement already satisfied: idna<3,>=2.5 in /usr/local/lib/python3.7/dist-packages (from requests->fastai==2.3.1) (2.10)\n",
      "Requirement already satisfied: urllib3!=1.25.0,!=1.25.1,<1.26,>=1.21.1 in /usr/local/lib/python3.7/dist-packages (from requests->fastai==2.3.1) (1.24.3)\n",
      "Requirement already satisfied: certifi>=2017.4.17 in /usr/local/lib/python3.7/dist-packages (from requests->fastai==2.3.1) (2020.12.5)\n",
      "Requirement already satisfied: chardet<4,>=3.0.2 in /usr/local/lib/python3.7/dist-packages (from requests->fastai==2.3.1) (3.0.4)\n",
      "Requirement already satisfied: joblib>=0.11 in /usr/local/lib/python3.7/dist-packages (from scikit-learn->fastai==2.3.1) (1.0.1)\n",
      "Requirement already satisfied: setuptools in /usr/local/lib/python3.7/dist-packages (from spacy<4->fastai==2.3.1) (56.1.0)\n",
      "Requirement already satisfied: srsly<1.1.0,>=1.0.2 in /usr/local/lib/python3.7/dist-packages (from spacy<4->fastai==2.3.1) (1.0.5)\n",
      "Requirement already satisfied: murmurhash<1.1.0,>=0.28.0 in /usr/local/lib/python3.7/dist-packages (from spacy<4->fastai==2.3.1) (1.0.5)\n",
      "Requirement already satisfied: plac<1.2.0,>=0.9.6 in /usr/local/lib/python3.7/dist-packages (from spacy<4->fastai==2.3.1) (1.1.3)\n",
      "Requirement already satisfied: thinc==7.4.0 in /usr/local/lib/python3.7/dist-packages (from spacy<4->fastai==2.3.1) (7.4.0)\n",
      "Requirement already satisfied: preshed<3.1.0,>=3.0.2 in /usr/local/lib/python3.7/dist-packages (from spacy<4->fastai==2.3.1) (3.0.5)\n",
      "Requirement already satisfied: tqdm<5.0.0,>=4.38.0 in /usr/local/lib/python3.7/dist-packages (from spacy<4->fastai==2.3.1) (4.41.1)\n",
      "Requirement already satisfied: wasabi<1.1.0,>=0.4.0 in /usr/local/lib/python3.7/dist-packages (from spacy<4->fastai==2.3.1) (0.8.2)\n",
      "Requirement already satisfied: cymem<2.1.0,>=2.0.2 in /usr/local/lib/python3.7/dist-packages (from spacy<4->fastai==2.3.1) (2.0.5)\n",
      "Requirement already satisfied: catalogue<1.1.0,>=0.0.7 in /usr/local/lib/python3.7/dist-packages (from spacy<4->fastai==2.3.1) (1.0.0)\n",
      "Requirement already satisfied: blis<0.5.0,>=0.4.0 in /usr/local/lib/python3.7/dist-packages (from spacy<4->fastai==2.3.1) (0.4.1)\n",
      "Requirement already satisfied: typing-extensions in /usr/local/lib/python3.7/dist-packages (from torch<1.9,>=1.7.0->fastai==2.3.1) (3.7.4.3)\n",
      "Requirement already satisfied: six>=1.5 in /usr/local/lib/python3.7/dist-packages (from python-dateutil>=2.1->matplotlib->fastai==2.3.1) (1.15.0)\n",
      "Requirement already satisfied: importlib-metadata>=0.20; python_version < \"3.8\" in /usr/local/lib/python3.7/dist-packages (from catalogue<1.1.0,>=0.0.7->spacy<4->fastai==2.3.1) (3.10.1)\n",
      "Requirement already satisfied: zipp>=0.5 in /usr/local/lib/python3.7/dist-packages (from importlib-metadata>=0.20; python_version < \"3.8\"->catalogue<1.1.0,>=0.0.7->spacy<4->fastai==2.3.1) (3.4.1)\n",
      "Building wheels for collected packages: fastai\n",
      "  Building wheel for fastai (setup.py) ... \u001b[?25l\u001b[?25hdone\n",
      "  Created wheel for fastai: filename=fastai-2.3.1-cp37-none-any.whl size=193488 sha256=2ab12e9ba517c8251873b554598d40d38d3f5f8bb6582141064f9fafcc2a0add\n",
      "  Stored in directory: /tmp/pip-ephem-wheel-cache-jdfn3b41/wheels/cf/46/39/b2d08762125ed2376861976ab2c4ac30c029b86e375735d9b8\n",
      "Successfully built fastai\n",
      "Installing collected packages: fastcore, fastai\n",
      "  Found existing installation: fastai 1.0.61\n",
      "    Uninstalling fastai-1.0.61:\n",
      "      Successfully uninstalled fastai-1.0.61\n",
      "Successfully installed fastai-2.3.1 fastcore-1.3.20\n"
     ]
    }
   ],
   "source": [
    "pip install git+https://github.com/fastai/fastai.git"
   ]
  },
  {
   "cell_type": "markdown",
   "metadata": {
    "id": "Dqefzu3DehPe"
   },
   "source": [
    "Com a instalação finalizada, faremos a importação da biblioteca na célula abaixo."
   ]
  },
  {
   "cell_type": "code",
   "execution_count": 6,
   "metadata": {
    "executionInfo": {
     "elapsed": 1869,
     "status": "ok",
     "timestamp": 1620658772587,
     "user": {
      "displayName": "Augusto Durães Camargo",
      "photoUrl": "https://lh3.googleusercontent.com/a-/AOh14GimWyGxaC_HpttlN1eoKVuCprhmp45jILw4TgUq1ss=s64",
      "userId": "04979901453514569292"
     },
     "user_tz": 180
    },
    "id": "claTTgRQfsiN"
   },
   "outputs": [],
   "source": [
    "import fastai.vision.all as fst"
   ]
  },
  {
   "cell_type": "markdown",
   "metadata": {
    "id": "dLp3Uy18rtgh"
   },
   "source": [
    "### 1.1 Download do dataset\n",
    "\n",
    "Iniciaremos a execução coletando o caminho (*path*) do diretório em que o dataset se encontra. Para isso, utilizaremos a função `fst.untar_data()` com `fst.URLs.PETS` como parâmetro.\n",
    "\n",
    "A variável `fst.URLs.PETS` contém o link de um dataset cujo conteúdo são imagens de gatos e cães de raças diversas. A função `fst.untar_data()` baixa essas imagens e retorna uma variável do tipo `Path` com o diretório no qual essas imagens foram baixadas.\n",
    "\n",
    "Repare ainda que nós concatenamos esse caminho com `'images'` para que consigamos entrar nesse diretório para acessar todas as imagens do dataset."
   ]
  },
  {
   "cell_type": "code",
   "execution_count": 7,
   "metadata": {
    "colab": {
     "base_uri": "https://localhost:8080/",
     "height": 17
    },
    "executionInfo": {
     "elapsed": 64857,
     "status": "ok",
     "timestamp": 1620658896501,
     "user": {
      "displayName": "Augusto Durães Camargo",
      "photoUrl": "https://lh3.googleusercontent.com/a-/AOh14GimWyGxaC_HpttlN1eoKVuCprhmp45jILw4TgUq1ss=s64",
      "userId": "04979901453514569292"
     },
     "user_tz": 180
    },
    "id": "8BYecxZigXLR",
    "outputId": "6d6dde46-9b57-47b1-9552-461eda64123a"
   },
   "outputs": [
    {
     "data": {
      "text/html": [],
      "text/plain": [
       "<IPython.core.display.HTML object>"
      ]
     },
     "metadata": {
      "tags": []
     },
     "output_type": "display_data"
    }
   ],
   "source": [
    "path = fst.untar_data(fst.URLs.PETS)/'images'"
   ]
  },
  {
   "cell_type": "markdown",
   "metadata": {
    "id": "e6qadeE38p31"
   },
   "source": [
    "### 1.2 Visualização dos dados\n",
    "\n",
    "Com o caminho do diretório especificado, podemos acessá-lo para coletar a lista de imagens dentro dele, utilizando a função `fst.get_image_files()`. Printaremos os 10 primeiros elementos dessa lista para entendermos do que se trata e, em seguida, calcularemos o comprimento dela, para que saibamos o tamanho do nosso dataset. "
   ]
  },
  {
   "cell_type": "code",
   "execution_count": 8,
   "metadata": {
    "colab": {
     "base_uri": "https://localhost:8080/"
    },
    "executionInfo": {
     "elapsed": 934,
     "status": "ok",
     "timestamp": 1620658900523,
     "user": {
      "displayName": "Augusto Durães Camargo",
      "photoUrl": "https://lh3.googleusercontent.com/a-/AOh14GimWyGxaC_HpttlN1eoKVuCprhmp45jILw4TgUq1ss=s64",
      "userId": "04979901453514569292"
     },
     "user_tz": 180
    },
    "id": "YasF-OS4iGPK",
    "outputId": "d9ea37b1-21e5-41cb-aadd-6a220e880965"
   },
   "outputs": [
    {
     "data": {
      "text/plain": [
       "[Path('/root/.fastai/data/oxford-iiit-pet/images/keeshond_95.jpg'),\n",
       " Path('/root/.fastai/data/oxford-iiit-pet/images/Maine_Coon_32.jpg'),\n",
       " Path('/root/.fastai/data/oxford-iiit-pet/images/saint_bernard_39.jpg'),\n",
       " Path('/root/.fastai/data/oxford-iiit-pet/images/basset_hound_150.jpg'),\n",
       " Path('/root/.fastai/data/oxford-iiit-pet/images/Ragdoll_261.jpg'),\n",
       " Path('/root/.fastai/data/oxford-iiit-pet/images/american_pit_bull_terrier_76.jpg'),\n",
       " Path('/root/.fastai/data/oxford-iiit-pet/images/saint_bernard_52.jpg'),\n",
       " Path('/root/.fastai/data/oxford-iiit-pet/images/pug_136.jpg'),\n",
       " Path('/root/.fastai/data/oxford-iiit-pet/images/Sphynx_67.jpg'),\n",
       " Path('/root/.fastai/data/oxford-iiit-pet/images/japanese_chin_187.jpg')]"
      ]
     },
     "execution_count": 8,
     "metadata": {
      "tags": []
     },
     "output_type": "execute_result"
    }
   ],
   "source": [
    "# Get list of files\n",
    "files = list(fst.get_image_files(path))\n",
    "files[:10]"
   ]
  },
  {
   "cell_type": "code",
   "execution_count": 9,
   "metadata": {
    "colab": {
     "base_uri": "https://localhost:8080/"
    },
    "executionInfo": {
     "elapsed": 516,
     "status": "ok",
     "timestamp": 1620658902859,
     "user": {
      "displayName": "Augusto Durães Camargo",
      "photoUrl": "https://lh3.googleusercontent.com/a-/AOh14GimWyGxaC_HpttlN1eoKVuCprhmp45jILw4TgUq1ss=s64",
      "userId": "04979901453514569292"
     },
     "user_tz": 180
    },
    "id": "QVpCVnozAsXB",
    "outputId": "673ddd3d-09d7-4893-b69d-84e7eaf50981"
   },
   "outputs": [
    {
     "name": "stdout",
     "output_type": "stream",
     "text": [
      "Number of images: 7390\n"
     ]
    }
   ],
   "source": [
    "print('Number of images:', len(files))"
   ]
  },
  {
   "cell_type": "markdown",
   "metadata": {
    "id": "b1rBkGdj_bmE"
   },
   "source": [
    "Nosso dataset é, portanto, constituído por 7390 imagens de cães e gatos. São com esses dados que nós iremos treinar e testar a rede neural que montaremos.\n",
    "\n",
    "Para entender como são as imagens, nós iremos utilizar a função `fst.PILImage.create()` para mostrar uma das imagens presentes na variável `files`. "
   ]
  },
  {
   "cell_type": "code",
   "execution_count": 10,
   "metadata": {
    "colab": {
     "base_uri": "https://localhost:8080/",
     "height": 314
    },
    "executionInfo": {
     "elapsed": 1348,
     "status": "ok",
     "timestamp": 1620658906965,
     "user": {
      "displayName": "Augusto Durães Camargo",
      "photoUrl": "https://lh3.googleusercontent.com/a-/AOh14GimWyGxaC_HpttlN1eoKVuCprhmp45jILw4TgUq1ss=s64",
      "userId": "04979901453514569292"
     },
     "user_tz": 180
    },
    "id": "E6IWVcIWkAx-",
    "outputId": "ae180533-26ae-4204-e842-eb1d831926a0"
   },
   "outputs": [
    {
     "data": {
      "image/png": "[encoded data removed]",
      "text/plain": [
       "PILImage mode=RGB size=300x297"
      ]
     },
     "execution_count": 10,
     "metadata": {
      "tags": []
     },
     "output_type": "execute_result"
    }
   ],
   "source": [
    "from random import randint\n",
    "fst.PILImage.create(files[randint(0,7390)])"
   ]
  },
  {
   "cell_type": "markdown",
   "metadata": {
    "id": "WfPZXcWWCkbs"
   },
   "source": [
    "Voltando para a variável `files`, perceba que as imagens de gatos estão salvas em arquivos cujos nomes se iniciam com letra maiúscula, ao passo que as imagens de cães estão em arquivos cujos nomes se iniciam com letra minúscula.\n",
    "\n",
    "Isso foi feito para que fosse possível diferenciar as imagens apenas pelo nome do arquivo, pois é essa diferenciação que será utilizada para produzir as labels de cada imagem. A função `is_cat()`, criada na célula abaixo, retorna um booleano que indica se a primeira letra da variável de entrada é maiúscula (nesse caso, `True`) ou minúscula (`False`)."
   ]
  },
  {
   "cell_type": "code",
   "execution_count": 11,
   "metadata": {
    "executionInfo": {
     "elapsed": 1165,
     "status": "ok",
     "timestamp": 1620658912793,
     "user": {
      "displayName": "Augusto Durães Camargo",
      "photoUrl": "https://lh3.googleusercontent.com/a-/AOh14GimWyGxaC_HpttlN1eoKVuCprhmp45jILw4TgUq1ss=s64",
      "userId": "04979901453514569292"
     },
     "user_tz": 180
    },
    "id": "Z5vJ1RzLkWeB"
   },
   "outputs": [],
   "source": [
    "def is_cat(x): return x[0].isupper()"
   ]
  },
  {
   "cell_type": "markdown",
   "metadata": {
    "id": "zz1IiFQgGZq5"
   },
   "source": [
    "Para finalizar o processamento dos nossos dados, nós criaremos um Dataloader utilizando a função `fst.ImageDataLoaders.from_name_func()` da biblioteca do *fastai2*. Os parâmetros da função são:\n",
    "\n",
    "- `path`: indica o diretório em que o algoritmo deve trabalhar.\n",
    "- `fnames`: recebe a lista com os diretórios e nomes de todas as imagens que serão incorporadas ao DataLoader.\n",
    "- `valid_pct`: determina o tamanho do dataset de validação (nesse caso, valid_pct=0.2, significa que 20% do dataset será destinado à validação).\n",
    "- `seed`: escolhe um número qualquer para garantir a reprodução do exercício com os mesmos resultados.\n",
    "- `label_func`: especifica a função que identificará o label de cada exemplo do dataset, no nosso caso, a função `is_cat()` definida na célula acima.\n",
    "- `item_tfms`: aponta quais serão as transformações aplicadas em que cada imagem do dataset, a mais comum delas é o redimensionamento (*resize*).\n"
   ]
  },
  {
   "cell_type": "code",
   "execution_count": 12,
   "metadata": {
    "executionInfo": {
     "elapsed": 10326,
     "status": "ok",
     "timestamp": 1620658926307,
     "user": {
      "displayName": "Augusto Durães Camargo",
      "photoUrl": "https://lh3.googleusercontent.com/a-/AOh14GimWyGxaC_HpttlN1eoKVuCprhmp45jILw4TgUq1ss=s64",
      "userId": "04979901453514569292"
     },
     "user_tz": 180
    },
    "id": "lkgTfwEPGaNk"
   },
   "outputs": [],
   "source": [
    "# Load data into fastai\n",
    "dls = fst.ImageDataLoaders.from_name_func(   # Structure of dataset\n",
    "          path=path,                         # Working directory\n",
    "          fnames= files,                     # List of files\n",
    "          valid_pct=0.2,                     # Size of validation set\n",
    "          seed=42,                           # Random number seed\n",
    "          label_func=is_cat,                 # Helper function for labels\n",
    "          item_tfms= fst.Resize(224))        # Data transformations"
   ]
  },
  {
   "cell_type": "markdown",
   "metadata": {
    "id": "3jML9oTrkuSE"
   },
   "source": [
    "Como citado acima, o parâmetro `seed` funciona para garantir a reprodutibilidade de um processo randômico, mas como isso funciona?\n",
    "\n",
    "De fato, os algoritmos não conseguem produzir processos realmente randômicos e sim os chamados processos pseudo-randômicos. Esses processos são funções matemáticas que se utilizam de outras variáveis (geralmente a hora) para produzir sequências que parecem randômicas. A definição de um valor para o parâmetro `seed` faz com que essa variável utilizada seja o valor indicado, de forma que a sequência de valores gerada sempre será a mesma.\n",
    "\n",
    "Para ter mais informações sobre a geração de números randômicos, [clique no link](https://machinelearningmastery.com/how-to-generate-random-numbers-in-python/)."
   ]
  },
  {
   "cell_type": "markdown",
   "metadata": {
    "id": "5PdJ-JBRF9QH"
   },
   "source": [
    "### 1.3 Criação e treinamento da Rede Neural\n",
    "\n",
    "Com todo o dataset processado, podemos criar a nossa rede neural. Para isso, utilizaremos a técnica de *transfer learning*, utilizando uma ResNet, uma rede neural residual pré-treinada. Para mais informações sobre essas redes neurais, [clique no link](https://arxiv.org/pdf/1512.03385.pdf)."
   ]
  },
  {
   "cell_type": "code",
   "execution_count": 13,
   "metadata": {
    "colab": {
     "base_uri": "https://localhost:8080/",
     "height": 83,
     "referenced_widgets": [
      "0d06bd995d4f493296ca3a772ade4bc0",
      "eebd3c2323d24651a6088cf251a2b0e4",
      "9a4654a7c22346f8acfedd021c55d4db",
      "eb30438d1ed3493689b6d854574ab017",
      "94a59bd767974a6cb5027470d996a8ee",
      "42f5d4bda10249808c811189f26e5b71",
      "9b91b6e279594848afcf45db9be54432",
      "1cebf385a35c4c60bb5ddf2095e755f6"
     ]
    },
    "executionInfo": {
     "elapsed": 2497,
     "status": "ok",
     "timestamp": 1620658936594,
     "user": {
      "displayName": "Augusto Durães Camargo",
      "photoUrl": "https://lh3.googleusercontent.com/a-/AOh14GimWyGxaC_HpttlN1eoKVuCprhmp45jILw4TgUq1ss=s64",
      "userId": "04979901453514569292"
     },
     "user_tz": 180
    },
    "id": "8NTfasdakiQA",
    "outputId": "196a4ab5-7762-4b5b-b5ae-f6799f823442"
   },
   "outputs": [
    {
     "name": "stderr",
     "output_type": "stream",
     "text": [
      "Downloading: \"https://download.pytorch.org/models/resnet34-333f7ec4.pth\" to /root/.cache/torch/hub/checkpoints/resnet34-333f7ec4.pth\n"
     ]
    },
    {
     "data": {
      "application/vnd.jupyter.widget-view+json": {
       "model_id": "0d06bd995d4f493296ca3a772ade4bc0",
       "version_major": 2,
       "version_minor": 0
      },
      "text/plain": [
       "HBox(children=(FloatProgress(value=0.0, max=87306240.0), HTML(value='')))"
      ]
     },
     "metadata": {
      "tags": []
     },
     "output_type": "display_data"
    },
    {
     "name": "stdout",
     "output_type": "stream",
     "text": [
      "\n"
     ]
    }
   ],
   "source": [
    "# Create a fastai \"learner\"\n",
    "learn = fst.cnn_learner(     # Helper functiont to create learner for CNNs\n",
    "    dls=dls,                 # Previously created dataloaders\n",
    "    arch=fst.resnet34)       # Pretrained model architecture"
   ]
  },
  {
   "cell_type": "markdown",
   "metadata": {
    "id": "yW8NSXFFnUBb"
   },
   "source": [
    "Com a ResNet34 e o dataloader `dls` selecionados, podemos iniciar o treinamento da nossa rede neural. Para isso, utilizaremos a função `fine_tune()` com o número de épocas escolhido. Como o dataset é relativamente grande e a rede ja é pré-treinada, não precisaremos de muitas épocas e, por isso, escolhemos treinar a nossa rede por apenas 3 épocas."
   ]
  },
  {
   "cell_type": "code",
   "execution_count": 14,
   "metadata": {
    "colab": {
     "base_uri": "https://localhost:8080/",
     "height": 203
    },
    "executionInfo": {
     "elapsed": 293092,
     "status": "ok",
     "timestamp": 1620659235346,
     "user": {
      "displayName": "Augusto Durães Camargo",
      "photoUrl": "https://lh3.googleusercontent.com/a-/AOh14GimWyGxaC_HpttlN1eoKVuCprhmp45jILw4TgUq1ss=s64",
      "userId": "04979901453514569292"
     },
     "user_tz": 180
    },
    "id": "4r3mWXTnklmM",
    "outputId": "559eb08b-755c-4da3-fcdb-7c1be88c0018"
   },
   "outputs": [
    {
     "data": {
      "text/html": [
       "<table border=\"1\" class=\"dataframe\">\n",
       "  <thead>\n",
       "    <tr style=\"text-align: left;\">\n",
       "      <th>epoch</th>\n",
       "      <th>train_loss</th>\n",
       "      <th>valid_loss</th>\n",
       "      <th>time</th>\n",
       "    </tr>\n",
       "  </thead>\n",
       "  <tbody>\n",
       "    <tr>\n",
       "      <td>0</td>\n",
       "      <td>0.184146</td>\n",
       "      <td>0.012459</td>\n",
       "      <td>01:04</td>\n",
       "    </tr>\n",
       "  </tbody>\n",
       "</table>"
      ],
      "text/plain": [
       "<IPython.core.display.HTML object>"
      ]
     },
     "metadata": {
      "tags": []
     },
     "output_type": "display_data"
    },
    {
     "data": {
      "text/html": [
       "<table border=\"1\" class=\"dataframe\">\n",
       "  <thead>\n",
       "    <tr style=\"text-align: left;\">\n",
       "      <th>epoch</th>\n",
       "      <th>train_loss</th>\n",
       "      <th>valid_loss</th>\n",
       "      <th>time</th>\n",
       "    </tr>\n",
       "  </thead>\n",
       "  <tbody>\n",
       "    <tr>\n",
       "      <td>0</td>\n",
       "      <td>0.058357</td>\n",
       "      <td>0.038313</td>\n",
       "      <td>01:16</td>\n",
       "    </tr>\n",
       "    <tr>\n",
       "      <td>1</td>\n",
       "      <td>0.058389</td>\n",
       "      <td>0.025056</td>\n",
       "      <td>01:15</td>\n",
       "    </tr>\n",
       "    <tr>\n",
       "      <td>2</td>\n",
       "      <td>0.018641</td>\n",
       "      <td>0.009824</td>\n",
       "      <td>01:15</td>\n",
       "    </tr>\n",
       "  </tbody>\n",
       "</table>"
      ],
      "text/plain": [
       "<IPython.core.display.HTML object>"
      ]
     },
     "metadata": {
      "tags": []
     },
     "output_type": "display_data"
    }
   ],
   "source": [
    "epochs = 3\n",
    "\n",
    "# Train the model (fine-tuning)\n",
    "learn.fine_tune(3)"
   ]
  },
  {
   "cell_type": "markdown",
   "metadata": {
    "id": "5A8GnYP0VlGP"
   },
   "source": [
    "Para saber mais sobre *finetuning* no contexto de *Transfer Learning*, [clique neste link](https://pytorch.org/tutorials/beginner/finetuning_torchvision_models_tutorial.html).\n",
    "\n",
    "Para ter mais informações sobre a função fine_tune, execute a célula abaixo."
   ]
  },
  {
   "cell_type": "code",
   "execution_count": 15,
   "metadata": {
    "executionInfo": {
     "elapsed": 1892,
     "status": "ok",
     "timestamp": 1620659264493,
     "user": {
      "displayName": "Augusto Durães Camargo",
      "photoUrl": "https://lh3.googleusercontent.com/a-/AOh14GimWyGxaC_HpttlN1eoKVuCprhmp45jILw4TgUq1ss=s64",
      "userId": "04979901453514569292"
     },
     "user_tz": 180
    },
    "id": "vObFNv7E6nr7"
   },
   "outputs": [],
   "source": [
    "?learn.fine_tune\n"
   ]
  },
  {
   "cell_type": "markdown",
   "metadata": {
    "id": "eh3AOSjMq246"
   },
   "source": [
    "### 1.4 Teste da Rede neural\n",
    "\n",
    "Agora nós testaremos a nossa rede treinada. Para isso, utilizaremos a biblioteca `ipywidgets` que nos permitirá fazer o upload de qualquer imagem salva em nossos computadores.\n",
    "\n",
    "Escolha duas imagem de sua preferência, uma que contenha um gato nela e outra que contenha um cão e faça o teste. Se você não possuir as imagens já salvas, recomendamos que faça o dowload através do Google.\n",
    "\n",
    "Execute a célula abaixo para gerar um campo onde você poderá fazer o upload de imagens que serão utilizadas para testar a nossa rede neural. Neste primeiro momento, faça o upload de uma figura de um gato."
   ]
  },
  {
   "cell_type": "code",
   "execution_count": 16,
   "metadata": {
    "colab": {
     "base_uri": "https://localhost:8080/",
     "height": 66,
     "referenced_widgets": [
      "ac241d2c919f40b6ac44db177bb15465",
      "e6b09f159d79428b9751b93164455148",
      "d427969941ba47a8aeabd4d0d314c4ba"
     ]
    },
    "executionInfo": {
     "elapsed": 1170,
     "status": "ok",
     "timestamp": 1620659270650,
     "user": {
      "displayName": "Augusto Durães Camargo",
      "photoUrl": "https://lh3.googleusercontent.com/a-/AOh14GimWyGxaC_HpttlN1eoKVuCprhmp45jILw4TgUq1ss=s64",
      "userId": "04979901453514569292"
     },
     "user_tz": 180
    },
    "id": "MVZayEHhpws4",
    "outputId": "31d45077-ff29-45f0-ca67-cd4dd490ab6f"
   },
   "outputs": [
    {
     "name": "stdout",
     "output_type": "stream",
     "text": [
      "Faça o upload de uma imagem que contenha um gato\n"
     ]
    },
    {
     "data": {
      "application/vnd.jupyter.widget-view+json": {
       "model_id": "ac241d2c919f40b6ac44db177bb15465",
       "version_major": 2,
       "version_minor": 0
      },
      "text/plain": [
       "FileUpload(value={}, description='Upload')"
      ]
     },
     "metadata": {
      "tags": []
     },
     "output_type": "display_data"
    }
   ],
   "source": [
    "#Test with cat\n",
    "from ipywidgets import widgets\n",
    "uploader1 = widgets.FileUpload()\n",
    "print('Faça o upload de uma imagem que contenha um gato')\n",
    "uploader1\n",
    "\n"
   ]
  },
  {
   "cell_type": "markdown",
   "metadata": {
    "id": "9_TlGu29CFYT"
   },
   "source": [
    "Com o upload feito, podemos visualizar a imagem para, em seguida, utilizá-la como entrada da rede neural."
   ]
  },
  {
   "cell_type": "code",
   "execution_count": 17,
   "metadata": {
    "colab": {
     "base_uri": "https://localhost:8080/",
     "height": 217
    },
    "executionInfo": {
     "elapsed": 2723,
     "status": "ok",
     "timestamp": 1620659283872,
     "user": {
      "displayName": "Augusto Durães Camargo",
      "photoUrl": "https://lh3.googleusercontent.com/a-/AOh14GimWyGxaC_HpttlN1eoKVuCprhmp45jILw4TgUq1ss=s64",
      "userId": "04979901453514569292"
     },
     "user_tz": 180
    },
    "id": "g4HB1YDlvvD9",
    "outputId": "6a7e383e-5d1e-4afd-aa76-2ee57ac14f10"
   },
   "outputs": [
    {
     "data": {
      "image/png": "[encoded data removed]",
      "text/plain": [
       "<PIL.Image.Image image mode=RGB size=200x200 at 0x7F42EF64F550>"
      ]
     },
     "execution_count": 17,
     "metadata": {
      "tags": []
     },
     "output_type": "execute_result"
    }
   ],
   "source": [
    "img1 = fst.PILImage.create(uploader1.data[0])\n",
    "img1.to_thumb(200)"
   ]
  },
  {
   "cell_type": "code",
   "execution_count": 18,
   "metadata": {
    "colab": {
     "base_uri": "https://localhost:8080/",
     "height": 51
    },
    "executionInfo": {
     "elapsed": 1626,
     "status": "ok",
     "timestamp": 1620659288289,
     "user": {
      "displayName": "Augusto Durães Camargo",
      "photoUrl": "https://lh3.googleusercontent.com/a-/AOh14GimWyGxaC_HpttlN1eoKVuCprhmp45jILw4TgUq1ss=s64",
      "userId": "04979901453514569292"
     },
     "user_tz": 180
    },
    "id": "Fwi5prfTuA3T",
    "outputId": "e9e66a09-ca63-48eb-a7e0-41f6cec0b1d4"
   },
   "outputs": [
    {
     "data": {
      "text/html": [],
      "text/plain": [
       "<IPython.core.display.HTML object>"
      ]
     },
     "metadata": {
      "tags": []
     },
     "output_type": "display_data"
    },
    {
     "name": "stdout",
     "output_type": "stream",
     "text": [
      "Isso é um gato?: True.\n",
      "Probabilidade de ser um gato: 97.139055%\n"
     ]
    }
   ],
   "source": [
    "is_cat,_,probs = learn.predict(img1)\n",
    "print(f\"Isso é um gato?: {is_cat}.\")\n",
    "print(f\"Probabilidade de ser um gato: {100* probs[1].item():.6f}%\")"
   ]
  },
  {
   "cell_type": "markdown",
   "metadata": {
    "id": "cR8CckenCtVt"
   },
   "source": [
    "Faremos, agora, o mesmo processo, mas com uma imagem de um cão."
   ]
  },
  {
   "cell_type": "code",
   "execution_count": 19,
   "metadata": {
    "colab": {
     "base_uri": "https://localhost:8080/",
     "height": 66,
     "referenced_widgets": [
      "b8e64059f86f4cc98bf92c26de5caede",
      "32d53977e8d6468bb460a7a3137d183b",
      "3f8e9833007b4e79b83e21a082cf5abe"
     ]
    },
    "executionInfo": {
     "elapsed": 1178,
     "status": "ok",
     "timestamp": 1620659293034,
     "user": {
      "displayName": "Augusto Durães Camargo",
      "photoUrl": "https://lh3.googleusercontent.com/a-/AOh14GimWyGxaC_HpttlN1eoKVuCprhmp45jILw4TgUq1ss=s64",
      "userId": "04979901453514569292"
     },
     "user_tz": 180
    },
    "id": "UfKZnDR5s94D",
    "outputId": "15f3e79e-33b7-4947-d2e8-373807e55e07"
   },
   "outputs": [
    {
     "name": "stdout",
     "output_type": "stream",
     "text": [
      "Faça o upload de uma imagem que contenha um cão\n"
     ]
    },
    {
     "data": {
      "application/vnd.jupyter.widget-view+json": {
       "model_id": "b8e64059f86f4cc98bf92c26de5caede",
       "version_major": 2,
       "version_minor": 0
      },
      "text/plain": [
       "FileUpload(value={}, description='Upload')"
      ]
     },
     "metadata": {
      "tags": []
     },
     "output_type": "display_data"
    }
   ],
   "source": [
    "uploader2 = widgets.FileUpload()\n",
    "print('Faça o upload de uma imagem que contenha um cão')\n",
    "uploader2"
   ]
  },
  {
   "cell_type": "code",
   "execution_count": 20,
   "metadata": {
    "colab": {
     "base_uri": "https://localhost:8080/",
     "height": 417
    },
    "executionInfo": {
     "elapsed": 1987,
     "status": "ok",
     "timestamp": 1620659303597,
     "user": {
      "displayName": "Augusto Durães Camargo",
      "photoUrl": "https://lh3.googleusercontent.com/a-/AOh14GimWyGxaC_HpttlN1eoKVuCprhmp45jILw4TgUq1ss=s64",
      "userId": "04979901453514569292"
     },
     "user_tz": 180
    },
    "id": "NO3BwT2IzJwo",
    "outputId": "8536f49d-7ea2-468f-e1a1-5bf4d9490d75"
   },
   "outputs": [
    {
     "data": {
      "image/png": "[encoded data removed]",
      "text/plain": [
       "<PIL.Image.Image image mode=RGB size=400x400 at 0x7F42EF478390>"
      ]
     },
     "execution_count": 20,
     "metadata": {
      "tags": []
     },
     "output_type": "execute_result"
    }
   ],
   "source": [
    "img2 = fst.PILImage.create(uploader2.data[0])\n",
    "img2.to_thumb(400)"
   ]
  },
  {
   "cell_type": "code",
   "execution_count": 21,
   "metadata": {
    "colab": {
     "base_uri": "https://localhost:8080/",
     "height": 51
    },
    "executionInfo": {
     "elapsed": 1248,
     "status": "ok",
     "timestamp": 1620659307218,
     "user": {
      "displayName": "Augusto Durães Camargo",
      "photoUrl": "https://lh3.googleusercontent.com/a-/AOh14GimWyGxaC_HpttlN1eoKVuCprhmp45jILw4TgUq1ss=s64",
      "userId": "04979901453514569292"
     },
     "user_tz": 180
    },
    "id": "0_2jbLPhzQ-0",
    "outputId": "44ca2f6a-9b54-4598-99f0-ea0289a082d4"
   },
   "outputs": [
    {
     "data": {
      "text/html": [],
      "text/plain": [
       "<IPython.core.display.HTML object>"
      ]
     },
     "metadata": {
      "tags": []
     },
     "output_type": "display_data"
    },
    {
     "name": "stdout",
     "output_type": "stream",
     "text": [
      "Isso é um gato?: False.\n",
      "Probabilidade de ser um gato: 0.001686%\n"
     ]
    }
   ],
   "source": [
    "is_cat,_,probs = learn.predict(img2)\n",
    "print(f\"Isso é um gato?: {is_cat}.\")\n",
    "print(f\"Probabilidade de ser um gato: {100* probs[1].item():.6f}%\")"
   ]
  },
  {
   "cell_type": "markdown",
   "metadata": {
    "id": "-7OKHlKeDBsW"
   },
   "source": [
    "Temos então uma rede neural treinada para distinguir imagens de cachorros de imagens de gatos com acurácia significativamente alta. Essa é uma das aplicações mais conhecidas do que chamamos \"visão computacional\".\n",
    "\n",
    "O modelo de aprendizagem de máquina adotado nesse exercício é chamado de *Transfer Learning*, e é altamente poderoso. Consiste, basicamente, em tomar uma rede neural pré-treinada (nesse caso a ResNet34) e treiná-la novamente para executar uma função específica (nesse caso distinguir imagens de cachorros de imagens de gatos) a partir de um novo dataset (nesse caso as 7390 imagens de cachorros e gatos fornecidas).\n",
    "\n",
    "O nosso intuito, ao apresentar esse exercício, é de oferecer uma nova ferramenta para aplicações diversas. Convidamos você a modificar os parâmetros originais desse notebook (como o número de épocas, o tamanho do set de validação, etc) para visualizar as consequências de cada alteração. \n",
    "\n",
    "Posteriormente, é possível também fornecer um novo dataset para treinar a rede para executar uma nova função, tal como distinguir baleias de golfinhos, motos de carros, raios-x de ossos quebrados de intactos etc.\n",
    "\n",
    "Lembramos que o tema da palestra do doutorando Vinícius de Oliveira, na quarta semana do curso, foi exatamente esse. A apresentação está disponível no Turing, [por este link](https://turing.inf.ufg.br/mod/resource/view.php?id=21564)."
   ]
  },
  {
   "cell_type": "markdown",
   "metadata": {
    "id": "AFBp-rFJxgKS"
   },
   "source": [
    "## 2 CNN para classificação binária de imagens\n",
    "\n",
    "Imersos agora no problema de distinção entre raças de cachorros, implementaremos outra rede neural convolucional para identificação de duas raças de cães, utilizando agora a biblioteca Pytorch. Essa biblioteca já lhes foi apresentada no Desafio de Programação 4, e agora será explorada de maneira mais profunda.\n",
    "\n",
    "Usaremos os seguintes módulos necessários para a **construção** da rede neural, lembrando que eles já foram importados no início do Jupyter Notebook."
   ]
  },
  {
   "cell_type": "markdown",
   "metadata": {
    "id": "_ivKX6M6UOat"
   },
   "source": [
    "*import torch*\n",
    "\n",
    "*from torchvision import transforms*\n",
    "\n",
    "*from torchvision.datasets import ImageFolder*\n",
    "\n",
    "*from torch.utils.data import DataLoader, random_split*"
   ]
  },
  {
   "cell_type": "markdown",
   "metadata": {
    "id": "zjK6ClFMz_gh"
   },
   "source": [
    "Além do Pytorch, repare que também importamos alguns elementos da biblioteca torchvision. De fato, apesar de a sua importação ser feita separadamente, o torchvision faz parte do Pytorch e nada mais é do que uma biblioteca que nos permite importar modelos pré-treinados e datasets clássicos já montados além de disponibilizar ferramentas que ajudarão a estruturar os dados que serão utilizados na rede neural em questão. Nesta atividade, utilizaremos o torchvision apenas para organizar os nossos dados que serão inseridos na rede neural que também criaremos."
   ]
  },
  {
   "cell_type": "markdown",
   "metadata": {
    "id": "t2HGouAf1GI7"
   },
   "source": [
    "### 2.1 Processamento do dataset\n",
    "\n",
    "Os dados que serão utilizados já estão baixados na pasta \"Data\" e serão, na célula abaixo, importados para dentro da variável data."
   ]
  },
  {
   "cell_type": "code",
   "execution_count": 44,
   "metadata": {
    "executionInfo": {
     "elapsed": 1611,
     "status": "ok",
     "timestamp": 1620660206300,
     "user": {
      "displayName": "Augusto Durães Camargo",
      "photoUrl": "https://lh3.googleusercontent.com/a-/AOh14GimWyGxaC_HpttlN1eoKVuCprhmp45jILw4TgUq1ss=s64",
      "userId": "04979901453514569292"
     },
     "user_tz": 180
    },
    "id": "123ut5y_4XyU"
   },
   "outputs": [],
   "source": [
    "transform = transforms.Compose([transforms.Resize((224,224)),transforms.ToTensor(),transforms.Normalize((0.5,),(0.5,))])\n",
    "data = ImageFolder('/content/drive/MyDrive/3° Semestre/IMLDL/Semana 5/Desafio de programacao 5/Utilidades-DP5/Data/Duas', transform=transform)"
   ]
  },
  {
   "cell_type": "markdown",
   "metadata": {
    "id": "eN8nqD5v4vbB"
   },
   "source": [
    "A primeira linha da célula acima define a variável `transform` utilizando a função `transforms.Compose`, que executa uma composição de todas as transformações que estão dentro da lista que é passada como seu único parâmetro. Nesse caso, as duas únicas transformações são o remodelamento do tamanho da imagem para 224 pixels (`transforms.Resize(224)`) e a transformação dessa imagem para um tensor (`transforms.ToTensor()`). Ressaltamos que o número 224 foi apenas um padrão adotado, mas outros valores também são válidos. Para ter acesso a outras transformações disponibilizadas por essa biblioteca, [clique neste link](https://pytorch.org/docs/stable/torchvision/transforms.html).\n",
    "\n",
    "Na sequência, nós utilizamos a função `ImageFolder` para coletar as imagens que estão dentro do diretório passado como parâmetro, salvando-as em um dataset. Para que essa função funcione, devemos separar os nossos exemplos em pastas cujos nomes serão utilizados como as labels das imagens presentes dentro de suas respectivas pastas.\n",
    "\n",
    "Dessa forma, se quisermos usar todas as imagens separar exemplos de um dataset entre as raças de cães, devemos colocar todas as imagens de cães na pasta \"Dois\", como feito com o nosso dataset. Recomendamos que vocês abram a pasta \"Data\" e vejam como há essa distinção exatamente no diretório passado como parâmetro da função `ImageFolder`.\n",
    "\n",
    "A partir da importação do dataset, podemos visualizar o tamanho do dataset. "
   ]
  },
  {
   "cell_type": "markdown",
   "metadata": {
    "id": "BHKB8raX4tOm"
   },
   "source": [
    "Faremos agora a divisão entre o dataset de treino e o de teste. A divisão, inicialmente, será feita da seguinte forma:\n",
    "- Dataset de treino: será contituído por aproximadamente 75% dos dados.\n",
    "- Dataset de teste: será constituído pelo restante dos dados.\n",
    "\n",
    "Para efetuar a divisão, utilizaremos a função `random_split()`. Repare que garantiremos a reprodutibilidade usando a mesma técnica que foi utilizada na seção 1.2 desta tarefa, especificando um valor de `seed` (nesse caso, 42)."
   ]
  },
  {
   "cell_type": "code",
   "execution_count": 45,
   "metadata": {
    "colab": {
     "base_uri": "https://localhost:8080/"
    },
    "executionInfo": {
     "elapsed": 1567,
     "status": "ok",
     "timestamp": 1620660210365,
     "user": {
      "displayName": "Augusto Durães Camargo",
      "photoUrl": "https://lh3.googleusercontent.com/a-/AOh14GimWyGxaC_HpttlN1eoKVuCprhmp45jILw4TgUq1ss=s64",
      "userId": "04979901453514569292"
     },
     "user_tz": 180
    },
    "id": "hoaWnZR9WX7r",
    "outputId": "7248d61b-c865-4de8-b1e8-70f09df9a437"
   },
   "outputs": [
    {
     "name": "stdout",
     "output_type": "stream",
     "text": [
      "Total de imagens no dataset: 406\n",
      "nº de imagens para treino: 304; nº de imagens para teste: 51; nº de imagens para validação: 51.\n"
     ]
    }
   ],
   "source": [
    "print('Total de imagens no dataset:', len(data))\n",
    "percentage = 75\n",
    "n_treino = round(len(data)* (percentage/100))\n",
    "n_teste = round(len(data)* (100 - percentage)/(2*100))\n",
    "n_valid = len(data) - n_treino - n_teste\n",
    "\n",
    "print('nº de imagens para treino: {:}'.format(n_treino) +'; nº de imagens para teste: {:}'.format(n_teste) +'; nº de imagens para validação: {:}'.format(n_valid) + '.')\n",
    "data_train, data_test, data_valid = random_split(data, [n_treino, n_teste, n_valid], generator=torch.Generator().manual_seed(42))\n",
    "\n",
    "batch_size = 20 \n",
    "loader_train, loader_test, loader_valid = DataLoader(data_train, batch_size=batch_size), DataLoader(data_test, batch_size=1), DataLoader(data_valid, batch_size=1)"
   ]
  },
  {
   "cell_type": "markdown",
   "metadata": {
    "id": "aBwoaPzT6wmR"
   },
   "source": [
    "Repare que nós utilizamos a função `round()` para evitar que a multiplicação resulte em um número não inteiro, arredondando, assim, para o número inteiro mais próximo.\n",
    "\n",
    "Faremos agora a criação dos *dataloaders* de treino e de teste utilizando a função `Dataloader`. Isso é importante para que consigamos combinar exemplos e labels em iterações, além de dividir os dados de treinamento em *batches*.\n",
    "\n",
    "Escolhemos o valor inicial de *batch_size* de 20, mas a escolha deste valor não é rígida e não há uma fórmula pronta para isso. Por isso, assim que finalizarmos a nossa rede neural, recomendamos que você modifique o valor desse parâmetro e veja quais são as mudanças que acontecem no processo de treinamento e de teste."
   ]
  },
  {
   "cell_type": "code",
   "execution_count": 46,
   "metadata": {
    "executionInfo": {
     "elapsed": 1471,
     "status": "ok",
     "timestamp": 1620660213197,
     "user": {
      "displayName": "Augusto Durães Camargo",
      "photoUrl": "https://lh3.googleusercontent.com/a-/AOh14GimWyGxaC_HpttlN1eoKVuCprhmp45jILw4TgUq1ss=s64",
      "userId": "04979901453514569292"
     },
     "user_tz": 180
    },
    "id": "D2XnDHbgCrsW"
   },
   "outputs": [],
   "source": [
    "batch_size = 20 #default = 20\n",
    "loader_train, loader_test = DataLoader(data_train, batch_size=batch_size), DataLoader(data_test, batch_size=1)"
   ]
  },
  {
   "cell_type": "markdown",
   "metadata": {
    "id": "c9p9aU6sNFXS"
   },
   "source": [
    "### 2.2 Montando uma Rede Neural com Pytorch\n",
    "\n",
    "Montaremos agora a rede neural que será utilizada para a classificação. A estruturação da rede será da seguinte forma:"
   ]
  },
  {
   "cell_type": "markdown",
   "metadata": {
    "id": "_ziXAtDf-8DP"
   },
   "source": [
    "#### *Input Layer*\n",
    "\n",
    "- Uma camada:\n",
    "  - Camada com 3 canais de entrada, de 224x224 cada.\n",
    "\n",
    "#### *Feature Mapping Layers*\n",
    "\n",
    "- Três conjuntos de convolução/*pooling*, totalizando seis camadas; Todas as camadas terão filtro iguais:\n",
    "  - **Filtro convolucional:** *kernel size* de 4x4 e *stride* igual a 2.\n",
    "  - **Filtro de *pooling*:** *kernel size* de 2x2 e *stride* igual a 2.\n",
    "\n",
    "- Primeiro conjunto:\n",
    "  - A primeira camada de convolução deve ter 3 canais de entrada e 8 de saída, resultando em 8 canais de dimensão 112x112;\n",
    "  - A primeira camada de *pooling* reduzirá a dimensão de cada canal para 57x57;\n",
    "    \n",
    "- Segundo conjunto:\n",
    "  -  A segunda camada de convolução deve ter 8 canais de entrada e 16 de saída, resultando em 16 canais de dimensão 28x28;\n",
    "  - A segunda camada de *pooling* reduzirá a dimensão de cada canal para 15x15;\n",
    "   \n",
    "- Terceiro conjunto:\n",
    "  -  A terceira camada de convolução deve ter 16 canais de entrada e 32 de saída, resultando em 32 canais de dimensão 7x7;\n",
    "  - A terceira camada de *pooling* reduzirá a dimensão de cada canal para 4x4;\n",
    "  \n",
    "#### *Fully Connected Layers*\n",
    "\n",
    "- Três camadas:\n",
    "  - A primeira camada deve ter 512 *hidden units*;\n",
    "  - A segunda camada deve ter 128 *hidden units*.\n",
    "  - A terceira camada deve ter 16 *hidden units*.\n",
    "\n",
    "#### *Output Layer*\n",
    "\n",
    "- Uma camada:\n",
    "  - Camada com 2 *outputs*\n"
   ]
  },
  {
   "cell_type": "markdown",
   "metadata": {
    "id": "Wp9EREvh_B3i"
   },
   "source": [
    "A arquitetura acima está ilustrada no esquemático abaixo:\n",
    "\n",
    "![Figure1.png](https://docs.google.com/uc?export=download&id=15IHOrHtN1lfwCmz0eTHV5qMniygL7qKP)"
   ]
  },
  {
   "cell_type": "markdown",
   "metadata": {
    "id": "iVY6tOFhfsBE"
   },
   "source": [
    "Agora, você deve completar o código abaixo para construir a rede neural mostrada e detalhada acima. Nós já fornecemos todos os parâmetros dos filtros de convolução e de *pooling* nas primeiras linhas do código. Além disso, nós também já construímos o primeiro conjunto de camadas para que sirva de exemplo. Por fim, as camadas *fully connected* também já estão implementadas ao final do código. Agora, cabe a você escrever os outros dois conjuntos de camadas da rede neural convolucional.\n",
    "\n",
    "Atente-se ao número de canais em cada camada da rede neural e que cada um desses conjuntos de camadas devem estar guardados dentro das variáveis `self.layer2` e `self.layer3`. A correta implementação desta classe lhe agregará **10 pontos** dentro da pontuação total deste desafio de programação."
   ]
  },
  {
   "cell_type": "code",
   "execution_count": 47,
   "metadata": {
    "executionInfo": {
     "elapsed": 1156,
     "status": "ok",
     "timestamp": 1620660217712,
     "user": {
      "displayName": "Augusto Durães Camargo",
      "photoUrl": "https://lh3.googleusercontent.com/a-/AOh14GimWyGxaC_HpttlN1eoKVuCprhmp45jILw4TgUq1ss=s64",
      "userId": "04979901453514569292"
     },
     "user_tz": 180
    },
    "id": "aBItWgAnANgG"
   },
   "outputs": [],
   "source": [
    "class NN_CNN(torch.nn.Module):\n",
    "    def __init__(self, altura_imagem, largura_imagem, n_layer=3):\n",
    "        super(NN_CNN, self).__init__()\n",
    "        self.kernel_size_conv = 4\n",
    "        self.stride_conv = 2\n",
    "        self.padding_conv = 1\n",
    "        self.dilation_conv = 1\n",
    "\n",
    "        self.kernel_size_pool = 2\n",
    "        self.stride_pool = 2\n",
    "        self.padding_pool = 1\n",
    "        self.dilation_pool = 1\n",
    "        self.altura_imagem = altura_imagem\n",
    "        self.largura_imagem = largura_imagem\n",
    "\n",
    "\n",
    "\n",
    "        self.layer1 = torch.nn.Sequential(\n",
    "            torch.nn.Conv2d(\n",
    "            in_channels=3, \n",
    "            out_channels=8,\n",
    "            kernel_size=self.kernel_size_conv, \n",
    "            stride=self.stride_conv, \n",
    "            padding=self.padding_conv, \n",
    "            dilation=self.dilation_conv),\n",
    "            torch.nn.ReLU(),\n",
    "            torch.nn.MaxPool2d(\n",
    "            kernel_size=self.kernel_size_pool,\n",
    "            stride=self.stride_pool, \n",
    "            padding=self.padding_pool, \n",
    "            dilation=self.dilation_pool)\n",
    "        )\n",
    "\n",
    "\n",
    "        \"\"\"\n",
    "        Estruture a arquitetura da rede convolucional, tomando por base a definição \n",
    "        da primeira camada, que foi fornecida acima. A rede criada deve ter a \n",
    "        mesma arquitetura da rede solicitada para que seja considerada correta.\n",
    "\n",
    "        Instruções\n",
    "        ------------\n",
    "        Siga o exemplo da implementação da primeira camada para implementar as \n",
    "        demais. Atente-se à compatibilidade entre camadas vizinhas, tal que o\n",
    "        número de canais de saída da anterior seja compatível com o número de \n",
    "        canais de entrada da seguinte. Você deve ter por objetivo a arquitetura\n",
    "        exigida, sendo ela a única válida para pontuar na questão.\n",
    "\n",
    "        Nota\n",
    "        ------------\n",
    "        Você é livre para modificar os parâmetros da rede (Convolução, Função \n",
    "        de Ativação e Pooling) desde que implemente a arquitetura pedida. No \n",
    "        entanto, recomendamos que utilize os mesmos parâmetros definidos para a \n",
    "        primeira camada, por simplicidade.\n",
    "        \"\"\"\n",
    "\n",
    "        self.layer2 = 0\n",
    "        self.layer3 = 0\n",
    "\n",
    "\n",
    "        #======================== YOUR CODE HERE ==========================\n",
    "        self.layer2 = torch.nn.Sequential(\n",
    "            nn.Conv2d(\n",
    "                in_channels=8,\n",
    "                out_channels=16,\n",
    "                kernel_size=self.kernel_size_conv,\n",
    "                stride=self.stride_conv,\n",
    "                padding=self.padding_conv,\n",
    "                dilation=self.dilation_conv),\n",
    "            nn.ReLU(),\n",
    "            nn.MaxPool2d(kernel_size=self.kernel_size_pool,\n",
    "                stride=self.stride_pool,\n",
    "                padding=self.padding_pool,\n",
    "                dilation=self.dilation_pool)\n",
    "            )\n",
    "        \n",
    "        self.layer3 = torch.nn.Sequential(nn.Conv2d(in_channels=16,\n",
    "            out_channels=32,\n",
    "            kernel_size=self.kernel_size_conv,\n",
    "            stride=self.stride_conv,\n",
    "            padding=self.padding_conv,\n",
    "            dilation=self.dilation_conv\n",
    "            ),\n",
    "            nn.ReLU(),\n",
    "            nn.MaxPool2d(kernel_size=self.kernel_size_pool,\n",
    "            stride=self.stride_pool,\n",
    "            padding=self.padding_pool,\n",
    "            dilation=self.dilation_pool)\n",
    "            )\n",
    "        #=================================================================\n",
    "\n",
    "\n",
    "        self.dicio = {}\n",
    "        self.dicio[0] = self.layer1\n",
    "        self.dicio[1] = self.layer2\n",
    "        self.dicio[2] = self.layer3\n",
    "\n",
    "        self.size_list = [(altura_imagem, largura_imagem)]\n",
    "        self.num_list, self.patch_size_list = [], []\n",
    "        altura, largura = altura_imagem, largura_imagem\n",
    "        for n in range(n_layer):\n",
    "            self.conv_altura = 1 + (altura + 2*self.padding_conv - self.dilation_conv*(self.kernel_size_conv - 1) - 1)//self.stride_conv\n",
    "            self.conv_largura = 1 + (largura + 2*self.padding_conv - self.dilation_conv*(self.kernel_size_conv - 1) - 1)//self.stride_conv\n",
    "            altura = 1 + (self.conv_altura + 2*self.padding_pool - self.dilation_pool*(self.kernel_size_pool - 1) - 1)//self.stride_pool\n",
    "            largura = 1 + (self.conv_largura + 2*self.padding_pool - self.dilation_pool*(self.kernel_size_pool - 1) - 1)//self.stride_pool \n",
    "            \n",
    "        self.size_list.append((self.conv_largura, self.conv_altura))\n",
    "        self.num_list.append(self.dicio[n][0].in_channels)\n",
    "        self.size_list.append((altura, largura))\n",
    "        self.num_list.append(self.dicio[n][0].out_channels)\n",
    "        self.patch_size_list.append((self.kernel_size_conv,self.kernel_size_conv))\n",
    "        self.patch_size_list.append((self.kernel_size_pool, self.kernel_size_pool))\n",
    "\n",
    "        self.num_list.append(self.num_list[-1])\n",
    "\n",
    "        self.fc1 = torch.nn.Linear(altura * largura * self.num_list[-1], 128)\n",
    "        self.fc2 = torch.nn.Linear(128,16)\n",
    "        self.fc3 = torch.nn.Linear(16,2)\n",
    "\n",
    "        self.num_fc_list = []\n",
    "        self.num_fc_list.append(self.fc1.in_features)\n",
    "        self.num_fc_list.append(self.fc2.in_features)\n",
    "        self.num_fc_list.append(self.fc3.in_features)\n",
    "        self.num_fc_list.append(self.fc3.out_features)"
   ]
  },
  {
   "cell_type": "markdown",
   "metadata": {
    "id": "mbBHNbIpZ-iw"
   },
   "source": [
    "Com a estrutura da nossa rede neural montada, iremos utilizar a função `cria_imagem()` disponibilizada no arquivo `utils` para produzir uma imagem com o layout da rede neural construída na célula acima. Se a estrutura vista na imagem for diferente daquela mostrada acima, é provável que haja algum erro na implementação da célula superior. "
   ]
  },
  {
   "cell_type": "code",
   "execution_count": 48,
   "metadata": {
    "executionInfo": {
     "elapsed": 794,
     "status": "ok",
     "timestamp": 1620660221052,
     "user": {
      "displayName": "Augusto Durães Camargo",
      "photoUrl": "https://lh3.googleusercontent.com/a-/AOh14GimWyGxaC_HpttlN1eoKVuCprhmp45jILw4TgUq1ss=s64",
      "userId": "04979901453514569292"
     },
     "user_tz": 180
    },
    "id": "IKt4TTJ_W1ym"
   },
   "outputs": [],
   "source": [
    "model = NN_CNN(224,224)\n",
    "#utils.cria_imagem(model)"
   ]
  },
  {
   "cell_type": "markdown",
   "metadata": {
    "id": "sxz9roWApooM"
   },
   "source": [
    "Com a rede construída, devemos implementar a função `forward()` que receberá como entrada uma imagem de 3 canais de 224x224 de dimensão cada uma e passará essa figura pelos 3 conjuntos de camadas da rede neural e, depois disso, passará o resultado através das três camadas *fully connected*. Esse resultado deve ser salvo na variável `out`, que é retornada ao final da função.\n",
    "\n",
    "Repare que na Tarefa de Programação 4 nós utilizamos uma função similar que você pode utilizar como inspiração para implementar esta. A correta implementação desta função lhe agregará **10 pontos** dentro da pontuação total deste desafio de programação.\n",
    "\n"
   ]
  },
  {
   "cell_type": "code",
   "execution_count": 49,
   "metadata": {
    "executionInfo": {
     "elapsed": 1884,
     "status": "ok",
     "timestamp": 1620660223508,
     "user": {
      "displayName": "Augusto Durães Camargo",
      "photoUrl": "https://lh3.googleusercontent.com/a-/AOh14GimWyGxaC_HpttlN1eoKVuCprhmp45jILw4TgUq1ss=s64",
      "userId": "04979901453514569292"
     },
     "user_tz": 180
    },
    "id": "5X2geVMMorH6"
   },
   "outputs": [],
   "source": [
    "from torch.nn import functional as F\n",
    "def forward(self,x):\n",
    "    \"\"\"\n",
    "    Implemente a propagação direta na rede neural para que, dado um conjunto de \n",
    "    dados de entrada \"x\", o modelo possa prever a probabilidade de pertencer a\n",
    "    cada uma das classes de saída \"^y\".\n",
    "\n",
    "    Parâmetros\n",
    "    ----------\n",
    "    self : class_like\n",
    "      Class que contém os parâmetros da rede.\n",
    "\n",
    "    x: array_like\n",
    "        Dataset de entrada. Um vetor com shape (1 x 224*224).\n",
    "\n",
    "    Retorna\n",
    "    --------\n",
    "    out : array_like\n",
    "        Saída da rede. Vetor com as probabilidades da entrada pertencer a cada \n",
    "        uma das classes.\n",
    "    \n",
    "    Instruções\n",
    "    ------------\n",
    "    Propague os dados de entrada camada a camada, até a camada de saída. \n",
    "    Atente-se à arquitetura da rede.\n",
    "\n",
    "    \"\"\"\n",
    "    \n",
    "    out = 0\n",
    "\n",
    "    #======================== YOUR CODE HERE ==========================\n",
    "    out = self.layer1(x)\n",
    "    out = self.layer2(out)\n",
    "    out = self.layer3(out)\n",
    "    \n",
    "    out = out.flatten(start_dim=1)\n",
    "    \n",
    "    out = self.fc1(out)\n",
    "    out = F.relu(out)\n",
    "    out = self.fc2(out)\n",
    "    out = F.relu(out)\n",
    "    out = self.fc3(out)\n",
    "    #==================================================================\n",
    "\n",
    "    return out"
   ]
  },
  {
   "cell_type": "markdown",
   "metadata": {
    "id": "DZRLHb1PsQGt"
   },
   "source": [
    "Com a função pronta, iremos instanciar a rede neural na variável `model` através da execução da célula abaixo e adicionar a função `forward` nela utilizando a função `types.MethodType()`."
   ]
  },
  {
   "cell_type": "code",
   "execution_count": 50,
   "metadata": {
    "executionInfo": {
     "elapsed": 1243,
     "status": "ok",
     "timestamp": 1620660224806,
     "user": {
      "displayName": "Augusto Durães Camargo",
      "photoUrl": "https://lh3.googleusercontent.com/a-/AOh14GimWyGxaC_HpttlN1eoKVuCprhmp45jILw4TgUq1ss=s64",
      "userId": "04979901453514569292"
     },
     "user_tz": 180
    },
    "id": "b7XJyc_3oySm"
   },
   "outputs": [],
   "source": [
    "model = NN_CNN(altura_imagem=224,largura_imagem=224).to(device)\n",
    "\n",
    "import types\n",
    "model.forward = types.MethodType(forward,model)"
   ]
  },
  {
   "cell_type": "markdown",
   "metadata": {
    "id": "0KnhPNmssuY5"
   },
   "source": [
    "Com a rede neural configurada corretamente e a função `forward()` implementada de maneira adequada, poderemos efetuar o treinamento e o teste da nossa função.\n",
    "\n",
    "Repare que a variável model que foi carregada na célula acima não é carregada novamente na célula abaixo. Isso faz com que as variáveis utilizadas na célula abaixo não sejam recarregadas a cada vez que a célula for executada, permitindo que o mesmo modelo possa ser treinado e testado por mais épocas, partindo do ponto que havia parado. Se você pretender reiniciar o processo, treinando um modelo desde o início, reiniciando a vairável `model`, execute a célula acima."
   ]
  },
  {
   "cell_type": "code",
   "execution_count": 51,
   "metadata": {
    "colab": {
     "base_uri": "https://localhost:8080/"
    },
    "executionInfo": {
     "elapsed": 226824,
     "status": "ok",
     "timestamp": 1620660453415,
     "user": {
      "displayName": "Augusto Durães Camargo",
      "photoUrl": "https://lh3.googleusercontent.com/a-/AOh14GimWyGxaC_HpttlN1eoKVuCprhmp45jILw4TgUq1ss=s64",
      "userId": "04979901453514569292"
     },
     "user_tz": 180
    },
    "id": "MwTEDjE3BRKC",
    "outputId": "483a105e-68b5-4197-9266-8228af7b1a2e"
   },
   "outputs": [
    {
     "name": "stdout",
     "output_type": "stream",
     "text": [
      "epoch: 1  loss: 0.7211  Accuracy: 62.75\n",
      "epoch: 2  loss: 0.4988  Accuracy: 90.20\n",
      "epoch: 3  loss: 0.4157  Accuracy: 76.47\n",
      "epoch: 4  loss: 0.2548  Accuracy: 84.31\n",
      "epoch: 5  loss: 0.1142  Accuracy: 84.31\n",
      "epoch: 6  loss: 0.0725  Accuracy: 88.24\n",
      "epoch: 7  loss: 0.0571  Accuracy: 92.16\n",
      "epoch: 8  loss: 0.1102  Accuracy: 74.51\n",
      "epoch: 9  loss: 0.0183  Accuracy: 92.16\n",
      "epoch: 10  loss: 0.0091  Accuracy: 90.20\n",
      "epoch: 11  loss: 0.0009  Accuracy: 94.12\n",
      "epoch: 12  loss: 0.0009  Accuracy: 90.20\n",
      "epoch: 13  loss: 0.0005  Accuracy: 90.20\n",
      "epoch: 14  loss: 0.0001  Accuracy: 92.16\n",
      "epoch: 15  loss: 0.0001  Accuracy: 90.20\n",
      "epoch: 16  loss: 0.0001  Accuracy: 90.20\n",
      "epoch: 17  loss: 0.0001  Accuracy: 92.16\n",
      "epoch: 18  loss: 0.0001  Accuracy: 92.16\n",
      "epoch: 19  loss: 0.0001  Accuracy: 92.16\n",
      "epoch: 20  loss: 0.0001  Accuracy: 92.16\n",
      "epoch: 21  loss: 0.0001  Accuracy: 92.16\n",
      "epoch: 22  loss: 0.0000  Accuracy: 92.16\n",
      "epoch: 23  loss: 0.0000  Accuracy: 92.16\n",
      "epoch: 24  loss: 0.0000  Accuracy: 92.16\n",
      "epoch: 25  loss: 0.0000  Accuracy: 92.16\n",
      "epoch: 26  loss: 0.0000  Accuracy: 92.16\n",
      "epoch: 27  loss: 0.0000  Accuracy: 92.16\n",
      "epoch: 28  loss: 0.0000  Accuracy: 92.16\n",
      "epoch: 29  loss: 0.0000  Accuracy: 92.16\n",
      "epoch: 30  loss: 0.0000  Accuracy: 92.16\n"
     ]
    }
   ],
   "source": [
    "epochs = 30 #default = 30\n",
    "lr = 0.0025 #default = 0.0025\n",
    "\n",
    "criterion = torch.nn.CrossEntropyLoss().to(device)\n",
    "optimizer = torch.optim.AdamW(model.parameters(), lr=lr) \n",
    " \n",
    "list_train_loss = []\n",
    "list_test_loss = []\n",
    "list_acc = []\n",
    "for epoch in range(1, epochs+1):\n",
    "\tmodel.train()\n",
    "\tfor imagem_treino,label_treino in loader_train:\n",
    "\t\timagem_treino, label_treino = imagem_treino.float().to(device), label_treino.to(device)\n",
    "\t\toutputs = model(imagem_treino)\n",
    "\t\toutputs = (torch.log_softmax(outputs,dim=1))\n",
    "\t\tloss = criterion(outputs, label_treino.float().long())\n",
    "\n",
    "\t\toptimizer.zero_grad() #Zera o gradiente para que ele não seja constantemente acumulado na backpropragation que vem a seguir\n",
    "\t\tloss.backward() #Realiza a backpropragation\n",
    "\t\toptimizer.step() #realiza mais um passo dentro do gradiente\n",
    "\tlist_train_loss.append(loss.item()) #Guarda o valor da função de perda\n",
    "\n",
    "\tcorrect = 0\n",
    "\ttotal = 0\n",
    "\tmodel.eval()\n",
    "\tfor imagem_teste, label_teste in loader_test:\n",
    "\t\timagem_teste, label_teste = imagem_teste.float().to(device), label_teste.to(device)\n",
    "\t\toutputs_test = model(imagem_teste)\n",
    "\t\toutputs_test = (torch.log_softmax(outputs_test,dim=1))\n",
    "\t\t_,previsao = torch.max(outputs_test, dim = 1)\n",
    "\t\tloss_test = criterion(outputs_test, label_teste.long())\n",
    "\t\ttotal = total + 1 #Adiciona +1 na variável que guarda o total de previsões feitas\n",
    "\t\tif previsao == label_teste: \n",
    "\t\t\tcorrect = correct + 1 #Soma +1 na variável que mede quantas previsões dessa categoria (erro absoluto de 2 graus) estão certas\n",
    "\tlist_test_loss.append(loss_test.item())\n",
    "\n",
    "\tacc = (correct/total)*100 #Calcula a acurácia para erro absoluto de 1 grau em porcentagem\n",
    "\tlist_acc.append(acc) #Adiciona essa acurácia a sua lista\n",
    "\n",
    "\n",
    "\tprint('epoch:', epoch ,' loss: {:.4f}'.format(loss.item()), ' Accuracy: {:.2f}'.format(acc)) #Printa o valor da função de erro, o sMAPE e a acurácia a cada época\n"
   ]
  },
  {
   "cell_type": "markdown",
   "metadata": {
    "id": "FIff2-QbXo0W"
   },
   "source": [
    "A partir do treinamento e do teste do nosso modelo, podemos analisar o comportamento do custo e da acurácia ao longo das épocas."
   ]
  },
  {
   "cell_type": "code",
   "execution_count": 52,
   "metadata": {
    "colab": {
     "base_uri": "https://localhost:8080/",
     "height": 585
    },
    "executionInfo": {
     "elapsed": 2813,
     "status": "ok",
     "timestamp": 1620660456239,
     "user": {
      "displayName": "Augusto Durães Camargo",
      "photoUrl": "https://lh3.googleusercontent.com/a-/AOh14GimWyGxaC_HpttlN1eoKVuCprhmp45jILw4TgUq1ss=s64",
      "userId": "04979901453514569292"
     },
     "user_tz": 180
    },
    "id": "PY3LxUEyWNw_",
    "outputId": "a6ef3f11-9d42-4937-dd56-6f7a167bd38f"
   },
   "outputs": [
    {
     "data": {
      "image/png": "[encoded data removed]",
      "text/plain": [
       "<Figure size 1080x576 with 2 Axes>"
      ]
     },
     "metadata": {
      "needs_background": "light",
      "tags": []
     },
     "output_type": "display_data"
    }
   ],
   "source": [
    "fig, axs = pyplot.subplots(2,figsize=(15,8))\n",
    "axs[0].plot(list_train_loss,label=\"Train loss\") #Plota o erro de treino X epocas\n",
    "axs[0].plot(list_test_loss, label=\"Test loss\") #Plota o erro de teste x epocas\n",
    "axs[0].set_title('Losses x Epochs') #Define o título\n",
    "axs[0].set(xlabel='Epochs') #Define o nome do eixo x\n",
    "axs[0].set(ylabel='Losses') #Define o nome do eixo y\n",
    "axs[0].legend() #Mostra a legenda\n",
    "axs[0].grid(True) #Mostra a grade\n",
    "\n",
    "\n",
    "axs[1].plot(list_acc, label='Accuracy') #Plota a acuracia para erro x epocas\n",
    "axs[1].set_title('Accuracy x epochs') #Define o título\n",
    "axs[1].set(xlabel='Epochs') #Define o nome do eixo x\n",
    "axs[1].set(ylabel='Accuracy (%)') #Define o nome do eixo y\n",
    "axs[1].legend(loc='lower right') #Mostra a legenda\n",
    "axs[1].grid(True) #Mostra a grade\n",
    "\n",
    "pyplot.tight_layout()\n"
   ]
  },
  {
   "cell_type": "markdown",
   "metadata": {
    "id": "gzxPVdXBu9HW"
   },
   "source": [
    "Sugere-se que o aluno modifique os parâmetros utilizados no treinamento da rede. Os valores a serem testados são os seguintes (nessa ordem):\n",
    "\n",
    "  a)  *Batch Size* (variável `batch_size`): [10, 50, 100, 500];\n",
    "\n",
    "  b) Porcentagem *Training_Set*/*Full_dataset* (variável `percentage`): [70, 80, 90].\n",
    "\n",
    "  c)  *Learning Rate* (variável `lr`): [0.0005, 0.001, 0.005, 0.01, 0.05];\n",
    "\n",
    "  d) *Epochs* (variável `epochs`): [5, 20, 40, 60].\n",
    "\n",
    "Para isso, pedimos que siga as seguintes instruções:\n",
    "\n",
    "1. Modifique apenas um dos parâmetros sob teste, deixando os demais com seus valores *defaults*.\n",
    "\n",
    "2. Atribua os valores pedidos ao parâmetro sob teste, respeitando a ordem designada.\n",
    "\n",
    "3. Execute novamente todas as célula a partir daquela que sofreu a alteração, com o valor do parâmetro sob teste modificado. Lembre-se de reiniciar a sua variável `model`.\n",
    "\n",
    "4. Observe as diferenças no tempo de execução e na acurácia obtida.\n",
    "\n",
    "5. Repita o procedimento com o próximo valor (ou o próximo parâmetro) a ser testado.\n",
    "\n",
    "6. Ao finalizar todos os testes, atribua os valores *default* novamente aos parâmetros modificados.\n"
   ]
  },
  {
   "cell_type": "markdown",
   "metadata": {
    "id": "nNudyzxcVg4w"
   },
   "source": [
    "### 2.3 Importando uma rede pré-treinada\n",
    "\n",
    "Na atividade anterior nós implementamos uma CNN que conseguia distinguir cães de duas raças diferentes a partir de imagenss. Agora, nós iremos nos debruçar sobre o mesmo problema, mas faremos isso com outras ferramentas.\n",
    "\n",
    "Na parte anterior nós criamos inteiramente a estrutura da CNN. Agora, nós utilizaremos o conceito de Transfer Learning, importando a Rede Neural pré treinada ResNet18 para fazer a classificação em questão.\n",
    "\n",
    "O intuito é compararmos os ganhos e as perdas que esta técnica nos traz na resolução deste problema."
   ]
  },
  {
   "cell_type": "markdown",
   "metadata": {
    "id": "2MLM8zPJWqPH"
   },
   "source": [
    "Com os dados carregados na variável `data`, da atividade anterior, dividiremos o dataset em porções para treino e para teste.\n",
    "\n",
    "Dica: se necessário, execute novamente a célula de importação do dataset do exercício anterior:\n",
    "\n",
    "    transform = transforms.Compose([transforms.Resize((224,224)), transforms.ToTensor()])\n",
    "    data = ImageFolder('/content/drive/My Drive/IMLDL/Desafios de Programação/Desafio de programação 5/Utilidades-DP5/Data', transform=transform)"
   ]
  },
  {
   "cell_type": "markdown",
   "metadata": {
    "id": "q-52aDXqXlpD"
   },
   "source": [
    "Diferentemente do que foi feito na última tarefa, nós não criaremos o nosso modelo de rede neural. Dessa vez, nós importaremos um modelo pré treinado, nesse caso, o escolhido foi a `ResNet18` por conta da sua simplicidade e eficiência. \n",
    "\n",
    "Para isso, utilizaremos o módulo `models` da biblioteca `torchvision` ao executar a célula abaixo. Esse módulo disponibiliza várias redes neurais pré treinadas de diferentes tipos. Para acessar a lista completa, [clique neste link](https://pytorch.org/docs/stable/torchvision/models.html).\n",
    "\n",
    "Como dito, a escolhida foi uma ResNet, mais especificamente a `Resnet18`. Dentre todas as ResNet's disponíveis, esta é a que possui estrutura mais simples, e, por isso, é a que demanda menos memória e tempo para treinamento e teste. Para mais detalhes sobre essas redes, [clique neste link](https://arxiv.org/pdf/1512.03385.pdf)."
   ]
  },
  {
   "cell_type": "code",
   "execution_count": 53,
   "metadata": {
    "colab": {
     "base_uri": "https://localhost:8080/",
     "height": 83,
     "referenced_widgets": [
      "d29d1c151d4b46d6b5914bea526e09ad",
      "52efb6b72dfa4befb04b7eb3a35956e0",
      "087bd6321b334681b15c10f9fcefbe29",
      "5918ecf2b00144c591d1a71243950e62",
      "c7fff55c341e43738433c21a5b5d00d9",
      "b6ab152036724cc78c5610de632422c6",
      "21aef4927a3d4c9d80c0cd4fc666c653",
      "f08dced153ba4d9b89125a963b9807c7"
     ]
    },
    "executionInfo": {
     "elapsed": 3477,
     "status": "ok",
     "timestamp": 1620660456906,
     "user": {
      "displayName": "Augusto Durães Camargo",
      "photoUrl": "https://lh3.googleusercontent.com/a-/AOh14GimWyGxaC_HpttlN1eoKVuCprhmp45jILw4TgUq1ss=s64",
      "userId": "04979901453514569292"
     },
     "user_tz": 180
    },
    "id": "UjFwUrNtXpYn",
    "outputId": "35347e57-08e9-474a-86ce-7b3ba79f56f8"
   },
   "outputs": [
    {
     "name": "stderr",
     "output_type": "stream",
     "text": [
      "Downloading: \"https://download.pytorch.org/models/resnet18-5c106cde.pth\" to /root/.cache/torch/hub/checkpoints/resnet18-5c106cde.pth\n"
     ]
    },
    {
     "data": {
      "application/vnd.jupyter.widget-view+json": {
       "model_id": "d29d1c151d4b46d6b5914bea526e09ad",
       "version_major": 2,
       "version_minor": 0
      },
      "text/plain": [
       "HBox(children=(FloatProgress(value=0.0, max=46827520.0), HTML(value='')))"
      ]
     },
     "metadata": {
      "tags": []
     },
     "output_type": "display_data"
    },
    {
     "name": "stdout",
     "output_type": "stream",
     "text": [
      "\n"
     ]
    }
   ],
   "source": [
    "model = models.resnet18(pretrained=True)"
   ]
  },
  {
   "cell_type": "markdown",
   "metadata": {
    "id": "ZRlN_a0mXrnk"
   },
   "source": [
    "Para ver a estrutura da rede escolhida, execute a célula abaixo."
   ]
  },
  {
   "cell_type": "code",
   "execution_count": 54,
   "metadata": {
    "colab": {
     "base_uri": "https://localhost:8080/"
    },
    "executionInfo": {
     "elapsed": 3476,
     "status": "ok",
     "timestamp": 1620660456906,
     "user": {
      "displayName": "Augusto Durães Camargo",
      "photoUrl": "https://lh3.googleusercontent.com/a-/AOh14GimWyGxaC_HpttlN1eoKVuCprhmp45jILw4TgUq1ss=s64",
      "userId": "04979901453514569292"
     },
     "user_tz": 180
    },
    "id": "4Mn49h97X02Q",
    "outputId": "e21c2916-1ca3-4497-c390-6570423ce35b"
   },
   "outputs": [
    {
     "data": {
      "text/plain": [
       "ResNet(\n",
       "  (conv1): Conv2d(3, 64, kernel_size=(7, 7), stride=(2, 2), padding=(3, 3), bias=False)\n",
       "  (bn1): BatchNorm2d(64, eps=1e-05, momentum=0.1, affine=True, track_running_stats=True)\n",
       "  (relu): ReLU(inplace=True)\n",
       "  (maxpool): MaxPool2d(kernel_size=3, stride=2, padding=1, dilation=1, ceil_mode=False)\n",
       "  (layer1): Sequential(\n",
       "    (0): BasicBlock(\n",
       "      (conv1): Conv2d(64, 64, kernel_size=(3, 3), stride=(1, 1), padding=(1, 1), bias=False)\n",
       "      (bn1): BatchNorm2d(64, eps=1e-05, momentum=0.1, affine=True, track_running_stats=True)\n",
       "      (relu): ReLU(inplace=True)\n",
       "      (conv2): Conv2d(64, 64, kernel_size=(3, 3), stride=(1, 1), padding=(1, 1), bias=False)\n",
       "      (bn2): BatchNorm2d(64, eps=1e-05, momentum=0.1, affine=True, track_running_stats=True)\n",
       "    )\n",
       "    (1): BasicBlock(\n",
       "      (conv1): Conv2d(64, 64, kernel_size=(3, 3), stride=(1, 1), padding=(1, 1), bias=False)\n",
       "      (bn1): BatchNorm2d(64, eps=1e-05, momentum=0.1, affine=True, track_running_stats=True)\n",
       "      (relu): ReLU(inplace=True)\n",
       "      (conv2): Conv2d(64, 64, kernel_size=(3, 3), stride=(1, 1), padding=(1, 1), bias=False)\n",
       "      (bn2): BatchNorm2d(64, eps=1e-05, momentum=0.1, affine=True, track_running_stats=True)\n",
       "    )\n",
       "  )\n",
       "  (layer2): Sequential(\n",
       "    (0): BasicBlock(\n",
       "      (conv1): Conv2d(64, 128, kernel_size=(3, 3), stride=(2, 2), padding=(1, 1), bias=False)\n",
       "      (bn1): BatchNorm2d(128, eps=1e-05, momentum=0.1, affine=True, track_running_stats=True)\n",
       "      (relu): ReLU(inplace=True)\n",
       "      (conv2): Conv2d(128, 128, kernel_size=(3, 3), stride=(1, 1), padding=(1, 1), bias=False)\n",
       "      (bn2): BatchNorm2d(128, eps=1e-05, momentum=0.1, affine=True, track_running_stats=True)\n",
       "      (downsample): Sequential(\n",
       "        (0): Conv2d(64, 128, kernel_size=(1, 1), stride=(2, 2), bias=False)\n",
       "        (1): BatchNorm2d(128, eps=1e-05, momentum=0.1, affine=True, track_running_stats=True)\n",
       "      )\n",
       "    )\n",
       "    (1): BasicBlock(\n",
       "      (conv1): Conv2d(128, 128, kernel_size=(3, 3), stride=(1, 1), padding=(1, 1), bias=False)\n",
       "      (bn1): BatchNorm2d(128, eps=1e-05, momentum=0.1, affine=True, track_running_stats=True)\n",
       "      (relu): ReLU(inplace=True)\n",
       "      (conv2): Conv2d(128, 128, kernel_size=(3, 3), stride=(1, 1), padding=(1, 1), bias=False)\n",
       "      (bn2): BatchNorm2d(128, eps=1e-05, momentum=0.1, affine=True, track_running_stats=True)\n",
       "    )\n",
       "  )\n",
       "  (layer3): Sequential(\n",
       "    (0): BasicBlock(\n",
       "      (conv1): Conv2d(128, 256, kernel_size=(3, 3), stride=(2, 2), padding=(1, 1), bias=False)\n",
       "      (bn1): BatchNorm2d(256, eps=1e-05, momentum=0.1, affine=True, track_running_stats=True)\n",
       "      (relu): ReLU(inplace=True)\n",
       "      (conv2): Conv2d(256, 256, kernel_size=(3, 3), stride=(1, 1), padding=(1, 1), bias=False)\n",
       "      (bn2): BatchNorm2d(256, eps=1e-05, momentum=0.1, affine=True, track_running_stats=True)\n",
       "      (downsample): Sequential(\n",
       "        (0): Conv2d(128, 256, kernel_size=(1, 1), stride=(2, 2), bias=False)\n",
       "        (1): BatchNorm2d(256, eps=1e-05, momentum=0.1, affine=True, track_running_stats=True)\n",
       "      )\n",
       "    )\n",
       "    (1): BasicBlock(\n",
       "      (conv1): Conv2d(256, 256, kernel_size=(3, 3), stride=(1, 1), padding=(1, 1), bias=False)\n",
       "      (bn1): BatchNorm2d(256, eps=1e-05, momentum=0.1, affine=True, track_running_stats=True)\n",
       "      (relu): ReLU(inplace=True)\n",
       "      (conv2): Conv2d(256, 256, kernel_size=(3, 3), stride=(1, 1), padding=(1, 1), bias=False)\n",
       "      (bn2): BatchNorm2d(256, eps=1e-05, momentum=0.1, affine=True, track_running_stats=True)\n",
       "    )\n",
       "  )\n",
       "  (layer4): Sequential(\n",
       "    (0): BasicBlock(\n",
       "      (conv1): Conv2d(256, 512, kernel_size=(3, 3), stride=(2, 2), padding=(1, 1), bias=False)\n",
       "      (bn1): BatchNorm2d(512, eps=1e-05, momentum=0.1, affine=True, track_running_stats=True)\n",
       "      (relu): ReLU(inplace=True)\n",
       "      (conv2): Conv2d(512, 512, kernel_size=(3, 3), stride=(1, 1), padding=(1, 1), bias=False)\n",
       "      (bn2): BatchNorm2d(512, eps=1e-05, momentum=0.1, affine=True, track_running_stats=True)\n",
       "      (downsample): Sequential(\n",
       "        (0): Conv2d(256, 512, kernel_size=(1, 1), stride=(2, 2), bias=False)\n",
       "        (1): BatchNorm2d(512, eps=1e-05, momentum=0.1, affine=True, track_running_stats=True)\n",
       "      )\n",
       "    )\n",
       "    (1): BasicBlock(\n",
       "      (conv1): Conv2d(512, 512, kernel_size=(3, 3), stride=(1, 1), padding=(1, 1), bias=False)\n",
       "      (bn1): BatchNorm2d(512, eps=1e-05, momentum=0.1, affine=True, track_running_stats=True)\n",
       "      (relu): ReLU(inplace=True)\n",
       "      (conv2): Conv2d(512, 512, kernel_size=(3, 3), stride=(1, 1), padding=(1, 1), bias=False)\n",
       "      (bn2): BatchNorm2d(512, eps=1e-05, momentum=0.1, affine=True, track_running_stats=True)\n",
       "    )\n",
       "  )\n",
       "  (avgpool): AdaptiveAvgPool2d(output_size=(1, 1))\n",
       "  (fc): Linear(in_features=512, out_features=1000, bias=True)\n",
       ")"
      ]
     },
     "execution_count": 54,
     "metadata": {
      "tags": []
     },
     "output_type": "execute_result"
    }
   ],
   "source": [
    "model"
   ]
  },
  {
   "cell_type": "markdown",
   "metadata": {
    "id": "bhO3MwmkX6yK"
   },
   "source": [
    "O *Transfer Learning* é uma técnica que nos permite utilizar uma rede cujos parâmetros já foram treinados utilizando datasets grandes e diversos. Porém, a estrutura da rede nem sempre se encaixa ao contexto em que vamos utilizar. Por exemplo, a camada de *output* da ResNet18 possui mil unidades mas, para o nosso problema, nós precisamos apenas de duas unidades de saída.\n",
    "\n",
    "Para resolver isso, nós podemos modificar as camadas da rede conforme desejamos. Para esse exemplo, nós estamos interessados em modificar apenas as últimas camadas da rede, chamadas *fully connected layers* (ou `fc`). \n",
    "\n",
    "Antes de fazer qualquer modificação na arquitetura na rede, nós podemos desativar a funcionalidade do Pytorch que calcula automaticamente os gradientes dos parâmetros da rede. Faremos isso porque não desejamos atualizar os parâmetros da parte convolucional da rede, pois eles serão \"congelados\" para essa aplicação. Isso não é estritamente necessário, mas diminui o custo computacional do algoritmo e nos poupa bastante tempo.\n",
    "\n",
    "Obs: como mudamos as últimas camadas da rede **depois** de desativar o cálculo do gradiente para os parâmetros da rede, os novos parâmetros entram com o cálculo do gradiente ativados por *default* do Pytorch, possibilitando que os treinemos em seguida."
   ]
  },
  {
   "cell_type": "code",
   "execution_count": 55,
   "metadata": {
    "executionInfo": {
     "elapsed": 3475,
     "status": "ok",
     "timestamp": 1620660456906,
     "user": {
      "displayName": "Augusto Durães Camargo",
      "photoUrl": "https://lh3.googleusercontent.com/a-/AOh14GimWyGxaC_HpttlN1eoKVuCprhmp45jILw4TgUq1ss=s64",
      "userId": "04979901453514569292"
     },
     "user_tz": 180
    },
    "id": "aTwAxwNgX19b"
   },
   "outputs": [],
   "source": [
    "# Freeze our model parameters\n",
    "for param in model.parameters():\n",
    "  param.requires_grad = False\n",
    "\n",
    "# Change the architecture of the classifier portion of the CNN\n",
    "classifier = nn.Sequential(nn.Linear(512,128),\n",
    "                           nn.ReLU(),\n",
    "                           nn.Dropout(p=0.2),\n",
    "                           nn.Linear(128,2),\n",
    "                           nn.LogSoftmax(dim=1))\n",
    "\n",
    "model.fc = classifier"
   ]
  },
  {
   "cell_type": "markdown",
   "metadata": {
    "id": "_aOusHRcYEYL"
   },
   "source": [
    "Conforme explicado, nós alteramos somente a porção fully connected da rede, a qual é responsável pela classificação dos exemplos. As camadas convolucionais, que são responsáveis pela extração de características (feature extraction) das entradas foram deixadas \"congeladas\".\n",
    "\n",
    "Para visualizar a nova arquitetura da rede, execute a célula abaixo."
   ]
  },
  {
   "cell_type": "code",
   "execution_count": 56,
   "metadata": {
    "colab": {
     "base_uri": "https://localhost:8080/"
    },
    "executionInfo": {
     "elapsed": 3474,
     "status": "ok",
     "timestamp": 1620660456907,
     "user": {
      "displayName": "Augusto Durães Camargo",
      "photoUrl": "https://lh3.googleusercontent.com/a-/AOh14GimWyGxaC_HpttlN1eoKVuCprhmp45jILw4TgUq1ss=s64",
      "userId": "04979901453514569292"
     },
     "user_tz": 180
    },
    "id": "Hi9n-lsXYKZb",
    "outputId": "605caab7-a09a-4f4b-d943-78c4a2b0c1f1"
   },
   "outputs": [
    {
     "data": {
      "text/plain": [
       "ResNet(\n",
       "  (conv1): Conv2d(3, 64, kernel_size=(7, 7), stride=(2, 2), padding=(3, 3), bias=False)\n",
       "  (bn1): BatchNorm2d(64, eps=1e-05, momentum=0.1, affine=True, track_running_stats=True)\n",
       "  (relu): ReLU(inplace=True)\n",
       "  (maxpool): MaxPool2d(kernel_size=3, stride=2, padding=1, dilation=1, ceil_mode=False)\n",
       "  (layer1): Sequential(\n",
       "    (0): BasicBlock(\n",
       "      (conv1): Conv2d(64, 64, kernel_size=(3, 3), stride=(1, 1), padding=(1, 1), bias=False)\n",
       "      (bn1): BatchNorm2d(64, eps=1e-05, momentum=0.1, affine=True, track_running_stats=True)\n",
       "      (relu): ReLU(inplace=True)\n",
       "      (conv2): Conv2d(64, 64, kernel_size=(3, 3), stride=(1, 1), padding=(1, 1), bias=False)\n",
       "      (bn2): BatchNorm2d(64, eps=1e-05, momentum=0.1, affine=True, track_running_stats=True)\n",
       "    )\n",
       "    (1): BasicBlock(\n",
       "      (conv1): Conv2d(64, 64, kernel_size=(3, 3), stride=(1, 1), padding=(1, 1), bias=False)\n",
       "      (bn1): BatchNorm2d(64, eps=1e-05, momentum=0.1, affine=True, track_running_stats=True)\n",
       "      (relu): ReLU(inplace=True)\n",
       "      (conv2): Conv2d(64, 64, kernel_size=(3, 3), stride=(1, 1), padding=(1, 1), bias=False)\n",
       "      (bn2): BatchNorm2d(64, eps=1e-05, momentum=0.1, affine=True, track_running_stats=True)\n",
       "    )\n",
       "  )\n",
       "  (layer2): Sequential(\n",
       "    (0): BasicBlock(\n",
       "      (conv1): Conv2d(64, 128, kernel_size=(3, 3), stride=(2, 2), padding=(1, 1), bias=False)\n",
       "      (bn1): BatchNorm2d(128, eps=1e-05, momentum=0.1, affine=True, track_running_stats=True)\n",
       "      (relu): ReLU(inplace=True)\n",
       "      (conv2): Conv2d(128, 128, kernel_size=(3, 3), stride=(1, 1), padding=(1, 1), bias=False)\n",
       "      (bn2): BatchNorm2d(128, eps=1e-05, momentum=0.1, affine=True, track_running_stats=True)\n",
       "      (downsample): Sequential(\n",
       "        (0): Conv2d(64, 128, kernel_size=(1, 1), stride=(2, 2), bias=False)\n",
       "        (1): BatchNorm2d(128, eps=1e-05, momentum=0.1, affine=True, track_running_stats=True)\n",
       "      )\n",
       "    )\n",
       "    (1): BasicBlock(\n",
       "      (conv1): Conv2d(128, 128, kernel_size=(3, 3), stride=(1, 1), padding=(1, 1), bias=False)\n",
       "      (bn1): BatchNorm2d(128, eps=1e-05, momentum=0.1, affine=True, track_running_stats=True)\n",
       "      (relu): ReLU(inplace=True)\n",
       "      (conv2): Conv2d(128, 128, kernel_size=(3, 3), stride=(1, 1), padding=(1, 1), bias=False)\n",
       "      (bn2): BatchNorm2d(128, eps=1e-05, momentum=0.1, affine=True, track_running_stats=True)\n",
       "    )\n",
       "  )\n",
       "  (layer3): Sequential(\n",
       "    (0): BasicBlock(\n",
       "      (conv1): Conv2d(128, 256, kernel_size=(3, 3), stride=(2, 2), padding=(1, 1), bias=False)\n",
       "      (bn1): BatchNorm2d(256, eps=1e-05, momentum=0.1, affine=True, track_running_stats=True)\n",
       "      (relu): ReLU(inplace=True)\n",
       "      (conv2): Conv2d(256, 256, kernel_size=(3, 3), stride=(1, 1), padding=(1, 1), bias=False)\n",
       "      (bn2): BatchNorm2d(256, eps=1e-05, momentum=0.1, affine=True, track_running_stats=True)\n",
       "      (downsample): Sequential(\n",
       "        (0): Conv2d(128, 256, kernel_size=(1, 1), stride=(2, 2), bias=False)\n",
       "        (1): BatchNorm2d(256, eps=1e-05, momentum=0.1, affine=True, track_running_stats=True)\n",
       "      )\n",
       "    )\n",
       "    (1): BasicBlock(\n",
       "      (conv1): Conv2d(256, 256, kernel_size=(3, 3), stride=(1, 1), padding=(1, 1), bias=False)\n",
       "      (bn1): BatchNorm2d(256, eps=1e-05, momentum=0.1, affine=True, track_running_stats=True)\n",
       "      (relu): ReLU(inplace=True)\n",
       "      (conv2): Conv2d(256, 256, kernel_size=(3, 3), stride=(1, 1), padding=(1, 1), bias=False)\n",
       "      (bn2): BatchNorm2d(256, eps=1e-05, momentum=0.1, affine=True, track_running_stats=True)\n",
       "    )\n",
       "  )\n",
       "  (layer4): Sequential(\n",
       "    (0): BasicBlock(\n",
       "      (conv1): Conv2d(256, 512, kernel_size=(3, 3), stride=(2, 2), padding=(1, 1), bias=False)\n",
       "      (bn1): BatchNorm2d(512, eps=1e-05, momentum=0.1, affine=True, track_running_stats=True)\n",
       "      (relu): ReLU(inplace=True)\n",
       "      (conv2): Conv2d(512, 512, kernel_size=(3, 3), stride=(1, 1), padding=(1, 1), bias=False)\n",
       "      (bn2): BatchNorm2d(512, eps=1e-05, momentum=0.1, affine=True, track_running_stats=True)\n",
       "      (downsample): Sequential(\n",
       "        (0): Conv2d(256, 512, kernel_size=(1, 1), stride=(2, 2), bias=False)\n",
       "        (1): BatchNorm2d(512, eps=1e-05, momentum=0.1, affine=True, track_running_stats=True)\n",
       "      )\n",
       "    )\n",
       "    (1): BasicBlock(\n",
       "      (conv1): Conv2d(512, 512, kernel_size=(3, 3), stride=(1, 1), padding=(1, 1), bias=False)\n",
       "      (bn1): BatchNorm2d(512, eps=1e-05, momentum=0.1, affine=True, track_running_stats=True)\n",
       "      (relu): ReLU(inplace=True)\n",
       "      (conv2): Conv2d(512, 512, kernel_size=(3, 3), stride=(1, 1), padding=(1, 1), bias=False)\n",
       "      (bn2): BatchNorm2d(512, eps=1e-05, momentum=0.1, affine=True, track_running_stats=True)\n",
       "    )\n",
       "  )\n",
       "  (avgpool): AdaptiveAvgPool2d(output_size=(1, 1))\n",
       "  (fc): Sequential(\n",
       "    (0): Linear(in_features=512, out_features=128, bias=True)\n",
       "    (1): ReLU()\n",
       "    (2): Dropout(p=0.2, inplace=False)\n",
       "    (3): Linear(in_features=128, out_features=2, bias=True)\n",
       "    (4): LogSoftmax(dim=1)\n",
       "  )\n",
       ")"
      ]
     },
     "execution_count": 56,
     "metadata": {
      "tags": []
     },
     "output_type": "execute_result"
    }
   ],
   "source": [
    "model"
   ]
  },
  {
   "cell_type": "markdown",
   "metadata": {
    "id": "vLHnrXkcYHR-"
   },
   "source": [
    "Definimos, então, alguns parâmetros importantes para o treinamento da rede, e inicializamos algumas variáveis que usaremos durante o treinamento.\n",
    "\n",
    "Esses parâmetros foram escolhidos após alguns testes que fizemos e foram os que ofereceram melhores resultados no treino da rede. Esse procedimento deve ser repetido pelo aluno na segunda parte deste notebook."
   ]
  },
  {
   "cell_type": "code",
   "execution_count": 57,
   "metadata": {
    "executionInfo": {
     "elapsed": 3473,
     "status": "ok",
     "timestamp": 1620660456907,
     "user": {
      "displayName": "Augusto Durães Camargo",
      "photoUrl": "https://lh3.googleusercontent.com/a-/AOh14GimWyGxaC_HpttlN1eoKVuCprhmp45jILw4TgUq1ss=s64",
      "userId": "04979901453514569292"
     },
     "user_tz": 180
    },
    "id": "BWwsj4FlYNig"
   },
   "outputs": [],
   "source": [
    "epochs = 5 \n",
    "lr = 0.001 \n",
    "\n",
    "criterion = nn.NLLLoss()\n",
    "\n",
    "#criterion = torch.nn.CrossEntropyLoss().to(device)\n",
    "optimizer = torch.optim.AdamW(model.fc.parameters(), lr=lr)\n",
    " \n",
    "list_train_loss = []\n",
    "list_test_loss = []\n",
    "list_acc = []\n",
    "\n",
    "model = model.to(device)"
   ]
  },
  {
   "cell_type": "markdown",
   "metadata": {
    "id": "kD3Eqa8BYOTs"
   },
   "source": [
    "Nota-se que escolhemos como otimizador o algoritmo *Adaptive Moment Estimation with Decoupled Weight Decay* (AdamW, da sigla em inglês). Esse otimizador é uma alternativa ao clássico *Gradient Descent*, só que muito mais robusto e eficaz (na maioria dos casos), pois implementa técnicas como momentum e RMSprop. Para saber mais sobre ele, execute a célula abaixo e acesse os links indicados."
   ]
  },
  {
   "cell_type": "code",
   "execution_count": 58,
   "metadata": {
    "executionInfo": {
     "elapsed": 3472,
     "status": "ok",
     "timestamp": 1620660456908,
     "user": {
      "displayName": "Augusto Durães Camargo",
      "photoUrl": "https://lh3.googleusercontent.com/a-/AOh14GimWyGxaC_HpttlN1eoKVuCprhmp45jILw4TgUq1ss=s64",
      "userId": "04979901453514569292"
     },
     "user_tz": 180
    },
    "id": "RdSiDBvLYT6I"
   },
   "outputs": [],
   "source": [
    "?torch.optim.AdamW"
   ]
  },
  {
   "cell_type": "markdown",
   "metadata": {
    "id": "daLOmZ4wYUc9"
   },
   "source": [
    "Passamos então para o treinamento e teste da rede.\n",
    "\n",
    "Obs: a primeira vez que rodamos a célula abaixo tende a demorar muito mais do que o esperado. Por isso, sugere-se que caso após um minuto de execução não apareça nenhum print no formato \"Epoch:  X  loss: X.XXXX  Accuracy: XX.XX  Time spent this epoch: XX.XX seconds\" (ou mensagem de erro), o aluno interrompa e reinicie a execução da célula."
   ]
  },
  {
   "cell_type": "code",
   "execution_count": 59,
   "metadata": {
    "colab": {
     "base_uri": "https://localhost:8080/"
    },
    "executionInfo": {
     "elapsed": 22648,
     "status": "ok",
     "timestamp": 1620660476085,
     "user": {
      "displayName": "Augusto Durães Camargo",
      "photoUrl": "https://lh3.googleusercontent.com/a-/AOh14GimWyGxaC_HpttlN1eoKVuCprhmp45jILw4TgUq1ss=s64",
      "userId": "04979901453514569292"
     },
     "user_tz": 180
    },
    "id": "vdKnViRjYXn_",
    "outputId": "fd286485-b81a-414f-9796-2ad80fd353ac"
   },
   "outputs": [
    {
     "name": "stdout",
     "output_type": "stream",
     "text": [
      "Epoch:  1  loss: 0.0655  Accuracy: 98.04  Time spent this epoch: 4.32 seconds.\n",
      "Epoch:  2  loss: 0.0346  Accuracy: 98.04  Time spent this epoch: 3.59 seconds.\n",
      "Epoch:  3  loss: 0.0492  Accuracy: 98.04  Time spent this epoch: 3.61 seconds.\n",
      "Epoch:  4  loss: 0.0400  Accuracy: 98.04  Time spent this epoch: 3.61 seconds.\n",
      "Epoch:  5  loss: 0.0429  Accuracy: 98.04  Time spent this epoch: 3.57 seconds.\n",
      "\n",
      "\n",
      " Time spent during training: 18.71 seconds\n"
     ]
    }
   ],
   "source": [
    "START = time.time()\n",
    "\n",
    "for epoch in range(1, epochs+1):\n",
    "\tstart = time.time()\n",
    "\t\n",
    "\t# Etapa de Treino\n",
    "\tmodel.train()\n",
    "\tloss_train = 0\n",
    " \n",
    "\tfor imagem_treino,label_treino in loader_train:\n",
    "\n",
    "\t\tloss = 0\n",
    "\n",
    "\t\timagem_treino, label_treino = imagem_treino.float().to(device), label_treino.to(device)\n",
    "\t\toutputs = model(imagem_treino)\n",
    "\t\tloss = criterion(outputs, label_treino.float().long())\n",
    "\n",
    "\t\toptimizer.zero_grad() #Zera o gradiente para que ele não seja constantemente acumulado na backpropragation que vem a seguir\n",
    "\t\tloss.backward() #Realiza a backpropragation\n",
    "\t\toptimizer.step() #realiza mais um passo dentro do gradiente\n",
    "\t\tloss_train += loss\n",
    "\t\n",
    "\tloss_train = loss_train/len(loader_train)\n",
    "\tlist_train_loss.append(loss_train.item()) #Guarda o valor da função de perda\n",
    "\n",
    "\t# Etapa de Teste\n",
    "\tmodel.eval()\n",
    "\tcorrect = 0\n",
    "\ttotal = 0\n",
    "\tloss_test = 0\n",
    "\t\n",
    "\twith torch.no_grad():\n",
    "\t\tfor imagem_teste, label_teste in loader_test:\n",
    "\n",
    "\t\t\timagem_teste, label_teste = imagem_teste.float().to(device), label_teste.to(device)\n",
    "\t\t\toutputs_test = model(imagem_teste)\n",
    "\t \n",
    "\t\t\t_,previsao = torch.max(outputs_test, dim = 1)\n",
    "\t\t\tloss_test += criterion(outputs_test, label_teste.long())\n",
    "\t\t\ttotal = total + 1 #Adiciona +1 na variável que guarda o total de previsões feitas\n",
    "\t\t\t\n",
    "\t\t\tif previsao == label_teste: \n",
    "\t\t\t\tcorrect = correct + 1 #Soma +1 na variável que mede quantas previsões dessa categoria (erro absoluto de 2 graus) estão certas\n",
    "\t\t\n",
    "\t\tloss_test = loss_test/len(loader_test)\n",
    "\t\tlist_test_loss.append(loss_test.item())\n",
    "\n",
    "\tacc = (correct/total)*100 #Calcula a acurácia para erro absoluto de 1 grau em porcentagem\n",
    "\tlist_acc.append(acc) #Adiciona essa acurácia a sua lista\n",
    "\n",
    "\tend = time.time()\n",
    "\tTime = end - start\n",
    "\n",
    "\tif epoch < 10:\n",
    "\t\tprint('Epoch: ', epoch ,' loss: {:.4f}'.format(loss_test.item()), ' Accuracy: {:.2f}'.format(acc), ' Time spent this epoch: {:.2f}'.format(Time), 'seconds.')\n",
    "\telse:\n",
    "\t\tprint('Epoch:', epoch ,' loss: {:.4f}'.format(loss_test.item()), ' Accuracy: {:.2f}'.format(acc), ' Time spent this epoch: {:.2f}'.format(Time), 'seconds.')\n",
    "\n",
    "END = time.time()\n",
    "\n",
    "print()\n",
    "TIME = END - START\n",
    "print('\\n Time spent during training: {:.2f}'.format(TIME), 'seconds')\t\t"
   ]
  },
  {
   "cell_type": "markdown",
   "metadata": {
    "id": "6ocMeI-rYkum"
   },
   "source": [
    "Concluído o treinamento, passamos então à análise dos resultados.\n",
    "\n",
    "A célula abaixo plota as curvas dos erros de treino e de teste por época. Uma boa análise dessas curvas pode nos dar informações sobre a adequação do modelo ao problema proposto: *overfitting*, *underfitting* ou adequado."
   ]
  },
  {
   "cell_type": "code",
   "execution_count": 60,
   "metadata": {
    "colab": {
     "base_uri": "https://localhost:8080/",
     "height": 585
    },
    "executionInfo": {
     "elapsed": 23381,
     "status": "ok",
     "timestamp": 1620660476820,
     "user": {
      "displayName": "Augusto Durães Camargo",
      "photoUrl": "https://lh3.googleusercontent.com/a-/AOh14GimWyGxaC_HpttlN1eoKVuCprhmp45jILw4TgUq1ss=s64",
      "userId": "04979901453514569292"
     },
     "user_tz": 180
    },
    "id": "eDurDMJGY0jo",
    "outputId": "940e109b-0f1b-4f4d-9f8c-160856f5fd0b"
   },
   "outputs": [
    {
     "data": {
      "image/png": "[encoded data removed]",
      "text/plain": [
       "<Figure size 1080x576 with 2 Axes>"
      ]
     },
     "metadata": {
      "needs_background": "light",
      "tags": []
     },
     "output_type": "display_data"
    }
   ],
   "source": [
    "fig, axs = pyplot.subplots(2, figsize=(15,8))\n",
    "axs[0].plot(range(1, epochs+1,1), list_train_loss[:epochs],label=\"Train loss\") #Plota o erro de treino X epocas\n",
    "axs[0].plot(range(1, epochs+1,1), list_test_loss, label=\"Test loss\") #Plota o erro de teste x epocas\n",
    "axs[0].set(xticks=range(1, epochs+1,1))\n",
    "axs[0].set_title('Losses x Epochs') #Define o título\n",
    "axs[0].set(xlabel='Epochs') #Define o nome do eixo x\n",
    "axs[0].set(ylabel='Losses') #Define o nome do eixo y\n",
    "axs[0].legend() #Mostra a legenda\n",
    "axs[0].grid(True) #Mostra a grade\n",
    "\n",
    "\n",
    "axs[1].plot(range(1, epochs+1,1), list_acc, label='Accuracy') #Plota a acuracia para erro de 1 graus x epocas\n",
    "axs[1].set(xticks=range(1, epochs+1,1))\n",
    "axs[1].set_title('Accuracy x epochs') #Define o título\n",
    "axs[1].set(xlabel='Epochs') #Define o nome do eixo x\n",
    "axs[1].set(ylabel='Accuracy (%)') #Define o nome do eixo y\n",
    "axs[1].legend(loc='lower right') #Mostra a legenda\n",
    "axs[1].grid(True) #Mostra a grade\n",
    "\n",
    "pyplot.tight_layout()"
   ]
  },
  {
   "cell_type": "markdown",
   "metadata": {
    "id": "0R30XViFY-X2"
   },
   "source": [
    "A célula abaixo nos dirá qual a acurácia de classificação pela rede modelada em um *dataset* que não foi \"visto\" por ela na etapa de treinamento. Isso é importante para que tenhamos um resultado não tendencioso."
   ]
  },
  {
   "cell_type": "code",
   "execution_count": 61,
   "metadata": {
    "colab": {
     "base_uri": "https://localhost:8080/"
    },
    "executionInfo": {
     "elapsed": 55767,
     "status": "ok",
     "timestamp": 1620660509208,
     "user": {
      "displayName": "Augusto Durães Camargo",
      "photoUrl": "https://lh3.googleusercontent.com/a-/AOh14GimWyGxaC_HpttlN1eoKVuCprhmp45jILw4TgUq1ss=s64",
      "userId": "04979901453514569292"
     },
     "user_tz": 180
    },
    "id": "FroYqjkIY96T",
    "outputId": "9a20d28a-ffde-4919-8f32-664a40dd0bdf"
   },
   "outputs": [
    {
     "name": "stdout",
     "output_type": "stream",
     "text": [
      "A acurácia obtida foi de: 100.00%.\n",
      "\n",
      "O erro médio obtido foi de: 0.0063.\n",
      "\n",
      "O tempo gasto durante o treinamento dessa rede foi de: 18.71 segundos.\n"
     ]
    }
   ],
   "source": [
    "total = 0\n",
    "correct = 0\n",
    "loss_valid = 0\n",
    "\n",
    "for imagem_valid, label_valid in loader_valid:\n",
    "\n",
    "\tloss_v = 0\n",
    "\n",
    "\timagem_valid, label_valid = imagem_valid.float().to(device), label_valid.to(device)\n",
    "\toutputs_valid = model(imagem_valid)\n",
    "\t_, previsao = torch.max(outputs_valid, dim = 1)\n",
    "\tloss_v = criterion (outputs_valid, label_valid.long())\n",
    "\ttotal = total + 1 #Adiciona +1 na variável que guarda o total de previsões feitas\n",
    "\tif previsao == label_valid: \n",
    "\t\tcorrect = correct + 1 #Soma +1 na variável que mede quantas previsões dessa categoria (erro absoluto de 2 graus) estão certas\n",
    "\tloss_valid += loss_v\n",
    "\n",
    "loss_valid = loss_valid/len(loader_valid)\n",
    "accuracy = (correct/total)*100 #Calcula a acurácia para erro absoluto de 1 grau em porcentagem\n",
    "\n",
    "print('A acurácia obtida foi de: {:.2f}'.format(accuracy) + '%.')\n",
    "print()\n",
    "print('O erro médio obtido foi de: {:.4f}'.format(loss_valid) + '.')\n",
    "print()\n",
    "print('O tempo gasto durante o treinamento dessa rede foi de: {:.2f}'.format(TIME), 'segundos.')"
   ]
  },
  {
   "cell_type": "markdown",
   "metadata": {
    "id": "4o8WTEsoZIpp"
   },
   "source": [
    "## 3 Classificação multi-rótulos aplicando Transfer Learning\n",
    "\n",
    "Agora, nós aumentaremos a complexidade do problema e usaremos a mesma técnica empregada na segunda parte deste notebook, mas com algumas adaptações. O nosso objetivo será classificar diferentes raças de cachorros a partir de imagens. Em outras palavras, o número de classes aumentou de duas para doze.\n",
    "\n",
    "A tarefa apresenta maior complexidade quando comparada à anterior, pois a probabilidade de erro de classificação aumentou. No entanto, espera-se que o aluno consiga lograr sucesso ao tomar por base o exemplo já implementado na atividade anterior."
   ]
  },
  {
   "cell_type": "markdown",
   "metadata": {
    "id": "MtjXPzdLZgv1"
   },
   "source": [
    "### 3.1 Processamento do dataset\n",
    "\n",
    "Para este exercício, o processamento do *dataset* já é fornecido ao aluno, que pode acompanhar pelas células abaixo o modo como foi feito.\n",
    "\n",
    "Os dados que serão utilizados já estão baixados na pasta \"Multi\" que está dentro de \"Data\" e serão, na célula abaixo, importados para dentro da variável data."
   ]
  },
  {
   "cell_type": "code",
   "execution_count": 100,
   "metadata": {
    "executionInfo": {
     "elapsed": 734,
     "status": "ok",
     "timestamp": 1620665045247,
     "user": {
      "displayName": "Augusto Durães Camargo",
      "photoUrl": "https://lh3.googleusercontent.com/a-/AOh14GimWyGxaC_HpttlN1eoKVuCprhmp45jILw4TgUq1ss=s64",
      "userId": "04979901453514569292"
     },
     "user_tz": 180
    },
    "id": "C-pYOH2ZZgFr"
   },
   "outputs": [],
   "source": [
    "\n",
    "# ============== PARAMETRO A SER MODIFICADO =============\n",
    "\n",
    "transform = transforms.Compose([transforms.Resize((224,224)),\n",
    "                                transforms.RandomRotation(10),\n",
    "                                transforms.RandomHorizontalFlip(),\n",
    "                                transforms.ToTensor(),\n",
    "                                transforms.Normalize((0.5,0.5,0.5,),(0.5,0.5,0.5,),)])\n",
    "\n",
    "# =======================================================\n",
    "\n",
    "data = ImageFolder('/content/drive/MyDrive/3° Semestre/IMLDL/Semana 5/Desafio de programacao 5/Utilidades-DP5/Data/Multi', transform=transform)"
   ]
  },
  {
   "cell_type": "markdown",
   "metadata": {
    "id": "appywhqVZ5MC"
   },
   "source": [
    "Abaixo, é feita a divisão do dataset integral entre training set, test set e validation set. O aluno deve manter os parâmetros abaixo imutáveis."
   ]
  },
  {
   "cell_type": "code",
   "execution_count": 101,
   "metadata": {
    "colab": {
     "base_uri": "https://localhost:8080/"
    },
    "executionInfo": {
     "elapsed": 716,
     "status": "ok",
     "timestamp": 1620665047017,
     "user": {
      "displayName": "Augusto Durães Camargo",
      "photoUrl": "https://lh3.googleusercontent.com/a-/AOh14GimWyGxaC_HpttlN1eoKVuCprhmp45jILw4TgUq1ss=s64",
      "userId": "04979901453514569292"
     },
     "user_tz": 180
    },
    "id": "Wz3iC24UZ8Hr",
    "outputId": "33023c93-0a87-45f8-ea75-12cffb0b8426"
   },
   "outputs": [
    {
     "name": "stdout",
     "output_type": "stream",
     "text": [
      "Total de imagens no dataset: 2404\n",
      "nº de imagens para treino: 1442; nº de imagens para teste: 481; nº de imagens para validação: 481.\n"
     ]
    }
   ],
   "source": [
    "print('Total de imagens no dataset:', len(data))\n",
    "\n",
    "# ============== PARAMETRO A SER MODIFICADO =============\n",
    "\n",
    "percentage = 60\n",
    "\n",
    "# =======================================================\n",
    "\n",
    "n_treino = round(len(data)* (percentage/100))\n",
    "\n",
    "# Os 40% restantes são divididos igualmente (a menos de uma unidade) entre test set e validation set\n",
    "n_teste = round(len(data)* (100 - percentage)/(2*100)) \n",
    "n_valid = len(data) - n_treino - n_teste\n",
    "\n",
    "print('nº de imagens para treino: {:}'.format(n_treino) +'; nº de imagens para teste: {:}'.format(n_teste) +'; nº de imagens para validação: {:}'.format(n_valid) + '.')\n",
    "data_train, data_test, data_valid = random_split(data, [n_treino, n_teste, n_valid], generator=torch.Generator().manual_seed(42))"
   ]
  },
  {
   "cell_type": "markdown",
   "metadata": {
    "id": "uAO2v04NaGPG"
   },
   "source": [
    "Com a divisão do *dataset* feita, iremos agora carregar as variáveis `loader_train`, `loader_test` e `loader_valid`, responsáveis por organizar os dados para o treinamento, teste e validação da rede, respectivamente. São essas variáveis que o aluno deve utilizar para ter acesso aos *datasets* indicados.\n",
    "\n",
    "O aluno é livre para mudar o parâmetro `batch_size` indicado."
   ]
  },
  {
   "cell_type": "code",
   "execution_count": 102,
   "metadata": {
    "executionInfo": {
     "elapsed": 688,
     "status": "ok",
     "timestamp": 1620665053128,
     "user": {
      "displayName": "Augusto Durães Camargo",
      "photoUrl": "https://lh3.googleusercontent.com/a-/AOh14GimWyGxaC_HpttlN1eoKVuCprhmp45jILw4TgUq1ss=s64",
      "userId": "04979901453514569292"
     },
     "user_tz": 180
    },
    "id": "QfMjqJrhaI7W"
   },
   "outputs": [],
   "source": [
    "# ============== PARAMETRO A SER MODIFICADO =============\n",
    "\n",
    "batch_size = 10\n",
    "\n",
    "# ======================================================= \n",
    "\n",
    "loader_train, loader_test, loader_valid = DataLoader(data_train, batch_size=batch_size), DataLoader(data_test, batch_size=1), DataLoader(data_valid, batch_size=1)"
   ]
  },
  {
   "cell_type": "markdown",
   "metadata": {
    "id": "cd7-wkFpaPmY"
   },
   "source": [
    "### 3.2 Importação da rede pré-treinada e ajustes\n",
    "\n",
    "Com todos os *Dataloaders* organizados, poderemos estruturar a rede neural que fará a classificação entre raças. Você será responsável por todas as etapas de estruturação da rede neural, desde a importação até o treinamento e teste.\n",
    "\n",
    "Para iniciar, você precisará escolher uma rede neural pré-treinada para ser utilizada. Nós recomendamos que o aluno escolha alguma ResNet dentre os 5 tipos disponibilizados pelo Pytorch: `resnet18`, `resnet34`, `resnet50`, `resnet101` e `resnet152`. Para mais informações sobre essas redes, [clique neste link](https://arxiv.org/pdf/1512.03385.pdf).\n",
    "\n",
    "Você pode fazer testes com mais de um tipo para definir qual foi a que funcionou melhor.\n",
    "\n",
    "**Nesta parte, além de implementar as funções indicadas, o aluno deverá aplicar técnicas de otimização para que o tempo de execução do algoritmo e a acurácia final sejam satisfatórias. A última célula deste notebook analisará os resultados do aluno e validará a sua implementação, caso esteja dentro dos valores indicados.**\n",
    "\n",
    "Agora, complete a função `importNN()` para que ela faça a importação da ResNet escolhida e faça as modificações necessárias em suas últimas camadas para se adequar ao contexto em que ela será aplicada. Você pode utilizar o que foi feito nas atividades anteriores como referência.\n",
    "\n",
    "Lembre-se de que agora teremos doze (12) possíveis *labels*, e que é isso que determina o número de unidades da nossa camada de saída. A correta implementação desta função lhe agregará **10 pontos** dentro da pontuação total desta tarefa de programação."
   ]
  },
  {
   "cell_type": "code",
   "execution_count": 103,
   "metadata": {
    "executionInfo": {
     "elapsed": 1044,
     "status": "ok",
     "timestamp": 1620665055183,
     "user": {
      "displayName": "Augusto Durães Camargo",
      "photoUrl": "https://lh3.googleusercontent.com/a-/AOh14GimWyGxaC_HpttlN1eoKVuCprhmp45jILw4TgUq1ss=s64",
      "userId": "04979901453514569292"
     },
     "user_tz": 180
    },
    "id": "CfSAQ5goaVWd"
   },
   "outputs": [],
   "source": [
    "def importNN():\n",
    "\n",
    "    \"\"\"\n",
    "    Importa uma rede neural pré-treinada (à sua escolha) e faz as adequações \n",
    "    necessárias para adaptá-la ao problema proposto. \n",
    "\n",
    "    Retorna\n",
    "    -------------\n",
    "    model : torchvision.models.resnet.ResNet\n",
    "        Variável que deve ser retornada com o modelo de rede pré-treinada \n",
    "        importado e adaptado ao problema.\n",
    "    \n",
    "    Instruções\n",
    "    -------------\n",
    "    Escolha uma das opções de rede pré-treinada disponibilizadas pelo Pytorch\n",
    "    em 'models'. Modifique as últimas camadas da rede (caso necessário) para que\n",
    "    existam doze possíveis saídas da rede.\n",
    "\n",
    "    Nota\n",
    "    -------------\n",
    "    O aluno pode escolher qualquer uma das redes disponíveis em 'models', mas \n",
    "    recomenda-se que se dê preferência à alguma ResNet.\n",
    "    \"\"\"\n",
    "\n",
    "    model = 0\n",
    "    classifier = 0 \n",
    "\n",
    "    # ============================== YOUR CODE HERE ================================\n",
    "    model = models.resnet34(pretrained=True)\n",
    "    for param in model.parameters():\n",
    "        param.requires_grad = False\n",
    "        \n",
    "    classifier = nn.Sequential(nn.Linear(512,128),\n",
    "                              nn.ReLU(),\n",
    "                              nn.Dropout(p=0.2),\n",
    "                              nn.Linear(128,12))\n",
    "    # ==============================================================================\n",
    "    \n",
    "    model.fc = classifier\n",
    "\n",
    "    return model"
   ]
  },
  {
   "cell_type": "markdown",
   "metadata": {
    "id": "9rEALtVkaaI1"
   },
   "source": [
    "Agora, salvaremos o nosso modelo na variável model, passando ele para a GPU."
   ]
  },
  {
   "cell_type": "code",
   "execution_count": 104,
   "metadata": {
    "executionInfo": {
     "elapsed": 2180,
     "status": "ok",
     "timestamp": 1620665063584,
     "user": {
      "displayName": "Augusto Durães Camargo",
      "photoUrl": "https://lh3.googleusercontent.com/a-/AOh14GimWyGxaC_HpttlN1eoKVuCprhmp45jILw4TgUq1ss=s64",
      "userId": "04979901453514569292"
     },
     "user_tz": 180
    },
    "id": "3PLPUOI6acdH"
   },
   "outputs": [],
   "source": [
    "model = importNN().to(device)\n"
   ]
  },
  {
   "cell_type": "markdown",
   "metadata": {
    "id": "xjyx24uJaflK"
   },
   "source": [
    "Com o modelo já instanciado, é necessário especificar qual a função de custo e algoritmo de otimização que a rede utilizará para treinamento. A função `define()` abaixo deve fazer isso utilizando como entradas o model e o *learning rate*, e este último deverá ser selecionado por você quando for realizar o treinamento da rede neural.\n",
    "\n",
    "A correta implementação desta função lhe agregará **10 pontos** dentro da pontuação total desta tarefa de programação."
   ]
  },
  {
   "cell_type": "code",
   "execution_count": 105,
   "metadata": {
    "executionInfo": {
     "elapsed": 882,
     "status": "ok",
     "timestamp": 1620665065613,
     "user": {
      "displayName": "Augusto Durães Camargo",
      "photoUrl": "https://lh3.googleusercontent.com/a-/AOh14GimWyGxaC_HpttlN1eoKVuCprhmp45jILw4TgUq1ss=s64",
      "userId": "04979901453514569292"
     },
     "user_tz": 180
    },
    "id": "W-J08NaUae2I"
   },
   "outputs": [],
   "source": [
    "def define(model, lr):\n",
    "\n",
    "    \"\"\"\n",
    "    Define o algoritmo de otimização dos parâmetros da rede e o critério de \n",
    "    seleção da saída que será tomada na previsão da classificação da entrada.\n",
    "\n",
    "    Parâmetros\n",
    "    -------------\n",
    "\t\tmodel : torchvision.models\n",
    "        Variável que contém o modelo de rede pré-treinada importado e adaptado \n",
    "        ao problema.\n",
    "\n",
    "    lr : float_like\n",
    "        Learning rate que será tomado por base para a atualização dos \n",
    "        parâmetros.\n",
    "\n",
    "    Retorna\n",
    "    -------------\n",
    "    optimizer : torch.optim\n",
    "        Algoritmo de otimização que será responsável por atualizar os parâmetros\n",
    "        da rede a partir de uma função de custo ('loss').\n",
    "    criterion : torch.nn.modules\n",
    "        Critério que definirá qual saída será escolhida como previsão na \n",
    "        classificação do exemplo de entrada.\n",
    "    \n",
    "    Instruções\n",
    "    -------------\n",
    "    Defina os parâmetros indicados visando obter uma rede otimizada e eficiente.\n",
    "\n",
    "    Nota\n",
    "    -------------\n",
    "    Recomenda-se que o aluno tome por base as definições feitas na primeira \n",
    "    parte deste notebook.\n",
    "    \"\"\"\n",
    "\n",
    "    # ============================== YOUR CODE HERE ================================\n",
    "    criterion = nn.CrossEntropyLoss()\n",
    "    optimizer = torch.optim.AdamW(model.fc.parameters(),lr=lr)\n",
    "    # ==============================================================================\n",
    "    return optimizer, criterion"
   ]
  },
  {
   "cell_type": "markdown",
   "metadata": {
    "id": "BwrsGiQqakPE"
   },
   "source": [
    "Agora definiremos a função que treinará e testará esta rede neural. Essa função será executada a cada época, e por isso ela deve ser definida para passar por todo o dataset de treino e teste **apenas uma única vez**.\n",
    "\n",
    "Esperamos, como saída, os valores de custo de treinamento, custo de teste e acurácia medida apenas com o dataset de teste.\n",
    "\n",
    "A correta implementação desta função lhe agregará **30 pontos** dentro da pontuação total desta tarefa de programação.\n",
    "\n",
    "\n",
    "\n"
   ]
  },
  {
   "cell_type": "code",
   "execution_count": 106,
   "metadata": {
    "executionInfo": {
     "elapsed": 957,
     "status": "ok",
     "timestamp": 1620665075678,
     "user": {
      "displayName": "Augusto Durães Camargo",
      "photoUrl": "https://lh3.googleusercontent.com/a-/AOh14GimWyGxaC_HpttlN1eoKVuCprhmp45jILw4TgUq1ss=s64",
      "userId": "04979901453514569292"
     },
     "user_tz": 180
    },
    "id": "HycvIcydam2d"
   },
   "outputs": [],
   "source": [
    "def train_test(model, loader_train, loader_test):\n",
    "    \"\"\"\n",
    "\t\tTreina os parâmetros da(s) camada(s) \"fully connected\" da rede contida em \n",
    "\t\t'model' com os exemplos contidos em 'data_train' (organizados por \n",
    "\t\t'train_loader'). Em seguida, testa a acurácia e o erro de classificação da \n",
    "\t\trede com os exemplos contidos em 'data_test' (organizados por \n",
    "\t\t'loader_test').\n",
    "    Parâmetros\n",
    "\n",
    "    -------------\n",
    "    model : torchvision.models\n",
    "        Variável que contém o modelo de rede pré-treinada importado e adaptado \n",
    "        ao problema.\n",
    "    loader_train: torch.utils.data.dataloader.DataLoader\n",
    "        Variável responsável por organizar e carregar os dados relacionados aos\n",
    "        exemplos de treino ('data_train') conforme definimos anteriormente.\n",
    "    loader_test: torch.utils.data.dataloader.DataLoader\n",
    "        Variável responsável por organizar e carregar os dados relacionados aos\n",
    "        exemplos de teste ('data_test') conforme definimos anteriormente.\n",
    "\n",
    "\t\tRetorna\n",
    "    -------------\n",
    "    train_loss : float_like\n",
    "        Erro da rede na classificação dos exemplos de treino; será utilizado\n",
    "        para fazer a atualização dos parâmetros da rede pelo otimizador.\n",
    "    test_loss : float_like\n",
    "        Erro da rede na classificação dos exemplos de teste; será utilizado\n",
    "        para avaliar o desempenho da rede com parâmetros não utilizados no \n",
    "        treinamento, podendo indicar possíveis falhas.\n",
    "    acc : float_like\n",
    "        Acurácia de classificação dos exemplos de teste pela rede.\n",
    "\n",
    "\t\tInstruções\n",
    "    -------------\n",
    "    Efetue uma passagem dos datasets de treino e de teste pela rede, calculando\n",
    "    o erro de classificação de cada 'batch' e atualizando os parâmetros da rede \n",
    "    com o otimizador definido anteriormente, e então calcule o erro médio de \n",
    "    classificação pela rede dos exemplos de treino (guardando o resultado em \n",
    "    'train_loss'), o error médio de classificação pela rede dos exemplos de \n",
    "    teste (guardando o resultado em 'test_loss') e a acurácia de classificação\n",
    "    pela rede dos exemplos de teste (guardando o resultado em 'acc').\n",
    "\t\tNota\n",
    "    -------------\n",
    "    O aluno pode fazer uso de quaisquer ferramentas fornecidas pelo Pytorch\n",
    "    para implementar esta função.\n",
    "\n",
    "    É importante lembrar de utilizar a GPU para efetuar quaisquer processamentos \n",
    "    possíveis (utilize a função 'to(device)') a fim de otimizar o tempo de \n",
    "    execução.\n",
    "    \"\"\"\n",
    "    train_loss, test_loss, acc = 0,0,0\n",
    "    \n",
    "    # ============================== YOUR CODE HERE ================================\n",
    "    model.train()\n",
    "    for img, lb in loader_train:\n",
    "\n",
    "        img = img.float().to(device)\n",
    "        lb = lb.to(device)\n",
    "        out = model(img)\n",
    "        loss = criterion(out, lb.float().long())\n",
    "        optimizer.zero_grad()\n",
    "        loss.backward()\n",
    "        optimizer.step()\n",
    "        train_loss += loss\n",
    "    train_loss /= len(loader_train)\n",
    "\n",
    "    model.eval()\n",
    "    n_prev = correct = 0\n",
    "    with torch.no_grad():\n",
    "        for v_img, v_lb in loader_test:\n",
    "\n",
    "            v_img = v_img.float().to(device)\n",
    "            v_lb = v_lb.to(device)\n",
    "            v_out = model(v_img)\n",
    "            test_loss += criterion(v_out, v_lb.float().long())\n",
    "            _,prev = torch.max(v_out, dim = 1)\n",
    "            n_prev += 1\n",
    "            if prev == v_lb:\n",
    "                correct += 1\n",
    "        \n",
    "        test_loss /= len(loader_test)\n",
    "        \n",
    "        acc = correct/n_prev*100\n",
    " \t\t# ==============================================================================\n",
    "\n",
    "    return train_loss, test_loss, acc"
   ]
  },
  {
   "cell_type": "markdown",
   "metadata": {
    "id": "VxqwcQ9parX0"
   },
   "source": [
    "Com a função de custo e otimizador escolhidos e a função de treinamento e teste pronta, podemos chamá-la em um *loop* com o número de épocas. Repare que as variáveis `epochs` e `lr` estão com valor inicial igual a `0`, mas você deve modificar isso até encontrar valores adequados.\n",
    "\n",
    "Obs: a primeira vez que rodamos a célula abaixo (treinamento da rede) tende a demorar muito mais do que o esperado. Por isso, sugere-se que caso após cinco minutos de execução não apareça nenhum print no formato \"Epoch:  X  loss: X.XXXX  Accuracy: XX.XX  Time spent this epoch: XX.XX seconds\" (ou mensagem de erro), o aluno interrompa e reinicie a execução da célula."
   ]
  },
  {
   "cell_type": "code",
   "execution_count": 107,
   "metadata": {
    "colab": {
     "base_uri": "https://localhost:8080/"
    },
    "executionInfo": {
     "elapsed": 158652,
     "status": "ok",
     "timestamp": 1620665242827,
     "user": {
      "displayName": "Augusto Durães Camargo",
      "photoUrl": "https://lh3.googleusercontent.com/a-/AOh14GimWyGxaC_HpttlN1eoKVuCprhmp45jILw4TgUq1ss=s64",
      "userId": "04979901453514569292"
     },
     "user_tz": 180
    },
    "id": "9yqchI0oaxDT",
    "outputId": "dbe5a9bc-2650-48fb-f79d-b851da7ecaed"
   },
   "outputs": [
    {
     "name": "stdout",
     "output_type": "stream",
     "text": [
      "Epoch:  1  loss: 0.2024  Accuracy: 93.76  Time spent this epoch: 26.31 seconds.\n",
      "Epoch:  2  loss: 0.0824  Accuracy: 97.71  Time spent this epoch: 25.98 seconds.\n",
      "Epoch:  3  loss: 0.0950  Accuracy: 96.88  Time spent this epoch: 26.91 seconds.\n",
      "Epoch:  4  loss: 0.0827  Accuracy: 97.30  Time spent this epoch: 26.06 seconds.\n",
      "Epoch:  5  loss: 0.1516  Accuracy: 95.01  Time spent this epoch: 26.41 seconds.\n",
      "Epoch:  6  loss: 0.1051  Accuracy: 97.09  Time spent this epoch: 26.23 seconds.\n",
      "\n",
      "\n",
      " Time spent during training, excluding first epoch: 131.61 seconds.\n"
     ]
    }
   ],
   "source": [
    "START = time.time()\n",
    "\n",
    "list_train_loss = []\n",
    "list_test_loss = []\n",
    "list_acc = []\n",
    "time1epoch = 0\n",
    "\n",
    "# ============== PARAMETROS A SEREM MODIFICADOS =============\n",
    "\n",
    "lr = 0.003 \n",
    "epochs = 6 \n",
    "\n",
    "# ===========================================================\n",
    "\n",
    "optimizer, criterion = define(model, lr)\n",
    "\n",
    "for epoch in range(1, epochs+1):\n",
    "  start = time.time()\n",
    "  train_loss, test_loss, acc = train_test(model, loader_train, loader_test)\n",
    "  end = time.time()\n",
    "\n",
    "  list_train_loss.append(train_loss), list_test_loss.append(test_loss), list_acc.append(acc)\n",
    "\n",
    "  Time = end - start\n",
    "  if epoch == 1:\n",
    "    time1epoch = Time\n",
    "\n",
    "  if epoch < 10:\n",
    "    print('Epoch: ', epoch ,' loss: {:.4f}'.format(test_loss.item()), ' Accuracy: {:.2f}'.format(acc), ' Time spent this epoch: {:.2f}'.format(Time), 'seconds.')\n",
    "  else:\n",
    "    print('Epoch:', epoch ,' loss: {:.4f}'.format(test_loss.item()), ' Accuracy: {:.2f}'.format(acc), ' Time spent this epoch: {:.2f}'.format(Time), 'seconds.')\n",
    "END = time.time()\n",
    "\n",
    "print()\n",
    "TIME = (END - START) - time1epoch\n",
    "print('\\n Time spent during training, excluding first epoch: {:.2f}'.format(TIME), 'seconds.')\t\t"
   ]
  },
  {
   "cell_type": "markdown",
   "metadata": {
    "id": "Du0Xi6bfaz2R"
   },
   "source": [
    "O código a seguir auxilia no desenvolvimento da tarefa ao passo que indica ao aluno como estão se comportando as variáveis `loss` e `loss_test`, que devem ser implementadas de forma correta pelo aluno. Uma boa análise das curvas pode indicar problemas de *overfitting* ou de *underfitting*."
   ]
  },
  {
   "cell_type": "code",
   "execution_count": 108,
   "metadata": {
    "colab": {
     "base_uri": "https://localhost:8080/",
     "height": 585
    },
    "executionInfo": {
     "elapsed": 1696,
     "status": "ok",
     "timestamp": 1620665258567,
     "user": {
      "displayName": "Augusto Durães Camargo",
      "photoUrl": "https://lh3.googleusercontent.com/a-/AOh14GimWyGxaC_HpttlN1eoKVuCprhmp45jILw4TgUq1ss=s64",
      "userId": "04979901453514569292"
     },
     "user_tz": 180
    },
    "id": "EC8V0fYNa2LP",
    "outputId": "83a70495-1705-4488-9c2a-c56796f5aff9"
   },
   "outputs": [
    {
     "data": {
      "image/png": "[encoded data removed]",
      "text/plain": [
       "<Figure size 1080x576 with 2 Axes>"
      ]
     },
     "metadata": {
      "needs_background": "light",
      "tags": []
     },
     "output_type": "display_data"
    }
   ],
   "source": [
    "fig, axs = pyplot.subplots(2, figsize=(15,8))\n",
    "axs[0].plot(range(1, epochs+1), list_train_loss,label=\"Train loss\") #Plota o erro de treino X epocas\n",
    "axs[0].plot(range(1, epochs+1), list_test_loss, label=\"Test loss\") #Plota o erro de teste x epocas\n",
    "axs[0].set(xticks=range(1, epochs+1))\n",
    "axs[0].set_title('Losses x Epochs') #Define o título\n",
    "axs[0].set(xlabel='Epochs') #Define o nome do eixo x\n",
    "axs[0].set(ylabel='Losses') #Define o nome do eixo y\n",
    "axs[0].legend() #Mostra a legenda\n",
    "axs[0].grid(True) #Mostra a grade\n",
    "\n",
    "\n",
    "axs[1].plot(range(1, epochs+1), list_acc, label='Accuracy') #Plota a acuracia para erro de 1 graus x epocas\n",
    "axs[1].set(xticks=range(1, epochs+1))\n",
    "axs[1].set_title('Accuracy x epochs') #Define o título\n",
    "axs[1].set(xlabel='Epochs') #Define o nome do eixo x\n",
    "axs[1].set(ylabel='Accuracy (%)') #Define o nome do eixo y\n",
    "axs[1].legend(loc='lower right') #Mostra a legenda\n",
    "axs[1].grid(True) #Mostra a grade\n",
    "\n",
    "pyplot.tight_layout()"
   ]
  },
  {
   "cell_type": "markdown",
   "metadata": {
    "id": "UUYXXEXsbB2g"
   },
   "source": [
    "A validação da implementação do aluno ocorrerá da seguinte forma: forneceremos à rede (já treinada pelo aluno) o *dataset* de validação (`data_valid`) para que os exemplos contidos nele sejam classificados. Calcularemos, então, a acurácia na classificação desses exemplos. \n",
    "\n",
    "A célula abaixo é responsável por efetuar esse cálculo.\n",
    "\n",
    "Caso a **acurácia obtida seja maior ou igual a 95%** e o **tempo de execução da segunda época até o final do treinamento seja menor ou igual a 500 segundos**, a implementação do aluno será considerada satisfatória e lhe garantirá mais **30 pontos**."
   ]
  },
  {
   "cell_type": "code",
   "execution_count": 109,
   "metadata": {
    "colab": {
     "base_uri": "https://localhost:8080/"
    },
    "executionInfo": {
     "elapsed": 110843,
     "status": "ok",
     "timestamp": 1620665373609,
     "user": {
      "displayName": "Augusto Durães Camargo",
      "photoUrl": "https://lh3.googleusercontent.com/a-/AOh14GimWyGxaC_HpttlN1eoKVuCprhmp45jILw4TgUq1ss=s64",
      "userId": "04979901453514569292"
     },
     "user_tz": 180
    },
    "id": "u9qyT_ILbDnH",
    "outputId": "bc45c011-ea01-429f-87bf-504fbcab67b2"
   },
   "outputs": [
    {
     "name": "stdout",
     "output_type": "stream",
     "text": [
      "A acurácia obtida foi de: 96.88%.\n",
      "\n",
      "O erro médio obtido foi de: 0.1054\n",
      "\n",
      "O tempo gasto durante o treinamento, excluindo a primeira época, foi de: 131.61 segundos.\n",
      "\n",
      "Os resultados obtidos foram satisfatórios. Parabéns!\n"
     ]
    }
   ],
   "source": [
    "total = 0\n",
    "correct = 0\n",
    "loss_valid = 0\n",
    "\n",
    "for imagem_valid, label_valid in loader_valid:\n",
    "\n",
    "\tloss_v = 0\n",
    "\n",
    "\timagem_valid, label_valid = imagem_valid.float().to(device), label_valid.to(device)\n",
    "\toutputs_valid = model(imagem_valid)\n",
    "\t_, previsao = torch.max(outputs_valid, dim = 1)\n",
    "\tloss_v = criterion (outputs_valid, label_valid.long())\n",
    "\ttotal = total + 1 #Adiciona +1 na variável que guarda o total de previsões feitas\n",
    "\tif previsao == label_valid: \n",
    "\t\tcorrect = correct + 1 #Soma +1 na variável que mede quantas previsões dessa categoria (erro absoluto de 2 graus) estão certas\n",
    "\tloss_valid += loss_v\n",
    "\n",
    "loss_valid = loss_valid/len(loader_valid)\n",
    "accuracy = (correct/total)*100 #Calcula a acurácia para erro absoluto de 1 grau em porcentagem\n",
    "\n",
    "print('A acurácia obtida foi de: {:.2f}'.format(accuracy) + '%.')\n",
    "print()\n",
    "print('O erro médio obtido foi de: {:.4f}'.format(loss_valid))\n",
    "print()\n",
    "print('O tempo gasto durante o treinamento, excluindo a primeira época, foi de: {:.2f}'.format(TIME), 'segundos.')\n",
    "print()\n",
    "\n",
    "if accuracy > 95.0 and TIME < 500:\n",
    "\tprint('Os resultados obtidos foram satisfatórios. Parabéns!')\n",
    "elif accuracy > 95.0 and TIME > 500:\n",
    "\tprint('A acurácia apresentou um valor satisfatório, mas o tempo de treinamento não. Tente otimizar este parâmetro.')\n",
    "elif accuracy < 95.0 and TIME < 500:\n",
    "\tprint('O tempo de treinamento apresentou um valor satisfatório, mas a acurácia não. Tente otimizar este parâmetro.')\n",
    "else:\n",
    "\tprint('Os valores demandados não foram alcançados. Tente otimizá-los para validar a sua submissão.')"
   ]
  },
  {
   "cell_type": "code",
   "execution_count": null,
   "metadata": {
    "executionInfo": {
     "elapsed": 265292,
     "status": "aborted",
     "timestamp": 1620664768258,
     "user": {
      "displayName": "Augusto Durães Camargo",
      "photoUrl": "https://lh3.googleusercontent.com/a-/AOh14GimWyGxaC_HpttlN1eoKVuCprhmp45jILw4TgUq1ss=s64",
      "userId": "04979901453514569292"
     },
     "user_tz": 180
    },
    "id": "NiglByMT6bdN"
   },
   "outputs": [],
   "source": []
  }
 ],
 "metadata": {
  "accelerator": "GPU",
  "colab": {
   "collapsed_sections": [],
   "name": "Desafio de Programacao 5.ipynb",
   "provenance": []
  },
  "kernelspec": {
   "display_name": "Python 3",
   "language": "python",
   "name": "python3"
  },
  "language_info": {
   "codemirror_mode": {
    "name": "ipython",
    "version": 3
   },
   "file_extension": ".py",
   "mimetype": "text/x-python",
   "name": "python",
   "nbconvert_exporter": "python",
   "pygments_lexer": "ipython3",
   "version": "3.8.8"
  },
  "widgets": {
   "application/vnd.jupyter.widget-state+json": {
    "087bd6321b334681b15c10f9fcefbe29": {
     "model_module": "@jupyter-widgets/controls",
     "model_name": "FloatProgressModel",
     "state": {
      "_dom_classes": [],
      "_model_module": "@jupyter-widgets/controls",
      "_model_module_version": "1.5.0",
      "_model_name": "FloatProgressModel",
      "_view_count": null,
      "_view_module": "@jupyter-widgets/controls",
      "_view_module_version": "1.5.0",
      "_view_name": "ProgressView",
      "bar_style": "success",
      "description": "100%",
      "description_tooltip": null,
      "layout": "IPY_MODEL_b6ab152036724cc78c5610de632422c6",
      "max": 46827520,
      "min": 0,
      "orientation": "horizontal",
      "style": "IPY_MODEL_c7fff55c341e43738433c21a5b5d00d9",
      "value": 46827520
     }
    },
    "0d06bd995d4f493296ca3a772ade4bc0": {
     "model_module": "@jupyter-widgets/controls",
     "model_name": "HBoxModel",
     "state": {
      "_dom_classes": [],
      "_model_module": "@jupyter-widgets/controls",
      "_model_module_version": "1.5.0",
      "_model_name": "HBoxModel",
      "_view_count": null,
      "_view_module": "@jupyter-widgets/controls",
      "_view_module_version": "1.5.0",
      "_view_name": "HBoxView",
      "box_style": "",
      "children": [
       "IPY_MODEL_9a4654a7c22346f8acfedd021c55d4db",
       "IPY_MODEL_eb30438d1ed3493689b6d854574ab017"
      ],
      "layout": "IPY_MODEL_eebd3c2323d24651a6088cf251a2b0e4"
     }
    },
    "1cebf385a35c4c60bb5ddf2095e755f6": {
     "model_module": "@jupyter-widgets/base",
     "model_name": "LayoutModel",
     "state": {
      "_model_module": "@jupyter-widgets/base",
      "_model_module_version": "1.2.0",
      "_model_name": "LayoutModel",
      "_view_count": null,
      "_view_module": "@jupyter-widgets/base",
      "_view_module_version": "1.2.0",
      "_view_name": "LayoutView",
      "align_content": null,
      "align_items": null,
      "align_self": null,
      "border": null,
      "bottom": null,
      "display": null,
      "flex": null,
      "flex_flow": null,
      "grid_area": null,
      "grid_auto_columns": null,
      "grid_auto_flow": null,
      "grid_auto_rows": null,
      "grid_column": null,
      "grid_gap": null,
      "grid_row": null,
      "grid_template_areas": null,
      "grid_template_columns": null,
      "grid_template_rows": null,
      "height": null,
      "justify_content": null,
      "justify_items": null,
      "left": null,
      "margin": null,
      "max_height": null,
      "max_width": null,
      "min_height": null,
      "min_width": null,
      "object_fit": null,
      "object_position": null,
      "order": null,
      "overflow": null,
      "overflow_x": null,
      "overflow_y": null,
      "padding": null,
      "right": null,
      "top": null,
      "visibility": null,
      "width": null
     }
    },
    "21aef4927a3d4c9d80c0cd4fc666c653": {
     "model_module": "@jupyter-widgets/controls",
     "model_name": "DescriptionStyleModel",
     "state": {
      "_model_module": "@jupyter-widgets/controls",
      "_model_module_version": "1.5.0",
      "_model_name": "DescriptionStyleModel",
      "_view_count": null,
      "_view_module": "@jupyter-widgets/base",
      "_view_module_version": "1.2.0",
      "_view_name": "StyleView",
      "description_width": ""
     }
    },
    "32d53977e8d6468bb460a7a3137d183b": {
     "model_module": "@jupyter-widgets/controls",
     "model_name": "ButtonStyleModel",
     "state": {
      "_model_module": "@jupyter-widgets/controls",
      "_model_module_version": "1.5.0",
      "_model_name": "ButtonStyleModel",
      "_view_count": null,
      "_view_module": "@jupyter-widgets/base",
      "_view_module_version": "1.2.0",
      "_view_name": "StyleView",
      "button_color": null,
      "font_weight": ""
     }
    },
    "3f8e9833007b4e79b83e21a082cf5abe": {
     "model_module": "@jupyter-widgets/base",
     "model_name": "LayoutModel",
     "state": {
      "_model_module": "@jupyter-widgets/base",
      "_model_module_version": "1.2.0",
      "_model_name": "LayoutModel",
      "_view_count": null,
      "_view_module": "@jupyter-widgets/base",
      "_view_module_version": "1.2.0",
      "_view_name": "LayoutView",
      "align_content": null,
      "align_items": null,
      "align_self": null,
      "border": null,
      "bottom": null,
      "display": null,
      "flex": null,
      "flex_flow": null,
      "grid_area": null,
      "grid_auto_columns": null,
      "grid_auto_flow": null,
      "grid_auto_rows": null,
      "grid_column": null,
      "grid_gap": null,
      "grid_row": null,
      "grid_template_areas": null,
      "grid_template_columns": null,
      "grid_template_rows": null,
      "height": null,
      "justify_content": null,
      "justify_items": null,
      "left": null,
      "margin": null,
      "max_height": null,
      "max_width": null,
      "min_height": null,
      "min_width": null,
      "object_fit": null,
      "object_position": null,
      "order": null,
      "overflow": null,
      "overflow_x": null,
      "overflow_y": null,
      "padding": null,
      "right": null,
      "top": null,
      "visibility": null,
      "width": null
     }
    },
    "42f5d4bda10249808c811189f26e5b71": {
     "model_module": "@jupyter-widgets/base",
     "model_name": "LayoutModel",
     "state": {
      "_model_module": "@jupyter-widgets/base",
      "_model_module_version": "1.2.0",
      "_model_name": "LayoutModel",
      "_view_count": null,
      "_view_module": "@jupyter-widgets/base",
      "_view_module_version": "1.2.0",
      "_view_name": "LayoutView",
      "align_content": null,
      "align_items": null,
      "align_self": null,
      "border": null,
      "bottom": null,
      "display": null,
      "flex": null,
      "flex_flow": null,
      "grid_area": null,
      "grid_auto_columns": null,
      "grid_auto_flow": null,
      "grid_auto_rows": null,
      "grid_column": null,
      "grid_gap": null,
      "grid_row": null,
      "grid_template_areas": null,
      "grid_template_columns": null,
      "grid_template_rows": null,
      "height": null,
      "justify_content": null,
      "justify_items": null,
      "left": null,
      "margin": null,
      "max_height": null,
      "max_width": null,
      "min_height": null,
      "min_width": null,
      "object_fit": null,
      "object_position": null,
      "order": null,
      "overflow": null,
      "overflow_x": null,
      "overflow_y": null,
      "padding": null,
      "right": null,
      "top": null,
      "visibility": null,
      "width": null
     }
    },
    "52efb6b72dfa4befb04b7eb3a35956e0": {
     "model_module": "@jupyter-widgets/base",
     "model_name": "LayoutModel",
     "state": {
      "_model_module": "@jupyter-widgets/base",
      "_model_module_version": "1.2.0",
      "_model_name": "LayoutModel",
      "_view_count": null,
      "_view_module": "@jupyter-widgets/base",
      "_view_module_version": "1.2.0",
      "_view_name": "LayoutView",
      "align_content": null,
      "align_items": null,
      "align_self": null,
      "border": null,
      "bottom": null,
      "display": null,
      "flex": null,
      "flex_flow": null,
      "grid_area": null,
      "grid_auto_columns": null,
      "grid_auto_flow": null,
      "grid_auto_rows": null,
      "grid_column": null,
      "grid_gap": null,
      "grid_row": null,
      "grid_template_areas": null,
      "grid_template_columns": null,
      "grid_template_rows": null,
      "height": null,
      "justify_content": null,
      "justify_items": null,
      "left": null,
      "margin": null,
      "max_height": null,
      "max_width": null,
      "min_height": null,
      "min_width": null,
      "object_fit": null,
      "object_position": null,
      "order": null,
      "overflow": null,
      "overflow_x": null,
      "overflow_y": null,
      "padding": null,
      "right": null,
      "top": null,
      "visibility": null,
      "width": null
     }
    },
    "5918ecf2b00144c591d1a71243950e62": {
     "model_module": "@jupyter-widgets/controls",
     "model_name": "HTMLModel",
     "state": {
      "_dom_classes": [],
      "_model_module": "@jupyter-widgets/controls",
      "_model_module_version": "1.5.0",
      "_model_name": "HTMLModel",
      "_view_count": null,
      "_view_module": "@jupyter-widgets/controls",
      "_view_module_version": "1.5.0",
      "_view_name": "HTMLView",
      "description": "",
      "description_tooltip": null,
      "layout": "IPY_MODEL_f08dced153ba4d9b89125a963b9807c7",
      "placeholder": "​",
      "style": "IPY_MODEL_21aef4927a3d4c9d80c0cd4fc666c653",
      "value": " 44.7M/44.7M [00:00&lt;00:00, 83.4MB/s]"
     }
    },
    "94a59bd767974a6cb5027470d996a8ee": {
     "model_module": "@jupyter-widgets/controls",
     "model_name": "ProgressStyleModel",
     "state": {
      "_model_module": "@jupyter-widgets/controls",
      "_model_module_version": "1.5.0",
      "_model_name": "ProgressStyleModel",
      "_view_count": null,
      "_view_module": "@jupyter-widgets/base",
      "_view_module_version": "1.2.0",
      "_view_name": "StyleView",
      "bar_color": null,
      "description_width": "initial"
     }
    },
    "9a4654a7c22346f8acfedd021c55d4db": {
     "model_module": "@jupyter-widgets/controls",
     "model_name": "FloatProgressModel",
     "state": {
      "_dom_classes": [],
      "_model_module": "@jupyter-widgets/controls",
      "_model_module_version": "1.5.0",
      "_model_name": "FloatProgressModel",
      "_view_count": null,
      "_view_module": "@jupyter-widgets/controls",
      "_view_module_version": "1.5.0",
      "_view_name": "ProgressView",
      "bar_style": "success",
      "description": "100%",
      "description_tooltip": null,
      "layout": "IPY_MODEL_42f5d4bda10249808c811189f26e5b71",
      "max": 87306240,
      "min": 0,
      "orientation": "horizontal",
      "style": "IPY_MODEL_94a59bd767974a6cb5027470d996a8ee",
      "value": 87306240
     }
    },
    "9b91b6e279594848afcf45db9be54432": {
     "model_module": "@jupyter-widgets/controls",
     "model_name": "DescriptionStyleModel",
     "state": {
      "_model_module": "@jupyter-widgets/controls",
      "_model_module_version": "1.5.0",
      "_model_name": "DescriptionStyleModel",
      "_view_count": null,
      "_view_module": "@jupyter-widgets/base",
      "_view_module_version": "1.2.0",
      "_view_name": "StyleView",
      "description_width": ""
     }
    },
    "ac241d2c919f40b6ac44db177bb15465": {
     "model_module": "@jupyter-widgets/controls",
     "model_name": "FileUploadModel",
     "state": {
      "_counter": 1,
      "_dom_classes": [],
      "_model_module": "@jupyter-widgets/controls",
      "_model_module_version": "1.5.0",
      "_model_name": "FileUploadModel",
      "_view_count": null,
      "_view_module": "@jupyter-widgets/controls",
      "_view_module_version": "1.5.0",
      "_view_name": "FileUploadView",
      "accept": "",
      "button_style": "",
      "data": [
       null
      ],
      "description": "Upload",
      "description_tooltip": null,
      "disabled": false,
      "error": "",
      "icon": "upload",
      "layout": "IPY_MODEL_d427969941ba47a8aeabd4d0d314c4ba",
      "metadata": [
       {
        "lastModified": 1620613611189,
        "name": "gatoPelado.jpg",
        "size": 618662,
        "type": "image/jpeg"
       }
      ],
      "multiple": false,
      "style": "IPY_MODEL_e6b09f159d79428b9751b93164455148"
     }
    },
    "b6ab152036724cc78c5610de632422c6": {
     "model_module": "@jupyter-widgets/base",
     "model_name": "LayoutModel",
     "state": {
      "_model_module": "@jupyter-widgets/base",
      "_model_module_version": "1.2.0",
      "_model_name": "LayoutModel",
      "_view_count": null,
      "_view_module": "@jupyter-widgets/base",
      "_view_module_version": "1.2.0",
      "_view_name": "LayoutView",
      "align_content": null,
      "align_items": null,
      "align_self": null,
      "border": null,
      "bottom": null,
      "display": null,
      "flex": null,
      "flex_flow": null,
      "grid_area": null,
      "grid_auto_columns": null,
      "grid_auto_flow": null,
      "grid_auto_rows": null,
      "grid_column": null,
      "grid_gap": null,
      "grid_row": null,
      "grid_template_areas": null,
      "grid_template_columns": null,
      "grid_template_rows": null,
      "height": null,
      "justify_content": null,
      "justify_items": null,
      "left": null,
      "margin": null,
      "max_height": null,
      "max_width": null,
      "min_height": null,
      "min_width": null,
      "object_fit": null,
      "object_position": null,
      "order": null,
      "overflow": null,
      "overflow_x": null,
      "overflow_y": null,
      "padding": null,
      "right": null,
      "top": null,
      "visibility": null,
      "width": null
     }
    },
    "b8e64059f86f4cc98bf92c26de5caede": {
     "model_module": "@jupyter-widgets/controls",
     "model_name": "FileUploadModel",
     "state": {
      "_counter": 1,
      "_dom_classes": [],
      "_model_module": "@jupyter-widgets/controls",
      "_model_module_version": "1.5.0",
      "_model_name": "FileUploadModel",
      "_view_count": null,
      "_view_module": "@jupyter-widgets/controls",
      "_view_module_version": "1.5.0",
      "_view_name": "FileUploadView",
      "accept": "",
      "button_style": "",
      "data": [
       null
      ],
      "description": "Upload",
      "description_tooltip": null,
      "disabled": false,
      "error": "",
      "icon": "upload",
      "layout": "IPY_MODEL_3f8e9833007b4e79b83e21a082cf5abe",
      "metadata": [
       {
        "lastModified": 1620613647817,
        "name": "03petspeladoscaocristachines.jpg",
        "size": 125396,
        "type": "image/jpeg"
       }
      ],
      "multiple": false,
      "style": "IPY_MODEL_32d53977e8d6468bb460a7a3137d183b"
     }
    },
    "c7fff55c341e43738433c21a5b5d00d9": {
     "model_module": "@jupyter-widgets/controls",
     "model_name": "ProgressStyleModel",
     "state": {
      "_model_module": "@jupyter-widgets/controls",
      "_model_module_version": "1.5.0",
      "_model_name": "ProgressStyleModel",
      "_view_count": null,
      "_view_module": "@jupyter-widgets/base",
      "_view_module_version": "1.2.0",
      "_view_name": "StyleView",
      "bar_color": null,
      "description_width": "initial"
     }
    },
    "d29d1c151d4b46d6b5914bea526e09ad": {
     "model_module": "@jupyter-widgets/controls",
     "model_name": "HBoxModel",
     "state": {
      "_dom_classes": [],
      "_model_module": "@jupyter-widgets/controls",
      "_model_module_version": "1.5.0",
      "_model_name": "HBoxModel",
      "_view_count": null,
      "_view_module": "@jupyter-widgets/controls",
      "_view_module_version": "1.5.0",
      "_view_name": "HBoxView",
      "box_style": "",
      "children": [
       "IPY_MODEL_087bd6321b334681b15c10f9fcefbe29",
       "IPY_MODEL_5918ecf2b00144c591d1a71243950e62"
      ],
      "layout": "IPY_MODEL_52efb6b72dfa4befb04b7eb3a35956e0"
     }
    },
    "d427969941ba47a8aeabd4d0d314c4ba": {
     "model_module": "@jupyter-widgets/base",
     "model_name": "LayoutModel",
     "state": {
      "_model_module": "@jupyter-widgets/base",
      "_model_module_version": "1.2.0",
      "_model_name": "LayoutModel",
      "_view_count": null,
      "_view_module": "@jupyter-widgets/base",
      "_view_module_version": "1.2.0",
      "_view_name": "LayoutView",
      "align_content": null,
      "align_items": null,
      "align_self": null,
      "border": null,
      "bottom": null,
      "display": null,
      "flex": null,
      "flex_flow": null,
      "grid_area": null,
      "grid_auto_columns": null,
      "grid_auto_flow": null,
      "grid_auto_rows": null,
      "grid_column": null,
      "grid_gap": null,
      "grid_row": null,
      "grid_template_areas": null,
      "grid_template_columns": null,
      "grid_template_rows": null,
      "height": null,
      "justify_content": null,
      "justify_items": null,
      "left": null,
      "margin": null,
      "max_height": null,
      "max_width": null,
      "min_height": null,
      "min_width": null,
      "object_fit": null,
      "object_position": null,
      "order": null,
      "overflow": null,
      "overflow_x": null,
      "overflow_y": null,
      "padding": null,
      "right": null,
      "top": null,
      "visibility": null,
      "width": null
     }
    },
    "e6b09f159d79428b9751b93164455148": {
     "model_module": "@jupyter-widgets/controls",
     "model_name": "ButtonStyleModel",
     "state": {
      "_model_module": "@jupyter-widgets/controls",
      "_model_module_version": "1.5.0",
      "_model_name": "ButtonStyleModel",
      "_view_count": null,
      "_view_module": "@jupyter-widgets/base",
      "_view_module_version": "1.2.0",
      "_view_name": "StyleView",
      "button_color": null,
      "font_weight": ""
     }
    },
    "eb30438d1ed3493689b6d854574ab017": {
     "model_module": "@jupyter-widgets/controls",
     "model_name": "HTMLModel",
     "state": {
      "_dom_classes": [],
      "_model_module": "@jupyter-widgets/controls",
      "_model_module_version": "1.5.0",
      "_model_name": "HTMLModel",
      "_view_count": null,
      "_view_module": "@jupyter-widgets/controls",
      "_view_module_version": "1.5.0",
      "_view_name": "HTMLView",
      "description": "",
      "description_tooltip": null,
      "layout": "IPY_MODEL_1cebf385a35c4c60bb5ddf2095e755f6",
      "placeholder": "​",
      "style": "IPY_MODEL_9b91b6e279594848afcf45db9be54432",
      "value": " 83.3M/83.3M [00:17&lt;00:00, 4.87MB/s]"
     }
    },
    "eebd3c2323d24651a6088cf251a2b0e4": {
     "model_module": "@jupyter-widgets/base",
     "model_name": "LayoutModel",
     "state": {
      "_model_module": "@jupyter-widgets/base",
      "_model_module_version": "1.2.0",
      "_model_name": "LayoutModel",
      "_view_count": null,
      "_view_module": "@jupyter-widgets/base",
      "_view_module_version": "1.2.0",
      "_view_name": "LayoutView",
      "align_content": null,
      "align_items": null,
      "align_self": null,
      "border": null,
      "bottom": null,
      "display": null,
      "flex": null,
      "flex_flow": null,
      "grid_area": null,
      "grid_auto_columns": null,
      "grid_auto_flow": null,
      "grid_auto_rows": null,
      "grid_column": null,
      "grid_gap": null,
      "grid_row": null,
      "grid_template_areas": null,
      "grid_template_columns": null,
      "grid_template_rows": null,
      "height": null,
      "justify_content": null,
      "justify_items": null,
      "left": null,
      "margin": null,
      "max_height": null,
      "max_width": null,
      "min_height": null,
      "min_width": null,
      "object_fit": null,
      "object_position": null,
      "order": null,
      "overflow": null,
      "overflow_x": null,
      "overflow_y": null,
      "padding": null,
      "right": null,
      "top": null,
      "visibility": null,
      "width": null
     }
    },
    "f08dced153ba4d9b89125a963b9807c7": {
     "model_module": "@jupyter-widgets/base",
     "model_name": "LayoutModel",
     "state": {
      "_model_module": "@jupyter-widgets/base",
      "_model_module_version": "1.2.0",
      "_model_name": "LayoutModel",
      "_view_count": null,
      "_view_module": "@jupyter-widgets/base",
      "_view_module_version": "1.2.0",
      "_view_name": "LayoutView",
      "align_content": null,
      "align_items": null,
      "align_self": null,
      "border": null,
      "bottom": null,
      "display": null,
      "flex": null,
      "flex_flow": null,
      "grid_area": null,
      "grid_auto_columns": null,
      "grid_auto_flow": null,
      "grid_auto_rows": null,
      "grid_column": null,
      "grid_gap": null,
      "grid_row": null,
      "grid_template_areas": null,
      "grid_template_columns": null,
      "grid_template_rows": null,
      "height": null,
      "justify_content": null,
      "justify_items": null,
      "left": null,
      "margin": null,
      "max_height": null,
      "max_width": null,
      "min_height": null,
      "min_width": null,
      "object_fit": null,
      "object_position": null,
      "order": null,
      "overflow": null,
      "overflow_x": null,
      "overflow_y": null,
      "padding": null,
      "right": null,
      "top": null,
      "visibility": null,
      "width": null
     }
    }
   }
  }
 },
 "nbformat": 4,
 "nbformat_minor": 1
}
