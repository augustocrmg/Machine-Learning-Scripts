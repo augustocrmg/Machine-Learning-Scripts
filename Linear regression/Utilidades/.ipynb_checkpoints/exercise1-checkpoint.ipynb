{
 "cells": [
  {
   "cell_type": "markdown",
   "metadata": {},
   "source": [
    "# Tarefa de programação 1: Regressão Linear\n",
    "\n",
    "## Introdução\n",
    "\n",
    "Neste exercício, nós implementaremos a técnica de regressão linear e observaremos os seus resultados. \n",
    "\n",
    "Todas as informações para resolver este problema estão contidas neste ambiente.\n",
    "\n",
    "Antes de iniciarmos o exercício, nós precisamos que algumas bibliotecas já estejam disponíveis. São elas:\n",
    "\n",
    "- Numpy: (http://www.numpy.org/) para todas as operações matriciais;\n",
    "- Matplotlib: (https://matplotlib.org/) para a plotagem dos gráficos.\n",
    "\n",
    "Caso este notebook esteja funcionando através do Anaconda, as bibliotecas já estarão disponíveis automaticamente. Caso contrário, será necessário baixar e instalar essas duas bibliotecas no ambiente escolhido."
   ]
  },
  {
   "cell_type": "code",
   "execution_count": null,
   "metadata": {
    "collapsed": true
   },
   "outputs": [],
   "source": [
    "# used for manipulating directory paths\n",
    "import os\n",
    "\n",
    "# Scientific and vector computation for python\n",
    "import numpy as np\n",
    "\n",
    "# Plotting library\n",
    "from matplotlib import pyplot\n",
    "from mpl_toolkits.mplot3d import Axes3D  # needed to plot 3-D surfaces\n",
    "\n",
    "# tells matplotlib to embed plots within the notebook\n",
    "%matplotlib inline"
   ]
  },
  {
   "cell_type": "markdown",
   "metadata": {},
   "source": [
    "<a id=\"section1\"></a>\n",
    "## 1 Função simples de python e numpy\n",
    "\n",
    "A primeira parte será para familiarização com o ambiente. Na próxima célula, faça uma função que gere uma matriz identidade 5x5, utilizando a linha:\n",
    "\n",
    "```python\n",
    "A = np.eye(5)\n",
    "```\n",
    "<a id=\"warmUpExercise\"></a>"
   ]
  },
  {
   "cell_type": "code",
   "execution_count": null,
   "metadata": {
    "collapsed": true
   },
   "outputs": [],
   "source": [
    "def warmUpExercise():\n",
    "    \"\"\"\n",
    "    Example function in Python which computes the identity matrix.\n",
    "    \n",
    "    Returns\n",
    "    -------\n",
    "    A : array_like\n",
    "        The 5x5 identity matrix.\n",
    "    \n",
    "    Instructions\n",
    "    ------------\n",
    "    Return the 5x5 identity matrix.\n",
    "    \"\"\"    \n",
    "    # ======== YOUR CODE HERE ======\n",
    "    A = []   # modify this line\n",
    "    \n",
    "    # ==============================\n",
    "    return A"
   ]
  },
  {
   "cell_type": "markdown",
   "metadata": {},
   "source": [
    "Na última célula, nós definimos a função `warmUpExercise` que agora poderá ser executada. O seu resultado deve ser igual a:\n",
    "\n",
    "```python\n",
    "array([[ 1.,  0.,  0.,  0.,  0.],\n",
    "       [ 0.,  1.,  0.,  0.,  0.],\n",
    "       [ 0.,  0.,  1.,  0.,  0.],\n",
    "       [ 0.,  0.,  0.,  1.,  0.],\n",
    "       [ 0.,  0.,  0.,  0.,  1.]])\n",
    "```"
   ]
  },
  {
   "cell_type": "code",
   "execution_count": null,
   "metadata": {
    "collapsed": false,
    "scrolled": false
   },
   "outputs": [],
   "source": [
    "warmUpExercise()"
   ]
  },
  {
   "cell_type": "markdown",
   "metadata": {},
   "source": [
    "## 2 Regressão Linear de uma variável\n",
    "\n",
    "Agora nós iremos implementar a regressão linear para uma variável para tentar prever os lucros de um food truck. Suponha que você é o CEO de uma franquia de food trucks e está considerando diferentes cidades para abrir uma nova filial. A franquia já possui outros trucks em várias cidades e você possui os dados de rentabilidade de cada um deles, além da população de cada um desses municípios. Você planeja utilizar esses dados para escolher qual será a cidade escolhida para abrir o próximo truck.\n",
    "\n",
    "O documento `Data/ex1data1.txt` contém um dataset para o nosso problema de regressão. A primeira coluna é a população da cidade (em 10 mil habitantes) e a segunda coluna é o lucro do food truck nesta cidade (em 10 mil dólares). Um valor negativo para o lucro, significa um prejuízo.\n",
    "\n",
    "Nós já fornecemos o código para carregar esses dados. O dataset será carregado e guardado nas variáveis `X` e `y`:"
   ]
  },
  {
   "cell_type": "code",
   "execution_count": null,
   "metadata": {
    "collapsed": true
   },
   "outputs": [],
   "source": [
    "# Read comma separated data\n",
    "data = np.loadtxt(os.path.join('Data', 'ex1data1.txt'), delimiter=',')\n",
    "X, y = data[:, 0], data[:, 1]\n",
    "\n",
    "m = y.size  # number of training examples"
   ]
  },
  {
   "cell_type": "markdown",
   "metadata": {},
   "source": [
    "### 2.1 Plotando os dados\n",
    "\n",
    "Antes de iniciarmos qualquer tarefa, é interessante que nós visualizemos os dados. Para este dataset, nós podemos usar um gráfico de dispersão (scatter plot) para visualizar os dados, desde que eles só possuam duas features (lucro e população). \n",
    "\n",
    "Neste curso, nós usaremos apenas o `matplotlib` para as plotagens. O `pyplot` é um módulo desta biblioteca que disponibiliza uma interface simplificada para as plotagens mais usadas do `matplotlib`, imitando a interface de plotagem do MATLAB. \n",
    "\n",
    "Na próxima etapa, a primeira tarefa será completar a função `plotData` a seguir. Modifique-a e preencha-a com o seguinte código:\n",
    "\n",
    "```python\n",
    "    pyplot.plot(x, y, 'ro', ms=10, mec='k')\n",
    "    pyplot.ylabel('Lucro em $10,000')\n",
    "    pyplot.xlabel('População da cidade em 10,000s')\n",
    "```"
   ]
  },
  {
   "cell_type": "code",
   "execution_count": null,
   "metadata": {
    "collapsed": true
   },
   "outputs": [],
   "source": [
    "def plotData(x, y):\n",
    "    \"\"\"\n",
    "    Plots the data points x and y into a new figure. Plots the data \n",
    "    points and gives the figure axes labels of population and profit.\n",
    "    \n",
    "    Parameters\n",
    "    ----------\n",
    "    x : array_like\n",
    "        Data point values for x-axis.\n",
    "\n",
    "    y : array_like\n",
    "        Data point values for y-axis. Note x and y should have the same size.\n",
    "    \n",
    "    Instructions\n",
    "    ------------\n",
    "    Plot the training data into a figure using the \"figure\" and \"plot\"\n",
    "    functions. Set the axes labels using the \"xlabel\" and \"ylabel\" functions.\n",
    "    Assume the population and revenue data have been passed in as the x\n",
    "    and y arguments of this function.    \n",
    "    \n",
    "    Hint\n",
    "    ----\n",
    "    You can use the 'ro' option with plot to have the markers\n",
    "    appear as red circles. Furthermore, you can make the markers larger by\n",
    "    using plot(..., 'ro', ms=10), where `ms` refers to marker size. You \n",
    "    can also set the marker edge color using the `mec` property.\n",
    "    \"\"\"\n",
    "    fig = pyplot.figure()  # open a new figure\n",
    "    \n",
    "    # ====================== YOUR CODE HERE ======================= \n",
    "    \n",
    "    # =============================================================\n"
   ]
  },
  {
   "cell_type": "markdown",
   "metadata": {},
   "source": [
    "Agora vamos rodar a função com os dados carregados para visualizá-los. O resultado final deve ser igual a figura seguinte:\n",
    "\n",
    "![](Figures/dataset1.png)\n",
    "\n",
    "Execute a próxima célula para visualizar os dados\n"
   ]
  },
  {
   "cell_type": "code",
   "execution_count": null,
   "metadata": {
    "collapsed": false
   },
   "outputs": [],
   "source": [
    "plotData(X, y)"
   ]
  },
  {
   "cell_type": "markdown",
   "metadata": {},
   "source": [
    "Para aprender mais sobre a função plot da biblioteca `matplotlib` e quais argumentos podem ser inseridos nela, nós podemos digitar `?pyplot.plot` em uma célula do jupyter notebook. Isso abrirá uma página separada mostrando a documentação da função.\n",
    "\n",
    "Para selecionar os marcadores como círculos vermelhos, nós utilizamos a opção `'or'` na função `plot`."
   ]
  },
  {
   "cell_type": "code",
   "execution_count": null,
   "metadata": {
    "collapsed": true
   },
   "outputs": [],
   "source": [
    "?pyplot.plot"
   ]
  },
  {
   "cell_type": "markdown",
   "metadata": {},
   "source": [
    "<a id=\"section2\"></a>\n",
    "### 2.2 Gradient Descent\n",
    "\n",
    "Nesta parte, nós iremos preencher os parâmetros $\\theta$ da regressão linear do nosso dataset utilizando a técnica do gradient descent.\n",
    "\n",
    "#### 2.2.1 Atualização das equações\n",
    "\n",
    "O objetivo da regressão linear é minimizar a função de custo\n",
    "\n",
    "$$ J(\\theta) = \\frac{1}{2m} \\sum_{i=1}^m \\left( h_{\\theta}(x^{(i)}) - y^{(i)}\\right)^2$$\n",
    "\n",
    "em que a hipótese $h_\\theta(x)$ é dada pelo modelo linear\n",
    "\n",
    "$$ h_\\theta(x) = \\theta^Tx = \\theta_0 + \\theta_1 x_1$$\n",
    "\n",
    "Repare que os parâmetros do nosso modelo são os valores de $\\theta_j$. Esses valores devem ser ajustados para minimizar a função de custo $J(\\theta)$. Uma forma de fazer isso é usar o gradient descent em batches. Nesta técnica, cada iteração realiza uma atualização\n",
    "\n",
    "$$ \\theta_j = \\theta_j - \\alpha \\frac{1}{m} \\sum_{i=1}^m \\left( h_\\theta(x^{(i)}) - y^{(i)}\\right)x_j^{(i)} \\qquad \\text{atualização simultânea de } \\theta_j \\text{ para todo } j$$\n",
    "\n",
    "Em cada iteração do gradient descent, o parâmetro $\\theta_j$ se aproxima dos valores ótimos, ou seja, aqueles nos quais a função de custo J($\\theta$) será minimizada.\n",
    "\n",
    "<div class=\"alert alert-block alert-warning\">\n",
    "**Nota de implementação:** Nós guardamos cada exemplo em uma linha da matriz $X$ em Python `numpy`. Para levar em conta o termo de interceptação ($\\theta_0$), nós adicionaremos uma primeira coluna adicional em $X$, em que todos elementos serão iguais a '1'. Isso permitirá tratar $\\theta_0$ como outra simples feature.    \n",
    "</div>\n",
    "\n",
    "\n",
    "#### 2.2.2 Implementação\n",
    "\n",
    "Nós já possuímos os dados para a regressão linear. Na próxima célula, nós adicionaremos outra dimensão aos nossos dados para acomodar os termos de interceptação $\\theta_0$. NÃO execute essa célular mais de uma vez."
   ]
  },
  {
   "cell_type": "code",
   "execution_count": null,
   "metadata": {
    "collapsed": true
   },
   "outputs": [],
   "source": [
    "# Add a column of ones to X. The numpy function stack joins arrays along a given axis. \n",
    "# The first axis (axis=0) refers to rows (training examples) \n",
    "# and second axis (axis=1) refers to columns (features).\n",
    "X = np.stack([np.ones(m), X], axis=1)"
   ]
  },
  {
   "cell_type": "markdown",
   "metadata": {},
   "source": [
    "<a id=\"section2\"></a>\n",
    "#### 2.2.3 Cálculo do custo $J(\\theta)$\n",
    "\n",
    "Quando nós utilizamos o gradient descent para aprender a minimizar a função de custo $J(\\theta)$, é interessante monitorar a convergência do cálculo desse custo. Nesta seção, nós implementaremos a função que calculará $J(\\theta)$, permitindo o acompanhamento da convergência da nossa implementação do gradiente descendente.\n",
    "\n",
    "A próxima tarefa é completar o código da função `computeCost` que calcula $J(\\theta)$. Relembre que $X$ e $y$ não são valores escalares. $X$ é uma matriz cujas linhas representam exemplos do dados de treinamento (training set) e $y$ é um vetor em que cada elemento representa a saída de cada um desses exemplos de treinamento de $X$.\n",
    "<a id=\"computeCost\"></a>"
   ]
  },
  {
   "cell_type": "code",
   "execution_count": null,
   "metadata": {
    "collapsed": true
   },
   "outputs": [],
   "source": [
    "def computeCost(X, y, theta):\n",
    "    \"\"\"\n",
    "    Compute cost for linear regression. Computes the cost of using theta as the\n",
    "    parameter for linear regression to fit the data points in X and y.\n",
    "    \n",
    "    Parameters\n",
    "    ----------\n",
    "    X : array_like\n",
    "        The input dataset of shape (m x n+1), where m is the number of examples,\n",
    "        and n is the number of features. We assume a vector of one's already \n",
    "        appended to the features so we have n+1 columns.\n",
    "    \n",
    "    y : array_like\n",
    "        The values of the function at each data point. This is a vector of\n",
    "        shape (m, ).\n",
    "    \n",
    "    theta : array_like\n",
    "        The parameters for the regression function. This is a vector of \n",
    "        shape (n+1, ).\n",
    "    \n",
    "    Returns\n",
    "    -------\n",
    "    J : float\n",
    "        The value of the regression cost function.\n",
    "    \n",
    "    Instructions\n",
    "    ------------\n",
    "    Compute the cost of a particular choice of theta. \n",
    "    You should set J to the cost.\n",
    "    \"\"\"\n",
    "    \n",
    "    # initialize some useful values\n",
    "    m = y.size  # number of training examples\n",
    "    \n",
    "    # You need to return the following variables correctly\n",
    "    J = 0\n",
    "    \n",
    "    # ====================== YOUR CODE HERE =====================\n",
    "\n",
    "    \n",
    "    # ===========================================================\n",
    "    return J"
   ]
  },
  {
   "cell_type": "markdown",
   "metadata": {},
   "source": [
    "Uma vez que a função esteja completa, o próximo passo é rodar `computeCost` duas vezes utilizando duas diferentes inicializações de $\\theta$. Você terá o custo printado na sua tela. "
   ]
  },
  {
   "cell_type": "code",
   "execution_count": null,
   "metadata": {
    "collapsed": false
   },
   "outputs": [],
   "source": [
    "J = computeCost(X, y, theta=np.array([0.0, 0.0]))\n",
    "print('Com theta = [0, 0] \\nCusto calculado = %.2f' % J)\n",
    "print('Valor de custo esperado (aproximado) 32.07\\n')\n",
    "\n",
    "# further testing of the cost function\n",
    "J = computeCost(X, y, theta=np.array([-1, 2]))\n",
    "print('Com theta = [-1, 2]\\nCusto calculado = %.2f' % J)\n",
    "print('Valor de custo esperado (aproximado) 54.24')"
   ]
  },
  {
   "cell_type": "markdown",
   "metadata": {},
   "source": [
    "<a id=\"section3\"></a>\n",
    "#### 2.2.4 Gradient Descent\n",
    "\n",
    "A seguir, nós completaremos a função que implementa o gradient descent. A estrutura do loop já foi escrita para você. O que ainda deve ser feito é fornecer as atualização de $\\theta$ em cada iteração.\n",
    "\n",
    "Enquanto você programa, se certifique que você está entendendo o que está sendo otimizado e o que você está fazendo para otimizar isto. Tenha em mente que o custo $J(\\theta)$ é parametrizado pelo vetor $\\theta$, e não por $X$ e $y$. Isto é, nós minimizaremos o valor de $J(\\theta)$ através das mudanças nos valores de $\\theta$, e não pelas mudanças nos valores de $X$ or $y$.\n",
    "\n",
    "[Retorne às equações deste notebook](#section2) e nos vídeos se você ainda está inseguro. Uma boa maneira de verificar se o gradient descent está funcionando corretamente é monitorar o valor de $J(\\theta)$ e checar se ele decresce a cada iteração.\n",
    "\n",
    "O início da função `gradientDescent` chama `computeCost` em cada iteração e salva o custo em uma lista `python`. Assumindo que nós implementamos o gradiente descendente e `computeCost` corretamente, o nosso valor para $J(\\theta)$ não deve aumentar nunca, convergindo para um valor fixo ao final do algoritmo."
   ]
  },
  {
   "cell_type": "code",
   "execution_count": null,
   "metadata": {
    "collapsed": true
   },
   "outputs": [],
   "source": [
    "def gradientDescent(X, y, theta, alpha, num_iters):\n",
    "    \"\"\"\n",
    "    Performs gradient descent to learn `theta`. Updates theta by taking `num_iters`\n",
    "    gradient steps with learning rate `alpha`.\n",
    "    \n",
    "    Parameters\n",
    "    ----------\n",
    "    X : array_like\n",
    "        The input dataset of shape (m x n+1).\n",
    "    \n",
    "    y : array_like\n",
    "        Value at given features. A vector of shape (m, ).\n",
    "    \n",
    "    theta : array_like\n",
    "        Initial values for the linear regression parameters. \n",
    "        A vector of shape (n+1, ).\n",
    "    \n",
    "    alpha : float\n",
    "        The learning rate.\n",
    "    \n",
    "    num_iters : int\n",
    "        The number of iterations for gradient descent. \n",
    "    \n",
    "    Returns\n",
    "    -------\n",
    "    theta : array_like\n",
    "        The learned linear regression parameters. A vector of shape (n+1, ).\n",
    "    \n",
    "    J_history : list\n",
    "        A python list for the values of the cost function after each iteration.\n",
    "    \n",
    "    Instructions\n",
    "    ------------\n",
    "    Peform a single gradient step on the parameter vector theta.\n",
    "\n",
    "    While debugging, it can be useful to print out the values of \n",
    "    the cost function (computeCost) and gradient here.\n",
    "    \"\"\"\n",
    "    # Initialize some useful values\n",
    "    m = y.shape[0]  # number of training examples\n",
    "    \n",
    "    # make a copy of theta, to avoid changing the original array, since numpy arrays\n",
    "    # are passed by reference to functions\n",
    "    theta = theta.copy()\n",
    "    \n",
    "    J_history = [] # Use a python list to save cost in every iteration\n",
    "    \n",
    "    for i in range(num_iters):\n",
    "        # ==================== YOUR CODE HERE =================================\n",
    "        \n",
    "\n",
    "        # =====================================================================\n",
    "        \n",
    "        # save the cost J in every iteration\n",
    "        J_history.append(computeCost(X, y, theta))\n",
    "    \n",
    "    return theta, J_history"
   ]
  },
  {
   "cell_type": "markdown",
   "metadata": {},
   "source": [
    "Depois de finalizar, nós chamaremos a função implementada `gradientDescent` e vamos printar o $\\theta$ calculado. Nós inicializaremos os parâmetros $\\theta$ como 0 e a taxa de aprendizado (learning rate) $\\alpha$ como 0,01. Execute a próxima célula para conferir o código."
   ]
  },
  {
   "cell_type": "code",
   "execution_count": null,
   "metadata": {
    "collapsed": false
   },
   "outputs": [],
   "source": [
    "# initialize fitting parameters\n",
    "theta = np.zeros(2)\n",
    "\n",
    "# some gradient descent settings\n",
    "iterations = 1500\n",
    "alpha = 0.01\n",
    "\n",
    "theta, J_history = gradientDescent(X ,y, theta, alpha, iterations)\n",
    "print('Theta encontrado com o gradient descent: {:.4f}, {:.4f}'.format(*theta))\n",
    "print('Valores esperados de theta (aproximado): [-3.6303, 1.1664]')"
   ]
  },
  {
   "cell_type": "markdown",
   "metadata": {},
   "source": [
    "Nós utilizaremos os parâmetros obtidos como saída da função `gradientDescent` para plotar a regressão linear. Os resultados devem ser parecidos com a figura seguinte.\n",
    "\n",
    "![](Figures/regression_result.png)"
   ]
  },
  {
   "cell_type": "code",
   "execution_count": null,
   "metadata": {
    "collapsed": false
   },
   "outputs": [],
   "source": [
    "# plot the linear fit\n",
    "plotData(X[:, 1], y)\n",
    "pyplot.plot(X[:, 1], np.dot(X, theta), '-')\n",
    "pyplot.legend(['Dados de treinamento', 'Regressão linear']);"
   ]
  },
  {
   "cell_type": "markdown",
   "metadata": {},
   "source": [
    "Nossos valores finais de $\\theta$ também serão usados para fazer previsões dos lucros em áreas de 35 e 70 mil habitantes.\n",
    "\n",
    "<div class=\"alert alert-block alert-success\">\n",
    "Note que as linhas de código seguintes utilizam produto entre matrizes, ao invés de somas em loops, para calcular as previsões. Isto é um exemplo de vetorização de código em `numpy`.\n",
    "</div>\n",
    "\n",
    "<div class=\"alert alert-block alert-success\">\n",
    "Note que o primeiro argumento da função `np.dot` é uma lista python. A biblioteca `numpy` pode converter internamente listas python em `numpy arrays` quando explicitado nos argumentos das funções `numpy`.\n",
    "</div>\n"
   ]
  },
  {
   "cell_type": "code",
   "execution_count": null,
   "metadata": {
    "collapsed": false
   },
   "outputs": [],
   "source": [
    "# Predict values for population sizes of 35,000 and 70,000\n",
    "predict1 = np.dot([1, 3.5], theta)\n",
    "print('Para população = 35,000, nós prevemos um lucro de {:.2f}\\n'.format(predict1*10000))\n",
    "\n",
    "predict2 = np.dot([1, 7], theta)\n",
    "print('Para população = 70,000, nós prevemos um lucro de {:.2f}\\n'.format(predict2*10000))"
   ]
  },
  {
   "cell_type": "markdown",
   "metadata": {},
   "source": [
    "### 2.4 Visualizando $J(\\theta)$\n",
    "\n",
    "Para entender melhor a função de custo $J(\\theta)$, nós iremos agora plotar o custo através de um gráfico tridimensional, com o custo no eixo z em função de $\\theta_0$ e $\\theta_1$. Você não precisará escrever nada de novo nesta parte, mas deve entender o código que já foi escrito para criar as imagens.\n",
    "\n",
    "Na próxima célula, o código está construído para calcular $J(\\theta)$ utilizando a função `computeCost` que você escreveu. Depois de executar a próxima célula, você terá uma matriz 2-D com os valores de $J(\\theta)$. Então, esses valores serão usados para produzir a superfície e o contorno de $J(\\theta)$ que serão plotados usando as funções `plot_surface` e `contourf` do matplotlib. Essas plotagens devem se parecer com as imagens a seguir.\n",
    "\n",
    "![](Figures/cost_function.png)\n",
    "\n",
    "O propósito desses gráficos é mostrar como $J(\\theta)$ varia com as mudanças de $\\theta_0$ e $\\theta_1$. A função de custo $J(\\theta)$ possui um mínimo global. Isto é mais fácil de ser visualizado no gráfico de contorno d que no gráfico 3-D. Este mínimo é o ponto ótimo para $\\theta_0$ e $\\theta_1$, e cada iteração do gradient descent move esses parâmetros para mais próximo deste ponto."
   ]
  },
  {
   "cell_type": "code",
   "execution_count": null,
   "metadata": {
    "collapsed": false
   },
   "outputs": [],
   "source": [
    "# grid over which we will calculate J\n",
    "theta0_vals = np.linspace(-10, 10, 100)\n",
    "theta1_vals = np.linspace(-1, 4, 100)\n",
    "\n",
    "# initialize J_vals to a matrix of 0's\n",
    "J_vals = np.zeros((theta0_vals.shape[0], theta1_vals.shape[0]))\n",
    "\n",
    "# Fill out J_vals\n",
    "for i, theta0 in enumerate(theta0_vals):\n",
    "    for j, theta1 in enumerate(theta1_vals):\n",
    "        J_vals[i, j] = computeCost(X, y, [theta0, theta1])\n",
    "        \n",
    "# Because of the way meshgrids work in the surf command, we need to\n",
    "# transpose J_vals before calling surf, or else the axes will be flipped\n",
    "J_vals = J_vals.T\n",
    "\n",
    "# surface plot\n",
    "fig = pyplot.figure(figsize=(12, 5))\n",
    "ax = fig.add_subplot(121, projection='3d')\n",
    "ax.plot_surface(theta0_vals, theta1_vals, J_vals, cmap='viridis')\n",
    "pyplot.xlabel('theta0')\n",
    "pyplot.ylabel('theta1')\n",
    "pyplot.title('Superfície')\n",
    "\n",
    "# contour plot\n",
    "# Plot J_vals as 15 contours spaced logarithmically between 0.01 and 100\n",
    "ax = pyplot.subplot(122)\n",
    "pyplot.contour(theta0_vals, theta1_vals, J_vals, linewidths=2, cmap='viridis', levels=np.logspace(-2, 3, 20))\n",
    "pyplot.xlabel('theta0')\n",
    "pyplot.ylabel('theta1')\n",
    "pyplot.plot(theta[0], theta[1], 'ro', ms=10, lw=2)\n",
    "pyplot.title('Contorno, mostrando o minimo')\n",
    "pass"
   ]
  },
  {
   "cell_type": "code",
   "execution_count": null,
   "metadata": {
    "collapsed": true
   },
   "outputs": [],
   "source": []
  }
 ],
 "metadata": {
  "anaconda-cloud": {},
  "kernelspec": {
   "display_name": "Python [default]",
   "language": "python",
   "name": "python3"
  },
  "language_info": {
   "codemirror_mode": {
    "name": "ipython",
    "version": 3
   },
   "file_extension": ".py",
   "mimetype": "text/x-python",
   "name": "python",
   "nbconvert_exporter": "python",
   "pygments_lexer": "ipython3",
   "version": "3.5.6"
  }
 },
 "nbformat": 4,
 "nbformat_minor": 2
}
