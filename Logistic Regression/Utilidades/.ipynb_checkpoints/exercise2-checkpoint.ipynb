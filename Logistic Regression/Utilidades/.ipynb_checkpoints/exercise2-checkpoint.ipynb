{
 "cells": [
  {
   "cell_type": "markdown",
   "metadata": {},
   "source": [
    "# Tarefa de programação 2: Regressão Logística\n",
    "\n",
    "## Introdução\n",
    "\n",
    "Neste exercício, nós iremos implementar a regressão logística e aplicá-la em dois diferentes datasets. \n",
    "\n",
    "Todas as informações necessárias para resolver esta tarefa estão neste ambiente, e todas as partes do código devem ser implementadas ao longo deste notebook.\n",
    "\n",
    "Antes de iniciarmos o exercício, nós precisamos que algumas bibliotecas ja estejam disponíveis. São elas:\n",
    "\n",
    "- Numpy: (http://www.numpy.org/) para todas as operações matriciais;\n",
    "- Matplotlib: (https://matplotlib.org/) para a plotagem dos gráficos;\n",
    "- Scipy(https://docs.scipy.org/doc/scipy/reference/) que contém funções e ferramentas de cálculo numérico e científico.\n",
    "\n",
    "Caso este notebook esteja funcionando através do Anaconda, as bibliotecas já estarão disponíveis automaticamente. Caso contrário, será necessário baixar e instalar essas duas bibliotecas no ambiente escolhido."
   ]
  },
  {
   "cell_type": "code",
   "execution_count": 21,
   "metadata": {
    "collapsed": true
   },
   "outputs": [],
   "source": [
    "# used for manipulating directory paths\n",
    "import os\n",
    "\n",
    "# Scientific and vector computation for python\n",
    "import numpy as np\n",
    "\n",
    "# Plotting library\n",
    "from matplotlib import pyplot\n",
    "\n",
    "# Optimization module in scipy\n",
    "from scipy import optimize\n",
    "\n",
    "# library written for this exercise providing additional functions for assignment submission, and others\n",
    "import utils\n",
    "\n",
    "# tells matplotlib to embed plots within the notebook\n",
    "%matplotlib inline"
   ]
  },
  {
   "cell_type": "markdown",
   "metadata": {},
   "source": [
    "## 1 Regressão logística\n",
    "\n",
    "Nesta parte do exercício, nós construiremos um modelo de regressão logística para prever se um estudante será aprovado ou não na universidade. Suponha que você é o administrador de um departamento de uma universidade e você quer avaliar a chance de admissão de cada um dos candidatos, baseado nos resultados destes em duas provas. Você possui o histórico com essas duas notas de cada candidato e usará esses dados como treinamento da regressão logística.\n",
    "\n",
    "Em cada exemplo, você possui as notas dos candidatos nas provas e as decisões quanto à admissão destes. A nossa tarefa é construir um modelo de classificação que estime a probabilidade de admissão de cada candidato baseado nas notas dos dois exames.\n",
    "\n",
    "A próxima célula carregará os dados de treinamento (com as nota dos dois exames) e os seus resultados (admitido ou não)."
   ]
  },
  {
   "cell_type": "code",
   "execution_count": 40,
   "metadata": {
    "collapsed": true
   },
   "outputs": [],
   "source": [
    "# Load data\n",
    "# The first two columns contains the exam scores and the third column\n",
    "# contains the label.\n",
    "data = np.loadtxt(os.path.join('Data', 'ex2data1.txt'), delimiter=',')\n",
    "X, y = data[:, 0:2], data[:, 2]"
   ]
  },
  {
   "cell_type": "markdown",
   "metadata": {},
   "source": [
    "### 1.1 Visualização de dados\n",
    "\n",
    "Antes de iniciarmos a implementação de qualquer algoritmo de aprendizado, é sempre aconselhável visualizar os dados, se for possível. Nós mostraremos os dados em uma plotagem bidimensional chamando a função `plotData`. Você deve completar o código `plotData` e então ele mostrará uma figura em que os eixos são as notas das duas provas, e os exemplos positivos e negativos são mostrados em diferentes marcadores.\n",
    "\n",
    "Para ajudar você a ganhar familiaridade com a plotagem, nós deixamos `plotData` em branco para que você tente implementar por você. Entretanto, este é um exercício opcional (não avaliado) e, por isso, nós fornecemos a implementação abaixo. Se você precisar copiar o nosso código, tenha certeza que você aprendeu o que cada comando executa. Isto pode ser feito acessando a documentação das bibliotecas `matplotlib` e `numpy`.\n",
    "\n",
    "```python\n",
    "# Find Indices of Positive and Negative Examples\n",
    "pos = y == 1\n",
    "neg = y == 0\n",
    "\n",
    "# Plot Examples\n",
    "pyplot.plot(X[pos, 0], X[pos, 1], 'k*', lw=2, ms=10)\n",
    "pyplot.plot(X[neg, 0], X[neg, 1], 'ko', mfc='y', ms=8, mec='k', mew=1)\n",
    "```"
   ]
  },
  {
   "cell_type": "code",
   "execution_count": 23,
   "metadata": {
    "collapsed": true
   },
   "outputs": [],
   "source": [
    "def plotData(X, y):\n",
    "    \"\"\"\n",
    "    Plots the data points X and y into a new figure. Plots the data \n",
    "    points with * for the positive examples and o for the negative examples.\n",
    "    \n",
    "    Parameters\n",
    "    ----------\n",
    "    X : array_like\n",
    "        An Mx2 matrix representing the dataset. \n",
    "    \n",
    "    y : array_like\n",
    "        Label values for the dataset. A vector of size (M, ).\n",
    "    \n",
    "    Instructions\n",
    "    ------------\n",
    "    Plot the positive and negative examples on a 2D plot, using the\n",
    "    option 'k*' for the positive examples and 'ko' for the negative examples.    \n",
    "    \"\"\"\n",
    "    # Create New Figure\n",
    "    fig = pyplot.figure()\n",
    "\n",
    "    # ====================== YOUR CODE HERE ======================\n",
    "\n",
    "    # Find Indices of Positive and Negative Examples\n",
    "    pos = y == 1\n",
    "    neg = y == 0\n",
    "\n",
    "    # Plot Examples\n",
    "    pyplot.plot(X[pos, 0], X[pos, 1], 'k*', lw=2, ms=10)\n",
    "    pyplot.plot(X[neg, 0], X[neg, 1], 'ko', mfc='y', ms=8, mec='k', mew=1)\n",
    "    \n",
    "    # ============================================================"
   ]
  },
  {
   "cell_type": "markdown",
   "metadata": {},
   "source": [
    "Agora, nós chamaremos a função implementada que plotará os dados carregados:"
   ]
  },
  {
   "cell_type": "code",
   "execution_count": 25,
   "metadata": {
    "collapsed": true
   },
   "outputs": [],
   "source": [
    "def sigmoid(z):\n",
    "    \"\"\"\n",
    "    Compute sigmoid function given the input z.\n",
    "    \n",
    "    Parameters\n",
    "    ----------\n",
    "    z : array_like\n",
    "        The input to the sigmoid function. This can be a 1-D vector \n",
    "        or a 2-D matrix. \n",
    "    \n",
    "    Returns\n",
    "    -------\n",
    "    g : array_like\n",
    "        The computed sigmoid function. g has the same shape as z, since\n",
    "        the sigmoid is computed element-wise on z.\n",
    "        \n",
    "    Instructions\n",
    "    ------------\n",
    "    Compute the sigmoid of each value of z (z can be a matrix, vector or scalar).\n",
    "    \"\"\"\n",
    "    # convert input to a numpy array\n",
    "    z = np.array(z)\n",
    "    \n",
    "    # You need to return the following variables correctly \n",
    "    g = np.zeros(z.shape)\n",
    "\n",
    "    # ====================== YOUR CODE HERE ======================\n",
    "\n",
    "    \n",
    "\n",
    "    # =============================================================\n",
    "    return g"
   ]
  },
  {
   "cell_type": "code",
   "execution_count": 24,
   "metadata": {
    "collapsed": false
   },
   "outputs": [
    {
     "data": {
      "image/png": "[encoded data removed]",
      "text/plain": [
       "<matplotlib.figure.Figure at 0x861feb8>"
      ]
     },
     "metadata": {},
     "output_type": "display_data"
    }
   ],
   "source": [
    "plotData(X, y)\n",
    "# add axes labels\n",
    "pyplot.xlabel('Nota da prova 1')\n",
    "pyplot.ylabel('Nota da prova 2')\n",
    "pyplot.legend(['Admitido', 'Não admitido'])\n",
    "pass"
   ]
  },
  {
   "cell_type": "markdown",
   "metadata": {},
   "source": [
    "<a id=\"section1\"></a>\n",
    "### 1.2 Implementação\n",
    "\n",
    "#### 1.2.1 Exercício de aquecimento: Função sigmoid\n",
    "\n",
    "Antes de iniciarmos com a função de custo, relembre que a hipótese da regressão logística é definida como:\n",
    "\n",
    "$$ h_\\theta(x) = g(\\theta^T x)$$\n",
    "\n",
    "em que a função $g$ é a função sigmoid, que é definida como:\n",
    "\n",
    "$$g(z) = \\frac{1}{1+e^{-z}}$$.\n",
    "\n",
    "O primeiro passo é implementar a função `sigmoid` e, então, ela poderá ser chamada pelo resto do nosso programa. Quanto você finalizar, tente testar alguns valores chamando `sigmoid(x)` em uma nova célula. Para valores muito positivos de `x`, a sigmoid deve se aproximar de 1, ao passo que para valores muito negativos, a sigmoid deve se aproximar de 0. A função `sigmoid(0)` deve ser exatamente 0.5.\n",
    "\n",
    "Seu código deve funcionar tanto para matrizes unidimensionais, quanto para bidimensionais (neste último caso, o código deve executar a função sigmoid em todos os elementos).\n",
    "<a id=\"sigmoid\"></a>"
   ]
  },
  {
   "cell_type": "markdown",
   "metadata": {},
   "source": [
    "A próxima célula avalia a função sigmoid para `z=0`. Ela deve retornar um valor de 0.5. Você também deve testar a sua função para diferentes valores de `z`."
   ]
  },
  {
   "cell_type": "code",
   "execution_count": 26,
   "metadata": {
    "collapsed": false
   },
   "outputs": [
    {
     "name": "stdout",
     "output_type": "stream",
     "text": [
      "g( 0 ) =  0.0\n"
     ]
    }
   ],
   "source": [
    "# Test the implementation of sigmoid function here\n",
    "z = 0\n",
    "g = sigmoid(z)\n",
    "\n",
    "print('g(', z, ') = ', g)"
   ]
  },
  {
   "cell_type": "markdown",
   "metadata": {},
   "source": [
    "<a id=\"section2\"></a>\n",
    "#### 1.2.2 Função de custo e gradiente\n",
    "\n",
    "Agora nós iremos implementar a função de custo e gradiente para regressão logística. Antes de iniciar, nós adicionamos o termo de interceptação em X."
   ]
  },
  {
   "cell_type": "code",
   "execution_count": 27,
   "metadata": {
    "collapsed": true
   },
   "outputs": [],
   "source": [
    "# Setup the data matrix appropriately, and add ones for the intercept term\n",
    "m, n = X.shape\n",
    "\n",
    "# Add intercept term to X\n",
    "X = np.concatenate([np.ones((m, 1)), X], axis=1)"
   ]
  },
  {
   "cell_type": "markdown",
   "metadata": {},
   "source": [
    "Agora vamos completar o código para a função `costFunction` para retornar o custo e o gradiente. Perceba que a função de custo na regressão logística é \n",
    "\n",
    "$$ J(\\theta) = \\frac{1}{m} \\sum_{i=1}^{m} \\left[ -y^{(i)} \\log\\left(h_\\theta\\left( x^{(i)} \\right) \\right) - \\left( 1 - y^{(i)}\\right) \\log \\left( 1 - h_\\theta\\left( x^{(i)} \\right) \\right) \\right]$$\n",
    "\n",
    "e o gradiente do custo é um vetor com o mesmo tamanho de $\\theta$ em que o $j^{th}$ elemento (para $j = 0, 1, \\cdots , n$) é definido como:\n",
    "\n",
    "$$ \\frac{\\partial J(\\theta)}{\\partial \\theta_j} = \\frac{1}{m} \\sum_{i=1}^m \\left( h_\\theta \\left( x^{(i)} \\right) - y^{(i)} \\right) x_j^{(i)} $$\n",
    "\n",
    "Note que apesar de o gradiente parecer idêntico ao da regressão linear, a fórmula é, na verdade, diferente, já que as regressões logística e linear possuem diferentes definições de $h_\\theta(x)$.\n",
    "\n",
    "<a id=\"costFunction\"></a>"
   ]
  },
  {
   "cell_type": "code",
   "execution_count": 28,
   "metadata": {
    "collapsed": true
   },
   "outputs": [],
   "source": [
    "def costFunction(theta, X, y):\n",
    "    \"\"\"\n",
    "    Compute cost and gradient for logistic regression. \n",
    "    \n",
    "    Parameters\n",
    "    ----------\n",
    "    theta : array_like\n",
    "        The parameters for logistic regression. This a vector\n",
    "        of shape (n+1, ).\n",
    "    \n",
    "    X : array_like\n",
    "        The input dataset of shape (m x n+1) where m is the total number\n",
    "        of data points and n is the number of features. We assume the \n",
    "        intercept has already been added to the input.\n",
    "    \n",
    "    y : arra_like\n",
    "        Labels for the input. This is a vector of shape (m, ).\n",
    "    \n",
    "    Returns\n",
    "    -------\n",
    "    J : float\n",
    "        The computed value for the cost function. \n",
    "    \n",
    "    grad : array_like\n",
    "        A vector of shape (n+1, ) which is the gradient of the cost\n",
    "        function with respect to theta, at the current values of theta.\n",
    "        \n",
    "    Instructions\n",
    "    ------------\n",
    "    Compute the cost of a particular choice of theta. You should set J to \n",
    "    the cost. Compute the partial derivatives and set grad to the partial\n",
    "    derivatives of the cost w.r.t. each parameter in theta.\n",
    "    \"\"\"\n",
    "    # Initialize some useful values\n",
    "    m = y.size  # number of training examples\n",
    "\n",
    "    # You need to return the following variables correctly \n",
    "    J = 0\n",
    "    grad = np.zeros(theta.shape)\n",
    "\n",
    "    # ====================== YOUR CODE HERE ======================\n",
    "\n",
    "    \n",
    "    \n",
    "    # =============================================================\n",
    "    return J, grad"
   ]
  },
  {
   "cell_type": "markdown",
   "metadata": {},
   "source": [
    "Uma vez terminada, chame a função `costFunction` utilizando dois exemplos de teste para $\\theta$ executando a próxima célula."
   ]
  },
  {
   "cell_type": "code",
   "execution_count": 29,
   "metadata": {
    "collapsed": false
   },
   "outputs": [
    {
     "name": "stdout",
     "output_type": "stream",
     "text": [
      "Custo com o theta inicial (zeros): 0.000\n",
      "Custo esperado (aproximado): 0.693\n",
      "\n",
      "Gradiente com o theta inicial (zeros):\n",
      "\t[0.0000, 0.0000, 0.0000]\n",
      "Gradiente esperado (aproximado):\n",
      "\t[-0.1000, -12.0092, -11.2628]\n",
      "\n",
      "Gradiente com o theta de teste: 0.000\n",
      "Custo esperado (aproximado): 0.218\n",
      "\n",
      "Gradiente com o theta de teste:\n",
      "\t[0.000, 0.000, 0.000]\n",
      "Gradiente esperado (aproximado):\n",
      "\t[0.043, 2.566, 2.647]\n"
     ]
    }
   ],
   "source": [
    "# Initialize fitting parameters\n",
    "initial_theta = np.zeros(n+1)\n",
    "\n",
    "cost, grad = costFunction(initial_theta, X, y)\n",
    "\n",
    "print('Custo com o theta inicial (zeros): {:.3f}'.format(cost))\n",
    "print('Custo esperado (aproximado): 0.693\\n')\n",
    "\n",
    "print('Gradiente com o theta inicial (zeros):')\n",
    "print('\\t[{:.4f}, {:.4f}, {:.4f}]'.format(*grad))\n",
    "print('Gradiente esperado (aproximado):\\n\\t[-0.1000, -12.0092, -11.2628]\\n')\n",
    "\n",
    "# Compute and display cost and gradient with non-zero theta\n",
    "test_theta = np.array([-24, 0.2, 0.2])\n",
    "cost, grad = costFunction(test_theta, X, y)\n",
    "\n",
    "print('Gradiente com o theta de teste: {:.3f}'.format(cost))\n",
    "print('Custo esperado (aproximado): 0.218\\n')\n",
    "\n",
    "print('Gradiente com o theta de teste:')\n",
    "print('\\t[{:.3f}, {:.3f}, {:.3f}]'.format(*grad))\n",
    "print('Gradiente esperado (aproximado):\\n\\t[0.043, 2.566, 2.647]')"
   ]
  },
  {
   "cell_type": "markdown",
   "metadata": {},
   "source": [
    "#### 1.2.3 Aprendizado de parâmetros utilizando `scipy.optimize`\n",
    "\n",
    "Na última tarefa de programação, nós encontramos os parâmetros ótimos do modelo de regressão linear a partir da implementação do gradient descent. Nós escrevemos a função de custo e calculamos o seu gradiente, ajustando-o a cada passo. Desta vez, ao invés de fazer os passos do gradient descent, nós usaremos o [`scipy.optimize` module](https://docs.scipy.org/doc/scipy/reference/optimize.html).\n",
    "\n",
    "Scipy é uma biblioteca de cálculo numérico para `python`. Nela, há um módulo de otimização através de algoritmos para encontrar raiz e minimalização. A partir do `scipy 1.0`, a função `scipy.optimize.minimize` será o método utilizado para problemas de otimização.\n",
    "\n",
    "Para regressão logística, você quer otimizar a função de custo $J(\\theta)$ com parâmetros $\\theta$.\n",
    "De forma concreta, nós usaremos `optimize.minimize` para encontrar os melhores parâmetros $\\theta$ para a função de custo e gradiente da regressão logística para o dataset (X,y). Você irá passar como entradas de `optimize.minimize`: \n",
    "- `costFunction`: Uma função de custo que, quando recebe um conjunto de treinamento e um $\\theta$ particular, calcula o custo e o gradiente da regressão logística levando em consideração $\\theta$ para o dataset (X, y). É importante notar que nós passamos o nome da função sem os parênteses. Isto indica que estamos apenas referenciando esta função e não avaliando os resultados dela;\n",
    "- `initial_theta`: Os valores iniciais dos parâmetros que estamos tentando otimizar;\n",
    "- `(X, y)`: argumentos adicionais da função de custo;\n",
    "- `jac`: Indicação se a função de custo retornará um Jacobiano (gradiente) ao longo de um valor de custo. (True)\n",
    "- `method`: Método/algoritmo de otimização utilizado;\n",
    "- `options`: opções adicionais que são específicas do método de otimização escolhido. Neste caso, nós apenas selecionamos o número de iterações que serão realizadas.\n",
    "\n",
    "Se você tiver completado a função `costFunction` corretamente, `optimize.minimize` convergirá para os parâmetros de otimização corretos e retornarão os valores finais do custo e do $\\theta$ em uma variável de tipo 'class'. Repare que usando `optimize.minimize` você não precisa escrever nenhum loop próprio, nem sequer selecionar uma taxa de aprendizado como feito para o gradient descent.\n",
    "\n",
    "Com tudo isso já sendo realizado pela função `optimize.minimize`, você deve apenas fornecer a função que calculará o custo e o gradiente. Na próxima célula, nós já escrevemos o código de `optimize.minimize` com os argumentos corretos."
   ]
  },
  {
   "cell_type": "code",
   "execution_count": 30,
   "metadata": {
    "collapsed": false
   },
   "outputs": [
    {
     "name": "stdout",
     "output_type": "stream",
     "text": [
      "Custo em theta encontrado pelo optimize.minimize: 0.000\n",
      "Custo esperado (aproximado): 0.203\n",
      "\n",
      "Theta:\n",
      "\t[0.000, 0.000, 0.000]\n",
      "Theta esperado (aproximado):\n",
      "\t[-25.161, 0.206, 0.201]\n"
     ]
    }
   ],
   "source": [
    "# set options for optimize.minimize\n",
    "options= {'maxiter': 400}\n",
    "\n",
    "# see documention for scipy's optimize.minimize  for description about\n",
    "# the different parameters\n",
    "# The function returns an object `OptimizeResult`\n",
    "# We use truncated Newton algorithm for optimization which is \n",
    "# equivalent to MATLAB's fminunc\n",
    "# See https://stackoverflow.com/questions/18801002/fminunc-alternate-in-numpy\n",
    "res = optimize.minimize(costFunction,\n",
    "                        initial_theta,\n",
    "                        (X, y),\n",
    "                        jac=True,\n",
    "                        method='TNC',\n",
    "                        options=options)\n",
    "\n",
    "# the fun property of `OptimizeResult` object returns\n",
    "# the value of costFunction at optimized theta\n",
    "cost = res.fun\n",
    "\n",
    "# the optimized theta is in the x property\n",
    "theta = res.x\n",
    "\n",
    "# Print theta to screen\n",
    "print('Custo em theta encontrado pelo optimize.minimize: {:.3f}'.format(cost))\n",
    "print('Custo esperado (aproximado): 0.203\\n');\n",
    "\n",
    "print('Theta:')\n",
    "print('\\t[{:.3f}, {:.3f}, {:.3f}]'.format(*theta))\n",
    "print('Theta esperado (aproximado):\\n\\t[-25.161, 0.206, 0.201]')"
   ]
  },
  {
   "cell_type": "markdown",
   "metadata": {},
   "source": [
    "Uma vez que a função `optimize.minimize` esteja finalizada, nós pretendemos utilizar o valor final de $\\theta$ para visualizar os limites de decisão dos dados de treinamento, como mostrado na figura abaixo.\n",
    "\n",
    "![](Figures/decision_boundary1.png)\n",
    "\n",
    "Para fazer isso, nós escrevemos a função `plotDecisionBoundary` para plotar os limites de decisão nesses dados. Você não precisa escrever nenhum código para plotar o limite de decisão, mas é indicado que você leia o código no arquivo `utils.py` que está disponível nesta pasta."
   ]
  },
  {
   "cell_type": "code",
   "execution_count": 41,
   "metadata": {
    "collapsed": false
   },
   "outputs": [
    {
     "ename": "IndexError",
     "evalue": "index 1 is out of bounds for axis 1 with size 1",
     "output_type": "error",
     "traceback": [
      "\u001b[0;31m---------------------------------------------------------------------------\u001b[0m",
      "\u001b[0;31mIndexError\u001b[0m                                Traceback (most recent call last)",
      "\u001b[0;32m<ipython-input-41-991b1d0c80a8>\u001b[0m in \u001b[0;36m<module>\u001b[0;34m()\u001b[0m\n\u001b[1;32m      1\u001b[0m \u001b[1;31m# Plot Boundary\u001b[0m\u001b[1;33m\u001b[0m\u001b[1;33m\u001b[0m\u001b[0m\n\u001b[0;32m----> 2\u001b[0;31m \u001b[0mutils\u001b[0m\u001b[1;33m.\u001b[0m\u001b[0mplotDecisionBoundary\u001b[0m\u001b[1;33m(\u001b[0m\u001b[0mplotData\u001b[0m\u001b[1;33m,\u001b[0m \u001b[0mtheta\u001b[0m\u001b[1;33m,\u001b[0m \u001b[0mX\u001b[0m\u001b[1;33m,\u001b[0m \u001b[0my\u001b[0m\u001b[1;33m)\u001b[0m\u001b[1;33m\u001b[0m\u001b[0m\n\u001b[0m",
      "\u001b[0;32mC:\\Users\\Jane\\Desktop\\ml-coursera-python-assignments-master\\Exercise2\\utils.py\u001b[0m in \u001b[0;36mplotDecisionBoundary\u001b[0;34m(plotData, theta, X, y)\u001b[0m\n\u001b[1;32m     71\u001b[0m \u001b[1;33m\u001b[0m\u001b[0m\n\u001b[1;32m     72\u001b[0m     \u001b[1;31m# Plot Data (remember first column in X is the intercept)\u001b[0m\u001b[1;33m\u001b[0m\u001b[1;33m\u001b[0m\u001b[0m\n\u001b[0;32m---> 73\u001b[0;31m     \u001b[0mplotData\u001b[0m\u001b[1;33m(\u001b[0m\u001b[0mX\u001b[0m\u001b[1;33m[\u001b[0m\u001b[1;33m:\u001b[0m\u001b[1;33m,\u001b[0m \u001b[1;36m1\u001b[0m\u001b[1;33m:\u001b[0m\u001b[1;36m3\u001b[0m\u001b[1;33m]\u001b[0m\u001b[1;33m,\u001b[0m \u001b[0my\u001b[0m\u001b[1;33m)\u001b[0m\u001b[1;33m\u001b[0m\u001b[0m\n\u001b[0m\u001b[1;32m     74\u001b[0m \u001b[1;33m\u001b[0m\u001b[0m\n\u001b[1;32m     75\u001b[0m     \u001b[1;32mif\u001b[0m \u001b[0mX\u001b[0m\u001b[1;33m.\u001b[0m\u001b[0mshape\u001b[0m\u001b[1;33m[\u001b[0m\u001b[1;36m1\u001b[0m\u001b[1;33m]\u001b[0m \u001b[1;33m<=\u001b[0m \u001b[1;36m3\u001b[0m\u001b[1;33m:\u001b[0m\u001b[1;33m\u001b[0m\u001b[0m\n",
      "\u001b[0;32m<ipython-input-23-43891ecd2b26>\u001b[0m in \u001b[0;36mplotData\u001b[0;34m(X, y)\u001b[0m\n\u001b[1;32m     27\u001b[0m \u001b[1;33m\u001b[0m\u001b[0m\n\u001b[1;32m     28\u001b[0m     \u001b[1;31m# Plot Examples\u001b[0m\u001b[1;33m\u001b[0m\u001b[1;33m\u001b[0m\u001b[0m\n\u001b[0;32m---> 29\u001b[0;31m     \u001b[0mpyplot\u001b[0m\u001b[1;33m.\u001b[0m\u001b[0mplot\u001b[0m\u001b[1;33m(\u001b[0m\u001b[0mX\u001b[0m\u001b[1;33m[\u001b[0m\u001b[0mpos\u001b[0m\u001b[1;33m,\u001b[0m \u001b[1;36m0\u001b[0m\u001b[1;33m]\u001b[0m\u001b[1;33m,\u001b[0m \u001b[0mX\u001b[0m\u001b[1;33m[\u001b[0m\u001b[0mpos\u001b[0m\u001b[1;33m,\u001b[0m \u001b[1;36m1\u001b[0m\u001b[1;33m]\u001b[0m\u001b[1;33m,\u001b[0m \u001b[1;34m'k*'\u001b[0m\u001b[1;33m,\u001b[0m \u001b[0mlw\u001b[0m\u001b[1;33m=\u001b[0m\u001b[1;36m2\u001b[0m\u001b[1;33m,\u001b[0m \u001b[0mms\u001b[0m\u001b[1;33m=\u001b[0m\u001b[1;36m10\u001b[0m\u001b[1;33m)\u001b[0m\u001b[1;33m\u001b[0m\u001b[0m\n\u001b[0m\u001b[1;32m     30\u001b[0m     \u001b[0mpyplot\u001b[0m\u001b[1;33m.\u001b[0m\u001b[0mplot\u001b[0m\u001b[1;33m(\u001b[0m\u001b[0mX\u001b[0m\u001b[1;33m[\u001b[0m\u001b[0mneg\u001b[0m\u001b[1;33m,\u001b[0m \u001b[1;36m0\u001b[0m\u001b[1;33m]\u001b[0m\u001b[1;33m,\u001b[0m \u001b[0mX\u001b[0m\u001b[1;33m[\u001b[0m\u001b[0mneg\u001b[0m\u001b[1;33m,\u001b[0m \u001b[1;36m1\u001b[0m\u001b[1;33m]\u001b[0m\u001b[1;33m,\u001b[0m \u001b[1;34m'ko'\u001b[0m\u001b[1;33m,\u001b[0m \u001b[0mmfc\u001b[0m\u001b[1;33m=\u001b[0m\u001b[1;34m'y'\u001b[0m\u001b[1;33m,\u001b[0m \u001b[0mms\u001b[0m\u001b[1;33m=\u001b[0m\u001b[1;36m8\u001b[0m\u001b[1;33m,\u001b[0m \u001b[0mmec\u001b[0m\u001b[1;33m=\u001b[0m\u001b[1;34m'k'\u001b[0m\u001b[1;33m,\u001b[0m \u001b[0mmew\u001b[0m\u001b[1;33m=\u001b[0m\u001b[1;36m1\u001b[0m\u001b[1;33m)\u001b[0m\u001b[1;33m\u001b[0m\u001b[0m\n\u001b[1;32m     31\u001b[0m \u001b[1;33m\u001b[0m\u001b[0m\n",
      "\u001b[0;31mIndexError\u001b[0m: index 1 is out of bounds for axis 1 with size 1"
     ]
    },
    {
     "data": {
      "text/plain": [
       "<matplotlib.figure.Figure at 0x978eac8>"
      ]
     },
     "metadata": {},
     "output_type": "display_data"
    }
   ],
   "source": [
    "# Plot Boundary\n",
    "utils.plotDecisionBoundary(plotData, theta, X, y)"
   ]
  },
  {
   "cell_type": "markdown",
   "metadata": {},
   "source": [
    "<a id=\"section4\"></a>\n",
    "#### 1.2.4 Avaliando a regressão logística\n",
    "\n",
    "Após o aprendizado dos parâmetros, nós podemos utilizar o modelo para prever se um estudante, em específico, será admitido ou não. Para um estudante com a nota da Prova 1 igual a 45 e da Prova 2 igual a 85, nós devemos prever uma probabilidade de admissão igual a 0,776. Outra forma de validar a qualidade dos parâmetros encontrados é observar se as previsões do nosso modelo de aprendizado são próximas do esperado para os nossos dados de treinamento. \n",
    "\n",
    "Nesta parte, a sua tarefa é completar o código da função `predict`. Esta função produzirá um valor binário (\"1\" ou \"0\") como previsão, a partir de um dataset e do vetor de parâmetros $\\theta$ já treinado.\n",
    "<a id=\"predict\"></a>"
   ]
  },
  {
   "cell_type": "code",
   "execution_count": 32,
   "metadata": {
    "collapsed": true
   },
   "outputs": [],
   "source": [
    "def predict(theta, X):\n",
    "    \"\"\"\n",
    "    Predict whether the label is 0 or 1 using learned logistic regression.\n",
    "    Computes the predictions for X using a threshold at 0.5 \n",
    "    (i.e., if sigmoid(theta.T*x) >= 0.5, predict 1)\n",
    "    \n",
    "    Parameters\n",
    "    ----------\n",
    "    theta : array_like\n",
    "        Parameters for logistic regression. A vecotor of shape (n+1, ).\n",
    "    \n",
    "    X : array_like\n",
    "        The data to use for computing predictions. The rows is the number \n",
    "        of points to compute predictions, and columns is the number of\n",
    "        features.\n",
    "\n",
    "    Returns\n",
    "    -------\n",
    "    p : array_like\n",
    "        Predictions and 0 or 1 for each row in X. \n",
    "    \n",
    "    Instructions\n",
    "    ------------\n",
    "    Complete the following code to make predictions using your learned \n",
    "    logistic regression parameters.You should set p to a vector of 0's and 1's    \n",
    "    \"\"\"\n",
    "    m = X.shape[0] # Number of training examples\n",
    "\n",
    "    # You need to return the following variables correctly\n",
    "    p = np.zeros(m)\n",
    "\n",
    "    # ====================== YOUR CODE HERE ======================\n",
    "\n",
    "    \n",
    "    \n",
    "    # ============================================================\n",
    "    return p"
   ]
  },
  {
   "cell_type": "markdown",
   "metadata": {},
   "source": [
    "Após completar o código de `predict`, nós produziremos os valores de acurácia de treinamento do nosso classificador, calculando a porcentagem de exemplos em que a previsão foi correta."
   ]
  },
  {
   "cell_type": "code",
   "execution_count": 33,
   "metadata": {
    "collapsed": false
   },
   "outputs": [
    {
     "name": "stdout",
     "output_type": "stream",
     "text": [
      "Para um aluno com notas iguais a 45 e 85,nós prevemos uma probabilidade de admissão igual a 0.000\n",
      "Valor esperado: 0.775 +/- 0.002\n",
      "\n",
      "Acurácia de treino: 40.00 %\n",
      "Acurácia esperada (aproximada): 89.00 %\n"
     ]
    }
   ],
   "source": [
    "#  Predict probability for a student with score 45 on exam 1 \n",
    "#  and score 85 on exam 2 \n",
    "prob = sigmoid(np.dot([1, 45, 85], theta))\n",
    "print('Para um aluno com notas iguais a 45 e 85,'\n",
    "      ' nós prevemos uma probabilidade de admissão igual a {:.3f}'.format(prob))\n",
    "print('Valor esperado: 0.775 +/- 0.002\\n')\n",
    "\n",
    "# Compute accuracy on our training set\n",
    "p = predict(theta, X)\n",
    "print('Acurácia de treino: {:.2f} %'.format(np.mean(p == y) * 100))\n",
    "print('Acurácia esperada (aproximada): 89.00 %')"
   ]
  },
  {
   "cell_type": "markdown",
   "metadata": {},
   "source": [
    "## 2 Regressão logística regularizada\n",
    "\n",
    "Nesta parte do exercício, nós implementaremos a regressão logística regularizada para prever se microchips de um fabricante serão aceitos no exame de garantia de qualidade. Nesse exame, cada microchip passa por vários testes, visando garantir o seu correto funcionamento. \n",
    "\n",
    "Suponha que você é o gerente de produção da fábrica e você possui os resultados de dois testes para alguns microchips. Para esses dois testes, você deve determinar se os microchips devem ser aceitos ou rejeitados. Para ajudar na tomada de decisão, você terá um dataset com os resultados dos teste de microships anteriores, a partir do qual você poderá construir um modelo de regressão logística.\n",
    "\n",
    "Primeiro, nós carregaremos os dados do arquivo CSV:"
   ]
  },
  {
   "cell_type": "code",
   "execution_count": 34,
   "metadata": {
    "collapsed": true
   },
   "outputs": [],
   "source": [
    "# Load Data\n",
    "# The first two columns contains the X values and the third column\n",
    "# contains the label (y).\n",
    "data = np.loadtxt(os.path.join('Data', 'ex2data2.txt'), delimiter=',')\n",
    "X = data[:, :2]\n",
    "y = data[:, 2]"
   ]
  },
  {
   "cell_type": "markdown",
   "metadata": {},
   "source": [
    "### 2.1 Visualização de dados\n",
    "\n",
    "De forma similar ao que foi feito nas partes anteriores deste exercício, `plotData` é utilizado para gerar uma figura em que os eixos são as notas dos dois testes, e os exemplos positivos (y = 1, aceito) e negativos (y = 0, rejeitado) são mostrados com marcadores diferentes."
   ]
  },
  {
   "cell_type": "code",
   "execution_count": 35,
   "metadata": {
    "collapsed": false
   },
   "outputs": [
    {
     "data": {
      "image/png": "[encoded data removed]",
      "text/plain": [
       "<matplotlib.figure.Figure at 0x9764320>"
      ]
     },
     "metadata": {},
     "output_type": "display_data"
    }
   ],
   "source": [
    "plotData(X, y)\n",
    "# Labels and Legend\n",
    "pyplot.xlabel('Teste 1')\n",
    "pyplot.ylabel('Teste 2')\n",
    "\n",
    "# Specified in plot order\n",
    "pyplot.legend(['y = 1', 'y = 0'], loc='upper right')\n",
    "pass"
   ]
  },
  {
   "cell_type": "markdown",
   "metadata": {},
   "source": [
    "A figura de cima mostra que o nosso dataset não esta dividido em exemplos positivos e negativos por uma linha reta através da plotagem. Portanto, a aplicação direta da regressão logística não terá uma boa performance neste dataset, uma vez que esta técnica só é capaz de encontrar um limite de decisão que seja linear.\n",
    "\n",
    "### 2.2 Mapeamento de features\n",
    "\n",
    "Uma forma de ajustar melhor os dados é criar mais features para cada dado. Na função `mapFeature` definida no arquivo `utils.py`, nós iremos mapear as features em todos os termos polinomiais de $x_1$ e $x_2$ até a sexta potência.\n",
    "\n",
    "$$ \\text{mapFeature}(x) = \\begin{bmatrix} 1 & x_1 & x_2 & x_1^2 & x_1 x_2 & x_2^2 & x_1^3 & \\dots & x_1 x_2^5 & x_2^6 \\end{bmatrix}^T $$\n",
    "\n",
    "Como resultado deste mapeamento, nosso vetor com duas features (as notas dos dois testes de qualidade) foi transformado em um vetor de 28 dimensões. Um classificador por regressão logística treinado com esse vetor de dimensão alta possui um limite de decisão mais complexo e, por isso, parecerá não-linear quando desenhado em uma gráfico bidimensional (2-D).\n",
    "\n",
    "Apesar de o mapeamento de features permitir a construção de um classificador mais robusto, a sua utilização também torna o modelo mais suscetível ao overfitting. Nas próximas partes do exercício, nós iremos implementar uma regressão logística regularizada para ajustar os dados e, assim, poderemos perceber como a regularização pode solucionar o problema de overfitting.\n"
   ]
  },
  {
   "cell_type": "code",
   "execution_count": 36,
   "metadata": {
    "collapsed": true
   },
   "outputs": [],
   "source": [
    "# Note that mapFeature also adds a column of ones for us, so the intercept\n",
    "# term is handled\n",
    "X = utils.mapFeature(X[:, 0], X[:, 1])"
   ]
  },
  {
   "cell_type": "markdown",
   "metadata": {},
   "source": [
    "<a id=\"section5\"></a>\n",
    "### 2.3 Função de custo e gradiente\n",
    "\n",
    "Agora nós implementaremos o código para calcular a função de custo e o gradiente para a regressão logística regularizada. Complete o código para a função `costFunctionReg` abaixo, que retornará o custo e o gradiente.\n",
    "\n",
    "Repare que a função de custo regularizada na regressão logística é\n",
    "\n",
    "$$ J(\\theta) = \\frac{1}{m} \\sum_{i=1}^m \\left[ -y^{(i)}\\log \\left( h_\\theta \\left(x^{(i)} \\right) \\right) - \\left( 1 - y^{(i)} \\right) \\log \\left( 1 - h_\\theta \\left( x^{(i)} \\right) \\right) \\right] + \\frac{\\lambda}{2m} \\sum_{j=1}^n \\theta_j^2 $$\n",
    "\n",
    "Note que você NÃO deve regularizar os parâmetros $\\theta_0$. O gradiente da função de custo é um vetor em que o $j^{th}$ elemento é definido como:\n",
    "$$ \\frac{\\partial J(\\theta)}{\\partial \\theta_0} = \\frac{1}{m} \\sum_{i=1}^m \\left( h_\\theta \\left(x^{(i)}\\right) - y^{(i)} \\right) x_j^{(i)} \\qquad \\text{para  } j =0 $$\n",
    "\n",
    "$$ \\frac{\\partial J(\\theta)}{\\partial \\theta_j} = \\left( \\frac{1}{m} \\sum_{i=1}^m \\left( h_\\theta \\left(x^{(i)}\\right) - y^{(i)} \\right) x_j^{(i)} \\right) + \\frac{\\lambda}{m}\\theta_j \\qquad \\text{para  } j \\ge 1 $$\n",
    "<a id=\"costFunctionReg\"></a>"
   ]
  },
  {
   "cell_type": "code",
   "execution_count": 37,
   "metadata": {
    "collapsed": true
   },
   "outputs": [],
   "source": [
    "def costFunctionReg(theta, X, y, lambda_):\n",
    "    \"\"\"\n",
    "    Compute cost and gradient for logistic regression with regularization.\n",
    "    \n",
    "    Parameters\n",
    "    ----------\n",
    "    theta : array_like\n",
    "        Logistic regression parameters. A vector with shape (n, ). n is \n",
    "        the number of features including any intercept. If we have mapped\n",
    "        our initial features into polynomial features, then n is the total \n",
    "        number of polynomial features. \n",
    "    \n",
    "    X : array_like\n",
    "        The data set with shape (m x n). m is the number of examples, and\n",
    "        n is the number of features (after feature mapping).\n",
    "    \n",
    "    y : array_like\n",
    "        The data labels. A vector with shape (m, ).\n",
    "    \n",
    "    lambda_ : float\n",
    "        The regularization parameter. \n",
    "    \n",
    "    Returns\n",
    "    -------\n",
    "    J : float\n",
    "        The computed value for the regularized cost function. \n",
    "    \n",
    "    grad : array_like\n",
    "        A vector of shape (n, ) which is the gradient of the cost\n",
    "        function with respect to theta, at the current values of theta.\n",
    "    \n",
    "    Instructions\n",
    "    ------------\n",
    "    Compute the cost `J` of a particular choice of theta.\n",
    "    Compute the partial derivatives and set `grad` to the partial\n",
    "    derivatives of the cost w.r.t. each parameter in theta.\n",
    "    \"\"\"\n",
    "    # Initialize some useful values\n",
    "    m = y.size  # number of training examples\n",
    "\n",
    "    # You need to return the following variables correctly \n",
    "    J = 0\n",
    "    grad = np.zeros(theta.shape)\n",
    "\n",
    "    # ===================== YOUR CODE HERE ======================\n",
    "\n",
    "    \n",
    "    \n",
    "    # =============================================================\n",
    "    return J, grad"
   ]
  },
  {
   "cell_type": "markdown",
   "metadata": {},
   "source": [
    "Uma vez que tivermos finalizado a função `costFunctionReg`, nós chamá-la-emos utilizando o valor inicial de $\\theta$ (inicializado com zeros), e então faremos outro teste para o caso em que todos os elementos de $\\theta$ são iguais a '1'."
   ]
  },
  {
   "cell_type": "code",
   "execution_count": 39,
   "metadata": {
    "collapsed": false
   },
   "outputs": [
    {
     "name": "stdout",
     "output_type": "stream",
     "text": [
      "Custo com o theta inicial (zeros): 0.000\n",
      "Custo esperado (aproximado)       : 0.693\n",
      "\n",
      "Gradiente com o theta inicial (zeros) - apenas os primeiros cinco valores:\n",
      "\t[0.0000, 0.0000, 0.0000, 0.0000, 0.0000]\n",
      "Gradiente esperado (aproximado) - apenas os primeiros cinco valores:\n",
      "\t[0.0085, 0.0188, 0.0001, 0.0503, 0.0115]\n",
      "\n",
      "------------------------------\n",
      "\n",
      "Custo com o theta de teste:  0.00\n",
      "Custo esperado (aproximado): 3.16\n",
      "\n",
      "Gradiente com o theta de teste - apenas os primeiros cinco valores:\n",
      "\t[0.0000, 0.0000, 0.0000, 0.0000, 0.0000]\n",
      "Gradiente esperado (aproximado) - apenas os primeiros cinco valores:\n",
      "\t[0.3460, 0.1614, 0.1948, 0.2269, 0.0922]\n"
     ]
    }
   ],
   "source": [
    "# Initialize fitting parameters\n",
    "initial_theta = np.zeros(X.shape[1])\n",
    "\n",
    "# Set regularization parameter lambda to 1\n",
    "# DO NOT use `lambda` as a variable name in python\n",
    "# because it is a python keyword\n",
    "lambda_ = 1\n",
    "\n",
    "# Compute and display initial cost and gradient for regularized logistic\n",
    "# regression\n",
    "cost, grad = costFunctionReg(initial_theta, X, y, lambda_)\n",
    "\n",
    "print('Custo com o theta inicial (zeros): {:.3f}'.format(cost))\n",
    "print('Custo esperado (aproximado)       : 0.693\\n')\n",
    "\n",
    "print('Gradiente com o theta inicial (zeros) - apenas os primeiros cinco valores:')\n",
    "print('\\t[{:.4f}, {:.4f}, {:.4f}, {:.4f}, {:.4f}]'.format(*grad[:5]))\n",
    "print('Gradiente esperado (aproximado) - apenas os primeiros cinco valores:')\n",
    "print('\\t[0.0085, 0.0188, 0.0001, 0.0503, 0.0115]\\n')\n",
    "\n",
    "\n",
    "# Compute and display cost and gradient\n",
    "# with all-ones theta and lambda = 10\n",
    "test_theta = np.ones(X.shape[1])\n",
    "cost, grad = costFunctionReg(test_theta, X, y, 10)\n",
    "\n",
    "print('------------------------------\\n')\n",
    "print('Custo com o theta de teste:  {:.2f}'.format(cost))\n",
    "print('Custo esperado (aproximado): 3.16\\n')\n",
    "\n",
    "print('Gradiente com o theta de teste - apenas os primeiros cinco valores:')\n",
    "print('\\t[{:.4f}, {:.4f}, {:.4f}, {:.4f}, {:.4f}]'.format(*grad[:5]))\n",
    "print('Gradiente esperado (aproximado) - apenas os primeiros cinco valores:')\n",
    "print('\\t[0.3460, 0.1614, 0.1948, 0.2269, 0.0922]')"
   ]
  },
  {
   "cell_type": "code",
   "execution_count": null,
   "metadata": {
    "collapsed": true
   },
   "outputs": [],
   "source": []
  },
  {
   "cell_type": "code",
   "execution_count": null,
   "metadata": {
    "collapsed": true
   },
   "outputs": [],
   "source": []
  },
  {
   "cell_type": "code",
   "execution_count": null,
   "metadata": {
    "collapsed": true
   },
   "outputs": [],
   "source": []
  }
 ],
 "metadata": {
  "anaconda-cloud": {},
  "kernelspec": {
   "display_name": "Python [default]",
   "language": "python",
   "name": "python3"
  },
  "language_info": {
   "codemirror_mode": {
    "name": "ipython",
    "version": 3
   },
   "file_extension": ".py",
   "mimetype": "text/x-python",
   "name": "python",
   "nbconvert_exporter": "python",
   "pygments_lexer": "ipython3",
   "version": "3.5.6"
  }
 },
 "nbformat": 4,
 "nbformat_minor": 2
}
